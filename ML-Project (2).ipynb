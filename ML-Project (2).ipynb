{
 "cells": [
  {
   "cell_type": "code",
   "execution_count": 1,
   "metadata": {},
   "outputs": [],
   "source": [
    "import numpy as np\n",
    "import pandas as pd\n",
    "import pandas_profiling\n",
    "import matplotlib.pyplot as plt\n",
    "import re\n",
    "import os\n",
    "import zlib\n",
    "from nltk.sentiment.vader import SentimentIntensityAnalyzer\n",
    "import sys\n",
    "import seaborn as sns\n",
    "from sklearn.cluster import KMeans"
   ]
  },
  {
   "cell_type": "code",
   "execution_count": null,
   "metadata": {},
   "outputs": [],
   "source": []
  },
  {
   "cell_type": "code",
   "execution_count": 2,
   "metadata": {},
   "outputs": [],
   "source": [
    "Spotify = pd.read_csv('SpotifyFeatures.csv')\n",
    "lyrics = pd.read_csv('only_lyrics.csv')"
   ]
  },
  {
   "cell_type": "code",
   "execution_count": 3,
   "metadata": {},
   "outputs": [
    {
     "data": {
      "text/html": [
       "<div>\n",
       "<style scoped>\n",
       "    .dataframe tbody tr th:only-of-type {\n",
       "        vertical-align: middle;\n",
       "    }\n",
       "\n",
       "    .dataframe tbody tr th {\n",
       "        vertical-align: top;\n",
       "    }\n",
       "\n",
       "    .dataframe thead th {\n",
       "        text-align: right;\n",
       "    }\n",
       "</style>\n",
       "<table border=\"1\" class=\"dataframe\">\n",
       "  <thead>\n",
       "    <tr style=\"text-align: right;\">\n",
       "      <th></th>\n",
       "      <th>genre</th>\n",
       "      <th>artist_name</th>\n",
       "      <th>track_name</th>\n",
       "      <th>track_id</th>\n",
       "      <th>popularity</th>\n",
       "      <th>acousticness</th>\n",
       "      <th>danceability</th>\n",
       "      <th>duration_ms</th>\n",
       "      <th>energy</th>\n",
       "      <th>instrumentalness</th>\n",
       "      <th>key</th>\n",
       "      <th>liveness</th>\n",
       "      <th>loudness</th>\n",
       "      <th>mode</th>\n",
       "      <th>speechiness</th>\n",
       "      <th>tempo</th>\n",
       "      <th>time_signature</th>\n",
       "      <th>valence</th>\n",
       "    </tr>\n",
       "  </thead>\n",
       "  <tbody>\n",
       "    <tr>\n",
       "      <th>0</th>\n",
       "      <td>Movie</td>\n",
       "      <td>Henri Salvador</td>\n",
       "      <td>C'est beau de faire un Show</td>\n",
       "      <td>0BRjO6ga9RKCKjfDqeFgWV</td>\n",
       "      <td>0</td>\n",
       "      <td>0.611</td>\n",
       "      <td>0.389</td>\n",
       "      <td>99373</td>\n",
       "      <td>0.91</td>\n",
       "      <td>0.0</td>\n",
       "      <td>C#</td>\n",
       "      <td>0.346</td>\n",
       "      <td>-1.828</td>\n",
       "      <td>Major</td>\n",
       "      <td>0.0525</td>\n",
       "      <td>166.969</td>\n",
       "      <td>4/4</td>\n",
       "      <td>0.814</td>\n",
       "    </tr>\n",
       "  </tbody>\n",
       "</table>\n",
       "</div>"
      ],
      "text/plain": [
       "   genre     artist_name                   track_name                track_id  \\\n",
       "0  Movie  Henri Salvador  C'est beau de faire un Show  0BRjO6ga9RKCKjfDqeFgWV   \n",
       "\n",
       "   popularity  acousticness  danceability  duration_ms  energy  \\\n",
       "0           0         0.611         0.389        99373    0.91   \n",
       "\n",
       "   instrumentalness key  liveness  loudness   mode  speechiness    tempo  \\\n",
       "0               0.0  C#     0.346    -1.828  Major       0.0525  166.969   \n",
       "\n",
       "  time_signature  valence  \n",
       "0            4/4    0.814  "
      ]
     },
     "execution_count": 3,
     "metadata": {},
     "output_type": "execute_result"
    }
   ],
   "source": [
    "Spotify.head(1)"
   ]
  },
  {
   "cell_type": "code",
   "execution_count": 4,
   "metadata": {},
   "outputs": [
    {
     "data": {
      "text/html": [
       "<div>\n",
       "<style scoped>\n",
       "    .dataframe tbody tr th:only-of-type {\n",
       "        vertical-align: middle;\n",
       "    }\n",
       "\n",
       "    .dataframe tbody tr th {\n",
       "        vertical-align: top;\n",
       "    }\n",
       "\n",
       "    .dataframe thead th {\n",
       "        text-align: right;\n",
       "    }\n",
       "</style>\n",
       "<table border=\"1\" class=\"dataframe\">\n",
       "  <thead>\n",
       "    <tr style=\"text-align: right;\">\n",
       "      <th></th>\n",
       "      <th>artist</th>\n",
       "      <th>song</th>\n",
       "      <th>link</th>\n",
       "      <th>text</th>\n",
       "    </tr>\n",
       "  </thead>\n",
       "  <tbody>\n",
       "    <tr>\n",
       "      <th>0</th>\n",
       "      <td>ABBA</td>\n",
       "      <td>Ahe's My Kind Of Girl</td>\n",
       "      <td>/a/abba/ahes+my+kind+of+girl_20598417.html</td>\n",
       "      <td>Look at her face, it's a wonderful face  \\nAnd...</td>\n",
       "    </tr>\n",
       "  </tbody>\n",
       "</table>\n",
       "</div>"
      ],
      "text/plain": [
       "  artist                   song                                        link  \\\n",
       "0   ABBA  Ahe's My Kind Of Girl  /a/abba/ahes+my+kind+of+girl_20598417.html   \n",
       "\n",
       "                                                text  \n",
       "0  Look at her face, it's a wonderful face  \\nAnd...  "
      ]
     },
     "execution_count": 4,
     "metadata": {},
     "output_type": "execute_result"
    }
   ],
   "source": [
    "lyrics.head(1)"
   ]
  },
  {
   "cell_type": "markdown",
   "metadata": {},
   "source": [
    "## Merging lyrics and the songs"
   ]
  },
  {
   "cell_type": "code",
   "execution_count": 5,
   "metadata": {},
   "outputs": [],
   "source": [
    "Spotify['track_name']=Spotify['track_name'].str.lower()\n",
    "Spotify['track_name']=Spotify['track_name'].str.strip()\n",
    "Spotify['artist_name']=Spotify['artist_name'].str.lower()\n",
    "Spotify['artist_name']=Spotify['artist_name'].str.strip()\n",
    "lyrics['song']=lyrics['song'].str.lower()\n",
    "lyrics['song']=lyrics['song'].str.strip()\n",
    "lyrics['artist']=lyrics['artist'].str.lower()\n",
    "lyrics['artist']=lyrics['artist'].str.strip()"
   ]
  },
  {
   "cell_type": "code",
   "execution_count": 6,
   "metadata": {},
   "outputs": [],
   "source": [
    "song_lyrics = Spotify.merge(lyrics, left_on=['track_name', 'artist_name'], right_on=['song', 'artist'])  "
   ]
  },
  {
   "cell_type": "code",
   "execution_count": 7,
   "metadata": {},
   "outputs": [],
   "source": [
    "song_lyrics =song_lyrics.sort_values(by=['popularity'],ascending=False)\n",
    "song_lyrics = song_lyrics.reset_index()\n"
   ]
  },
  {
   "cell_type": "code",
   "execution_count": 8,
   "metadata": {},
   "outputs": [
    {
     "data": {
      "text/html": [
       "<div>\n",
       "<style scoped>\n",
       "    .dataframe tbody tr th:only-of-type {\n",
       "        vertical-align: middle;\n",
       "    }\n",
       "\n",
       "    .dataframe tbody tr th {\n",
       "        vertical-align: top;\n",
       "    }\n",
       "\n",
       "    .dataframe thead th {\n",
       "        text-align: right;\n",
       "    }\n",
       "</style>\n",
       "<table border=\"1\" class=\"dataframe\">\n",
       "  <thead>\n",
       "    <tr style=\"text-align: right;\">\n",
       "      <th></th>\n",
       "      <th>genre</th>\n",
       "      <th>artist_name</th>\n",
       "      <th>track_name</th>\n",
       "      <th>track_id</th>\n",
       "      <th>popularity</th>\n",
       "      <th>acousticness</th>\n",
       "      <th>danceability</th>\n",
       "      <th>duration_ms</th>\n",
       "      <th>energy</th>\n",
       "      <th>instrumentalness</th>\n",
       "      <th>key</th>\n",
       "      <th>liveness</th>\n",
       "      <th>loudness</th>\n",
       "      <th>mode</th>\n",
       "      <th>speechiness</th>\n",
       "      <th>tempo</th>\n",
       "      <th>time_signature</th>\n",
       "      <th>valence</th>\n",
       "      <th>text</th>\n",
       "    </tr>\n",
       "  </thead>\n",
       "  <tbody>\n",
       "    <tr>\n",
       "      <th>0</th>\n",
       "      <td>Pop</td>\n",
       "      <td>ed sheeran</td>\n",
       "      <td>photograph</td>\n",
       "      <td>1HNkqx9Ahdgi1Ixy2xkKkL</td>\n",
       "      <td>86</td>\n",
       "      <td>0.607</td>\n",
       "      <td>0.614</td>\n",
       "      <td>258987</td>\n",
       "      <td>0.379</td>\n",
       "      <td>0.000464</td>\n",
       "      <td>E</td>\n",
       "      <td>0.0986</td>\n",
       "      <td>-10.480</td>\n",
       "      <td>Major</td>\n",
       "      <td>0.0476</td>\n",
       "      <td>107.989</td>\n",
       "      <td>4/4</td>\n",
       "      <td>0.201</td>\n",
       "      <td>[Verse 1]  \\nLoving can hurt, loving can hurt ...</td>\n",
       "    </tr>\n",
       "    <tr>\n",
       "      <th>1</th>\n",
       "      <td>Pop</td>\n",
       "      <td>sam smith</td>\n",
       "      <td>stay with me</td>\n",
       "      <td>5Nm9ERjJZ5oyfXZTECKmRt</td>\n",
       "      <td>85</td>\n",
       "      <td>0.588</td>\n",
       "      <td>0.418</td>\n",
       "      <td>172724</td>\n",
       "      <td>0.420</td>\n",
       "      <td>0.000064</td>\n",
       "      <td>C</td>\n",
       "      <td>0.1100</td>\n",
       "      <td>-6.444</td>\n",
       "      <td>Major</td>\n",
       "      <td>0.0414</td>\n",
       "      <td>84.094</td>\n",
       "      <td>4/4</td>\n",
       "      <td>0.184</td>\n",
       "      <td>[Verse 1:]  \\nGuess it's true, I'm not good at...</td>\n",
       "    </tr>\n",
       "    <tr>\n",
       "      <th>2</th>\n",
       "      <td>Rock</td>\n",
       "      <td>toto</td>\n",
       "      <td>africa</td>\n",
       "      <td>2374M0fQpWi3dLnB54qaLX</td>\n",
       "      <td>85</td>\n",
       "      <td>0.257</td>\n",
       "      <td>0.671</td>\n",
       "      <td>295893</td>\n",
       "      <td>0.373</td>\n",
       "      <td>0.000080</td>\n",
       "      <td>A</td>\n",
       "      <td>0.0481</td>\n",
       "      <td>-18.064</td>\n",
       "      <td>Major</td>\n",
       "      <td>0.0323</td>\n",
       "      <td>92.717</td>\n",
       "      <td>4/4</td>\n",
       "      <td>0.732</td>\n",
       "      <td>I hear the drums echoing tonight  \\nBut she he...</td>\n",
       "    </tr>\n",
       "    <tr>\n",
       "      <th>3</th>\n",
       "      <td>Pop</td>\n",
       "      <td>jason mraz</td>\n",
       "      <td>i'm yours</td>\n",
       "      <td>1EzrEOXmMH3G43AXT1y7pA</td>\n",
       "      <td>85</td>\n",
       "      <td>0.595</td>\n",
       "      <td>0.686</td>\n",
       "      <td>242187</td>\n",
       "      <td>0.457</td>\n",
       "      <td>0.000000</td>\n",
       "      <td>B</td>\n",
       "      <td>0.1050</td>\n",
       "      <td>-8.322</td>\n",
       "      <td>Major</td>\n",
       "      <td>0.0468</td>\n",
       "      <td>150.953</td>\n",
       "      <td>4/4</td>\n",
       "      <td>0.718</td>\n",
       "      <td>Well you done done me and you bet I felt it  \\...</td>\n",
       "    </tr>\n",
       "    <tr>\n",
       "      <th>4</th>\n",
       "      <td>Rock</td>\n",
       "      <td>jason mraz</td>\n",
       "      <td>i'm yours</td>\n",
       "      <td>1EzrEOXmMH3G43AXT1y7pA</td>\n",
       "      <td>85</td>\n",
       "      <td>0.595</td>\n",
       "      <td>0.686</td>\n",
       "      <td>242187</td>\n",
       "      <td>0.457</td>\n",
       "      <td>0.000000</td>\n",
       "      <td>B</td>\n",
       "      <td>0.1050</td>\n",
       "      <td>-8.322</td>\n",
       "      <td>Major</td>\n",
       "      <td>0.0468</td>\n",
       "      <td>150.953</td>\n",
       "      <td>4/4</td>\n",
       "      <td>0.718</td>\n",
       "      <td>Well you done done me and you bet I felt it  \\...</td>\n",
       "    </tr>\n",
       "  </tbody>\n",
       "</table>\n",
       "</div>"
      ],
      "text/plain": [
       "  genre artist_name    track_name                track_id  popularity  \\\n",
       "0   Pop  ed sheeran    photograph  1HNkqx9Ahdgi1Ixy2xkKkL          86   \n",
       "1   Pop   sam smith  stay with me  5Nm9ERjJZ5oyfXZTECKmRt          85   \n",
       "2  Rock        toto        africa  2374M0fQpWi3dLnB54qaLX          85   \n",
       "3   Pop  jason mraz     i'm yours  1EzrEOXmMH3G43AXT1y7pA          85   \n",
       "4  Rock  jason mraz     i'm yours  1EzrEOXmMH3G43AXT1y7pA          85   \n",
       "\n",
       "   acousticness  danceability  duration_ms  energy  instrumentalness key  \\\n",
       "0         0.607         0.614       258987   0.379          0.000464   E   \n",
       "1         0.588         0.418       172724   0.420          0.000064   C   \n",
       "2         0.257         0.671       295893   0.373          0.000080   A   \n",
       "3         0.595         0.686       242187   0.457          0.000000   B   \n",
       "4         0.595         0.686       242187   0.457          0.000000   B   \n",
       "\n",
       "   liveness  loudness   mode  speechiness    tempo time_signature  valence  \\\n",
       "0    0.0986   -10.480  Major       0.0476  107.989            4/4    0.201   \n",
       "1    0.1100    -6.444  Major       0.0414   84.094            4/4    0.184   \n",
       "2    0.0481   -18.064  Major       0.0323   92.717            4/4    0.732   \n",
       "3    0.1050    -8.322  Major       0.0468  150.953            4/4    0.718   \n",
       "4    0.1050    -8.322  Major       0.0468  150.953            4/4    0.718   \n",
       "\n",
       "                                                text  \n",
       "0  [Verse 1]  \\nLoving can hurt, loving can hurt ...  \n",
       "1  [Verse 1:]  \\nGuess it's true, I'm not good at...  \n",
       "2  I hear the drums echoing tonight  \\nBut she he...  \n",
       "3  Well you done done me and you bet I felt it  \\...  \n",
       "4  Well you done done me and you bet I felt it  \\...  "
      ]
     },
     "execution_count": 8,
     "metadata": {},
     "output_type": "execute_result"
    }
   ],
   "source": [
    "song_lyrics=song_lyrics.drop(['index','artist', 'song', 'link'], axis=1)\n",
    "song_lyrics.head()"
   ]
  },
  {
   "cell_type": "code",
   "execution_count": 9,
   "metadata": {},
   "outputs": [
    {
     "data": {
      "text/plain": [
       "(8472, 19)"
      ]
     },
     "execution_count": 9,
     "metadata": {},
     "output_type": "execute_result"
    }
   ],
   "source": [
    "song_lyrics.shape"
   ]
  },
  {
   "cell_type": "code",
   "execution_count": 10,
   "metadata": {},
   "outputs": [],
   "source": [
    "#clean_lyrics(song_lyrics.iloc[675,-1])"
   ]
  },
  {
   "cell_type": "markdown",
   "metadata": {},
   "source": [
    "## Pre-processing lyrics"
   ]
  },
  {
   "cell_type": "code",
   "execution_count": 11,
   "metadata": {},
   "outputs": [],
   "source": [
    "def clean_lyrics(lyrics):\n",
    "    new_lyrics = re.sub(r'[\\(\\[].*?[\\)\\]]', ' ', lyrics)\n",
    "    new_lyrics = new_lyrics.replace(\"\\n\", \" \")\n",
    "    #new_lyrics = new_lyrics.replace(\"\"\\\"\",\"\")\n",
    "    new_lyrics= new_lyrics.strip()\n",
    "    new_lyrics= new_lyrics.replace(\"    \", \" \")\n",
    "    new_lyrics= new_lyrics.replace(\"   \", \" \")\n",
    "    new_lyrics= new_lyrics.replace(\"  \", \" \")\n",
    "    new_lyrics = os.linesep.join([s for s in new_lyrics.splitlines() if s])\n",
    "    return(new_lyrics)"
   ]
  },
  {
   "cell_type": "code",
   "execution_count": 12,
   "metadata": {},
   "outputs": [],
   "source": [
    "def get_compression_rate(lyrics):\n",
    "    original = lyrics.encode('utf-8')\n",
    "    compressed = zlib.compress(original)\n",
    "    decompressed = zlib.decompress(compressed)\n",
    "    \n",
    "    compression_rate = (len(original)-len(compressed))/len(original)\n",
    "    return compression_rate"
   ]
  },
  {
   "cell_type": "code",
   "execution_count": 13,
   "metadata": {},
   "outputs": [],
   "source": [
    "#Apply clean_lyrics function to text column\n",
    "song_lyrics['text'] = song_lyrics['text'].map(clean_lyrics)\n",
    "\n",
    "#Append new column with compression rate\n",
    "song_lyrics['compression_rate'] = song_lyrics['text'].map(get_compression_rate)"
   ]
  },
  {
   "cell_type": "code",
   "execution_count": 14,
   "metadata": {},
   "outputs": [
    {
     "data": {
      "text/html": [
       "<div>\n",
       "<style scoped>\n",
       "    .dataframe tbody tr th:only-of-type {\n",
       "        vertical-align: middle;\n",
       "    }\n",
       "\n",
       "    .dataframe tbody tr th {\n",
       "        vertical-align: top;\n",
       "    }\n",
       "\n",
       "    .dataframe thead th {\n",
       "        text-align: right;\n",
       "    }\n",
       "</style>\n",
       "<table border=\"1\" class=\"dataframe\">\n",
       "  <thead>\n",
       "    <tr style=\"text-align: right;\">\n",
       "      <th></th>\n",
       "      <th>genre</th>\n",
       "      <th>artist_name</th>\n",
       "      <th>track_name</th>\n",
       "      <th>track_id</th>\n",
       "      <th>popularity</th>\n",
       "      <th>acousticness</th>\n",
       "      <th>danceability</th>\n",
       "      <th>duration_ms</th>\n",
       "      <th>energy</th>\n",
       "      <th>instrumentalness</th>\n",
       "      <th>key</th>\n",
       "      <th>liveness</th>\n",
       "      <th>loudness</th>\n",
       "      <th>mode</th>\n",
       "      <th>speechiness</th>\n",
       "      <th>tempo</th>\n",
       "      <th>time_signature</th>\n",
       "      <th>valence</th>\n",
       "      <th>text</th>\n",
       "      <th>compression_rate</th>\n",
       "    </tr>\n",
       "  </thead>\n",
       "  <tbody>\n",
       "    <tr>\n",
       "      <th>0</th>\n",
       "      <td>Pop</td>\n",
       "      <td>ed sheeran</td>\n",
       "      <td>photograph</td>\n",
       "      <td>1HNkqx9Ahdgi1Ixy2xkKkL</td>\n",
       "      <td>86</td>\n",
       "      <td>0.607</td>\n",
       "      <td>0.614</td>\n",
       "      <td>258987</td>\n",
       "      <td>0.379</td>\n",
       "      <td>0.000464</td>\n",
       "      <td>E</td>\n",
       "      <td>0.0986</td>\n",
       "      <td>-10.480</td>\n",
       "      <td>Major</td>\n",
       "      <td>0.0476</td>\n",
       "      <td>107.989</td>\n",
       "      <td>4/4</td>\n",
       "      <td>0.201</td>\n",
       "      <td>Loving can hurt, loving can hurt sometimes. Bu...</td>\n",
       "      <td>0.643378</td>\n",
       "    </tr>\n",
       "    <tr>\n",
       "      <th>1</th>\n",
       "      <td>Pop</td>\n",
       "      <td>sam smith</td>\n",
       "      <td>stay with me</td>\n",
       "      <td>5Nm9ERjJZ5oyfXZTECKmRt</td>\n",
       "      <td>85</td>\n",
       "      <td>0.588</td>\n",
       "      <td>0.418</td>\n",
       "      <td>172724</td>\n",
       "      <td>0.420</td>\n",
       "      <td>0.000064</td>\n",
       "      <td>C</td>\n",
       "      <td>0.1100</td>\n",
       "      <td>-6.444</td>\n",
       "      <td>Major</td>\n",
       "      <td>0.0414</td>\n",
       "      <td>84.094</td>\n",
       "      <td>4/4</td>\n",
       "      <td>0.184</td>\n",
       "      <td>Guess it's true, I'm not good at a one-night s...</td>\n",
       "      <td>0.640961</td>\n",
       "    </tr>\n",
       "    <tr>\n",
       "      <th>2</th>\n",
       "      <td>Rock</td>\n",
       "      <td>toto</td>\n",
       "      <td>africa</td>\n",
       "      <td>2374M0fQpWi3dLnB54qaLX</td>\n",
       "      <td>85</td>\n",
       "      <td>0.257</td>\n",
       "      <td>0.671</td>\n",
       "      <td>295893</td>\n",
       "      <td>0.373</td>\n",
       "      <td>0.000080</td>\n",
       "      <td>A</td>\n",
       "      <td>0.0481</td>\n",
       "      <td>-18.064</td>\n",
       "      <td>Major</td>\n",
       "      <td>0.0323</td>\n",
       "      <td>92.717</td>\n",
       "      <td>4/4</td>\n",
       "      <td>0.732</td>\n",
       "      <td>I hear the drums echoing tonight But she hears...</td>\n",
       "      <td>0.637233</td>\n",
       "    </tr>\n",
       "    <tr>\n",
       "      <th>3</th>\n",
       "      <td>Pop</td>\n",
       "      <td>jason mraz</td>\n",
       "      <td>i'm yours</td>\n",
       "      <td>1EzrEOXmMH3G43AXT1y7pA</td>\n",
       "      <td>85</td>\n",
       "      <td>0.595</td>\n",
       "      <td>0.686</td>\n",
       "      <td>242187</td>\n",
       "      <td>0.457</td>\n",
       "      <td>0.000000</td>\n",
       "      <td>B</td>\n",
       "      <td>0.1050</td>\n",
       "      <td>-8.322</td>\n",
       "      <td>Major</td>\n",
       "      <td>0.0468</td>\n",
       "      <td>150.953</td>\n",
       "      <td>4/4</td>\n",
       "      <td>0.718</td>\n",
       "      <td>Well you done done me and you bet I felt it I ...</td>\n",
       "      <td>0.556986</td>\n",
       "    </tr>\n",
       "    <tr>\n",
       "      <th>4</th>\n",
       "      <td>Rock</td>\n",
       "      <td>jason mraz</td>\n",
       "      <td>i'm yours</td>\n",
       "      <td>1EzrEOXmMH3G43AXT1y7pA</td>\n",
       "      <td>85</td>\n",
       "      <td>0.595</td>\n",
       "      <td>0.686</td>\n",
       "      <td>242187</td>\n",
       "      <td>0.457</td>\n",
       "      <td>0.000000</td>\n",
       "      <td>B</td>\n",
       "      <td>0.1050</td>\n",
       "      <td>-8.322</td>\n",
       "      <td>Major</td>\n",
       "      <td>0.0468</td>\n",
       "      <td>150.953</td>\n",
       "      <td>4/4</td>\n",
       "      <td>0.718</td>\n",
       "      <td>Well you done done me and you bet I felt it I ...</td>\n",
       "      <td>0.556986</td>\n",
       "    </tr>\n",
       "  </tbody>\n",
       "</table>\n",
       "</div>"
      ],
      "text/plain": [
       "  genre artist_name    track_name                track_id  popularity  \\\n",
       "0   Pop  ed sheeran    photograph  1HNkqx9Ahdgi1Ixy2xkKkL          86   \n",
       "1   Pop   sam smith  stay with me  5Nm9ERjJZ5oyfXZTECKmRt          85   \n",
       "2  Rock        toto        africa  2374M0fQpWi3dLnB54qaLX          85   \n",
       "3   Pop  jason mraz     i'm yours  1EzrEOXmMH3G43AXT1y7pA          85   \n",
       "4  Rock  jason mraz     i'm yours  1EzrEOXmMH3G43AXT1y7pA          85   \n",
       "\n",
       "   acousticness  danceability  duration_ms  energy  instrumentalness key  \\\n",
       "0         0.607         0.614       258987   0.379          0.000464   E   \n",
       "1         0.588         0.418       172724   0.420          0.000064   C   \n",
       "2         0.257         0.671       295893   0.373          0.000080   A   \n",
       "3         0.595         0.686       242187   0.457          0.000000   B   \n",
       "4         0.595         0.686       242187   0.457          0.000000   B   \n",
       "\n",
       "   liveness  loudness   mode  speechiness    tempo time_signature  valence  \\\n",
       "0    0.0986   -10.480  Major       0.0476  107.989            4/4    0.201   \n",
       "1    0.1100    -6.444  Major       0.0414   84.094            4/4    0.184   \n",
       "2    0.0481   -18.064  Major       0.0323   92.717            4/4    0.732   \n",
       "3    0.1050    -8.322  Major       0.0468  150.953            4/4    0.718   \n",
       "4    0.1050    -8.322  Major       0.0468  150.953            4/4    0.718   \n",
       "\n",
       "                                                text  compression_rate  \n",
       "0  Loving can hurt, loving can hurt sometimes. Bu...          0.643378  \n",
       "1  Guess it's true, I'm not good at a one-night s...          0.640961  \n",
       "2  I hear the drums echoing tonight But she hears...          0.637233  \n",
       "3  Well you done done me and you bet I felt it I ...          0.556986  \n",
       "4  Well you done done me and you bet I felt it I ...          0.556986  "
      ]
     },
     "execution_count": 14,
     "metadata": {},
     "output_type": "execute_result"
    }
   ],
   "source": [
    "song_lyrics.head()"
   ]
  },
  {
   "cell_type": "code",
   "execution_count": 15,
   "metadata": {},
   "outputs": [],
   "source": [
    "#Drop duplicates\n",
    "song_lyrics = song_lyrics.sort_values(by='popularity', ascending=False)\n",
    "song_lyrics = song_lyrics.drop_duplicates(subset='track_id', keep=\"first\")"
   ]
  },
  {
   "cell_type": "code",
   "execution_count": 20,
   "metadata": {},
   "outputs": [
    {
     "data": {
      "text/html": [
       "<div>\n",
       "<style scoped>\n",
       "    .dataframe tbody tr th:only-of-type {\n",
       "        vertical-align: middle;\n",
       "    }\n",
       "\n",
       "    .dataframe tbody tr th {\n",
       "        vertical-align: top;\n",
       "    }\n",
       "\n",
       "    .dataframe thead th {\n",
       "        text-align: right;\n",
       "    }\n",
       "</style>\n",
       "<table border=\"1\" class=\"dataframe\">\n",
       "  <thead>\n",
       "    <tr style=\"text-align: right;\">\n",
       "      <th></th>\n",
       "      <th>genre</th>\n",
       "      <th>artist_name</th>\n",
       "      <th>track_name</th>\n",
       "      <th>track_id</th>\n",
       "      <th>popularity</th>\n",
       "      <th>acousticness</th>\n",
       "      <th>danceability</th>\n",
       "      <th>duration_ms</th>\n",
       "      <th>energy</th>\n",
       "      <th>instrumentalness</th>\n",
       "      <th>key</th>\n",
       "      <th>liveness</th>\n",
       "      <th>loudness</th>\n",
       "      <th>mode</th>\n",
       "      <th>speechiness</th>\n",
       "      <th>tempo</th>\n",
       "      <th>time_signature</th>\n",
       "      <th>valence</th>\n",
       "      <th>text</th>\n",
       "      <th>compression_rate</th>\n",
       "    </tr>\n",
       "  </thead>\n",
       "  <tbody>\n",
       "    <tr>\n",
       "      <th>0</th>\n",
       "      <td>Pop</td>\n",
       "      <td>ed sheeran</td>\n",
       "      <td>photograph</td>\n",
       "      <td>1HNkqx9Ahdgi1Ixy2xkKkL</td>\n",
       "      <td>86</td>\n",
       "      <td>0.607</td>\n",
       "      <td>0.614</td>\n",
       "      <td>258987</td>\n",
       "      <td>0.379</td>\n",
       "      <td>0.000464</td>\n",
       "      <td>E</td>\n",
       "      <td>0.0986</td>\n",
       "      <td>-10.480</td>\n",
       "      <td>Major</td>\n",
       "      <td>0.0476</td>\n",
       "      <td>107.989</td>\n",
       "      <td>4/4</td>\n",
       "      <td>0.201</td>\n",
       "      <td>Loving can hurt, loving can hurt sometimes. Bu...</td>\n",
       "      <td>0.643378</td>\n",
       "    </tr>\n",
       "    <tr>\n",
       "      <th>2</th>\n",
       "      <td>Rock</td>\n",
       "      <td>toto</td>\n",
       "      <td>africa</td>\n",
       "      <td>2374M0fQpWi3dLnB54qaLX</td>\n",
       "      <td>85</td>\n",
       "      <td>0.257</td>\n",
       "      <td>0.671</td>\n",
       "      <td>295893</td>\n",
       "      <td>0.373</td>\n",
       "      <td>0.000080</td>\n",
       "      <td>A</td>\n",
       "      <td>0.0481</td>\n",
       "      <td>-18.064</td>\n",
       "      <td>Major</td>\n",
       "      <td>0.0323</td>\n",
       "      <td>92.717</td>\n",
       "      <td>4/4</td>\n",
       "      <td>0.732</td>\n",
       "      <td>I hear the drums echoing tonight But she hears...</td>\n",
       "      <td>0.637233</td>\n",
       "    </tr>\n",
       "    <tr>\n",
       "      <th>3</th>\n",
       "      <td>Pop</td>\n",
       "      <td>jason mraz</td>\n",
       "      <td>i'm yours</td>\n",
       "      <td>1EzrEOXmMH3G43AXT1y7pA</td>\n",
       "      <td>85</td>\n",
       "      <td>0.595</td>\n",
       "      <td>0.686</td>\n",
       "      <td>242187</td>\n",
       "      <td>0.457</td>\n",
       "      <td>0.000000</td>\n",
       "      <td>B</td>\n",
       "      <td>0.1050</td>\n",
       "      <td>-8.322</td>\n",
       "      <td>Major</td>\n",
       "      <td>0.0468</td>\n",
       "      <td>150.953</td>\n",
       "      <td>4/4</td>\n",
       "      <td>0.718</td>\n",
       "      <td>Well you done done me and you bet I felt it I ...</td>\n",
       "      <td>0.556986</td>\n",
       "    </tr>\n",
       "    <tr>\n",
       "      <th>5</th>\n",
       "      <td>Pop</td>\n",
       "      <td>ed sheeran</td>\n",
       "      <td>thinking out loud</td>\n",
       "      <td>34gCuhDGsG4bRPIf9bb02f</td>\n",
       "      <td>85</td>\n",
       "      <td>0.474</td>\n",
       "      <td>0.781</td>\n",
       "      <td>281560</td>\n",
       "      <td>0.445</td>\n",
       "      <td>0.000000</td>\n",
       "      <td>D</td>\n",
       "      <td>0.1840</td>\n",
       "      <td>-6.061</td>\n",
       "      <td>Major</td>\n",
       "      <td>0.0295</td>\n",
       "      <td>78.998</td>\n",
       "      <td>4/4</td>\n",
       "      <td>0.591</td>\n",
       "      <td>When your legs don't work like they used to be...</td>\n",
       "      <td>0.623063</td>\n",
       "    </tr>\n",
       "    <tr>\n",
       "      <th>1</th>\n",
       "      <td>Pop</td>\n",
       "      <td>sam smith</td>\n",
       "      <td>stay with me</td>\n",
       "      <td>5Nm9ERjJZ5oyfXZTECKmRt</td>\n",
       "      <td>85</td>\n",
       "      <td>0.588</td>\n",
       "      <td>0.418</td>\n",
       "      <td>172724</td>\n",
       "      <td>0.420</td>\n",
       "      <td>0.000064</td>\n",
       "      <td>C</td>\n",
       "      <td>0.1100</td>\n",
       "      <td>-6.444</td>\n",
       "      <td>Major</td>\n",
       "      <td>0.0414</td>\n",
       "      <td>84.094</td>\n",
       "      <td>4/4</td>\n",
       "      <td>0.184</td>\n",
       "      <td>Guess it's true, I'm not good at a one-night s...</td>\n",
       "      <td>0.640961</td>\n",
       "    </tr>\n",
       "  </tbody>\n",
       "</table>\n",
       "</div>"
      ],
      "text/plain": [
       "  genre artist_name         track_name                track_id  popularity  \\\n",
       "0   Pop  ed sheeran         photograph  1HNkqx9Ahdgi1Ixy2xkKkL          86   \n",
       "2  Rock        toto             africa  2374M0fQpWi3dLnB54qaLX          85   \n",
       "3   Pop  jason mraz          i'm yours  1EzrEOXmMH3G43AXT1y7pA          85   \n",
       "5   Pop  ed sheeran  thinking out loud  34gCuhDGsG4bRPIf9bb02f          85   \n",
       "1   Pop   sam smith       stay with me  5Nm9ERjJZ5oyfXZTECKmRt          85   \n",
       "\n",
       "   acousticness  danceability  duration_ms  energy  instrumentalness key  \\\n",
       "0         0.607         0.614       258987   0.379          0.000464   E   \n",
       "2         0.257         0.671       295893   0.373          0.000080   A   \n",
       "3         0.595         0.686       242187   0.457          0.000000   B   \n",
       "5         0.474         0.781       281560   0.445          0.000000   D   \n",
       "1         0.588         0.418       172724   0.420          0.000064   C   \n",
       "\n",
       "   liveness  loudness   mode  speechiness    tempo time_signature  valence  \\\n",
       "0    0.0986   -10.480  Major       0.0476  107.989            4/4    0.201   \n",
       "2    0.0481   -18.064  Major       0.0323   92.717            4/4    0.732   \n",
       "3    0.1050    -8.322  Major       0.0468  150.953            4/4    0.718   \n",
       "5    0.1840    -6.061  Major       0.0295   78.998            4/4    0.591   \n",
       "1    0.1100    -6.444  Major       0.0414   84.094            4/4    0.184   \n",
       "\n",
       "                                                text  compression_rate  \n",
       "0  Loving can hurt, loving can hurt sometimes. Bu...          0.643378  \n",
       "2  I hear the drums echoing tonight But she hears...          0.637233  \n",
       "3  Well you done done me and you bet I felt it I ...          0.556986  \n",
       "5  When your legs don't work like they used to be...          0.623063  \n",
       "1  Guess it's true, I'm not good at a one-night s...          0.640961  "
      ]
     },
     "execution_count": 20,
     "metadata": {},
     "output_type": "execute_result"
    }
   ],
   "source": [
    "song_lyrics.head()"
   ]
  },
  {
   "cell_type": "markdown",
   "metadata": {},
   "source": [
    "### Addition of sentment analysis (+,-,=) values"
   ]
  },
  {
   "cell_type": "code",
   "execution_count": 19,
   "metadata": {},
   "outputs": [
    {
     "data": {
      "text/html": [
       "<div>\n",
       "<style scoped>\n",
       "    .dataframe tbody tr th:only-of-type {\n",
       "        vertical-align: middle;\n",
       "    }\n",
       "\n",
       "    .dataframe tbody tr th {\n",
       "        vertical-align: top;\n",
       "    }\n",
       "\n",
       "    .dataframe thead th {\n",
       "        text-align: right;\n",
       "    }\n",
       "</style>\n",
       "<table border=\"1\" class=\"dataframe\">\n",
       "  <thead>\n",
       "    <tr style=\"text-align: right;\">\n",
       "      <th></th>\n",
       "      <th>id</th>\n",
       "      <th>senti_positive</th>\n",
       "      <th>senti_neutral</th>\n",
       "      <th>senti_negative</th>\n",
       "    </tr>\n",
       "  </thead>\n",
       "  <tbody>\n",
       "    <tr>\n",
       "      <th>0</th>\n",
       "      <td>1HNkqx9Ahdgi1Ixy2xkKkL</td>\n",
       "      <td>6</td>\n",
       "      <td>310</td>\n",
       "      <td>5</td>\n",
       "    </tr>\n",
       "    <tr>\n",
       "      <th>1</th>\n",
       "      <td>2374M0fQpWi3dLnB54qaLX</td>\n",
       "      <td>0</td>\n",
       "      <td>268</td>\n",
       "      <td>0</td>\n",
       "    </tr>\n",
       "    <tr>\n",
       "      <th>2</th>\n",
       "      <td>1EzrEOXmMH3G43AXT1y7pA</td>\n",
       "      <td>13</td>\n",
       "      <td>302</td>\n",
       "      <td>0</td>\n",
       "    </tr>\n",
       "    <tr>\n",
       "      <th>3</th>\n",
       "      <td>34gCuhDGsG4bRPIf9bb02f</td>\n",
       "      <td>16</td>\n",
       "      <td>310</td>\n",
       "      <td>0</td>\n",
       "    </tr>\n",
       "    <tr>\n",
       "      <th>4</th>\n",
       "      <td>5Nm9ERjJZ5oyfXZTECKmRt</td>\n",
       "      <td>10</td>\n",
       "      <td>152</td>\n",
       "      <td>1</td>\n",
       "    </tr>\n",
       "  </tbody>\n",
       "</table>\n",
       "</div>"
      ],
      "text/plain": [
       "                       id senti_positive senti_neutral senti_negative\n",
       "0  1HNkqx9Ahdgi1Ixy2xkKkL              6           310              5\n",
       "1  2374M0fQpWi3dLnB54qaLX              0           268              0\n",
       "2  1EzrEOXmMH3G43AXT1y7pA             13           302              0\n",
       "3  34gCuhDGsG4bRPIf9bb02f             16           310              0\n",
       "4  5Nm9ERjJZ5oyfXZTECKmRt             10           152              1"
      ]
     },
     "execution_count": 19,
     "metadata": {},
     "output_type": "execute_result"
    }
   ],
   "source": [
    "sia=SentimentIntensityAnalyzer()\n",
    "sentiment = pd.DataFrame(columns=('id','senti_positive', 'senti_neutral', 'senti_negative'))\n",
    "for i in range(len(song_lyrics['text'])):\n",
    "    num_positive = 0\n",
    "    num_negative = 0\n",
    "    num_neutral = 0\n",
    "    lyric= song_lyrics.iloc[i,-2]\n",
    "    for j in lyric.split():\n",
    "        comp = sia.polarity_scores(j)\n",
    "        comp = comp['compound']\n",
    "        #print(test)\n",
    "        if comp >= 0.5:\n",
    "            num_positive += 1\n",
    "            #print('positive:',i)\n",
    "        elif comp > -0.5 and comp < 0.5:\n",
    "            num_neutral += 1\n",
    "        else:\n",
    "            num_negative += 1\n",
    "        #print('negative:',i)\n",
    "    sentiment.loc[i] = (song_lyrics.iloc[i,3],num_positive,num_neutral,num_negative)\n",
    "#num_total = num_negative + num_neutral + num_positive\n",
    "#print('Total score:',num_total)\n",
    "#print('Negative score:',num_negative)\n",
    "#print('Neutral score:',num_neutral)\n",
    "#print('Positive score:',num_positive)\n",
    "sentiment.head()"
   ]
  },
  {
   "cell_type": "code",
   "execution_count": 18,
   "metadata": {},
   "outputs": [
    {
     "data": {
      "text/plain": [
       "(5274, 4)"
      ]
     },
     "execution_count": 18,
     "metadata": {},
     "output_type": "execute_result"
    }
   ],
   "source": [
    "sentiment.shape"
   ]
  },
  {
   "cell_type": "code",
   "execution_count": 24,
   "metadata": {},
   "outputs": [
    {
     "data": {
      "text/html": [
       "<div>\n",
       "<style scoped>\n",
       "    .dataframe tbody tr th:only-of-type {\n",
       "        vertical-align: middle;\n",
       "    }\n",
       "\n",
       "    .dataframe tbody tr th {\n",
       "        vertical-align: top;\n",
       "    }\n",
       "\n",
       "    .dataframe thead th {\n",
       "        text-align: right;\n",
       "    }\n",
       "</style>\n",
       "<table border=\"1\" class=\"dataframe\">\n",
       "  <thead>\n",
       "    <tr style=\"text-align: right;\">\n",
       "      <th></th>\n",
       "      <th>genre</th>\n",
       "      <th>artist_name</th>\n",
       "      <th>track_name</th>\n",
       "      <th>track_id</th>\n",
       "      <th>popularity</th>\n",
       "      <th>acousticness</th>\n",
       "      <th>danceability</th>\n",
       "      <th>duration_ms</th>\n",
       "      <th>energy</th>\n",
       "      <th>instrumentalness</th>\n",
       "      <th>...</th>\n",
       "      <th>speechiness</th>\n",
       "      <th>tempo</th>\n",
       "      <th>time_signature</th>\n",
       "      <th>valence</th>\n",
       "      <th>text</th>\n",
       "      <th>compression_rate</th>\n",
       "      <th>id</th>\n",
       "      <th>senti_positive</th>\n",
       "      <th>senti_neutral</th>\n",
       "      <th>senti_negative</th>\n",
       "    </tr>\n",
       "  </thead>\n",
       "  <tbody>\n",
       "    <tr>\n",
       "      <th>0</th>\n",
       "      <td>Pop</td>\n",
       "      <td>ed sheeran</td>\n",
       "      <td>photograph</td>\n",
       "      <td>1HNkqx9Ahdgi1Ixy2xkKkL</td>\n",
       "      <td>86</td>\n",
       "      <td>0.607</td>\n",
       "      <td>0.614</td>\n",
       "      <td>258987</td>\n",
       "      <td>0.379</td>\n",
       "      <td>0.000464</td>\n",
       "      <td>...</td>\n",
       "      <td>0.0476</td>\n",
       "      <td>107.989</td>\n",
       "      <td>4/4</td>\n",
       "      <td>0.201</td>\n",
       "      <td>Loving can hurt, loving can hurt sometimes. Bu...</td>\n",
       "      <td>0.643378</td>\n",
       "      <td>1HNkqx9Ahdgi1Ixy2xkKkL</td>\n",
       "      <td>6</td>\n",
       "      <td>310</td>\n",
       "      <td>5</td>\n",
       "    </tr>\n",
       "    <tr>\n",
       "      <th>1</th>\n",
       "      <td>Rock</td>\n",
       "      <td>toto</td>\n",
       "      <td>africa</td>\n",
       "      <td>2374M0fQpWi3dLnB54qaLX</td>\n",
       "      <td>85</td>\n",
       "      <td>0.257</td>\n",
       "      <td>0.671</td>\n",
       "      <td>295893</td>\n",
       "      <td>0.373</td>\n",
       "      <td>0.000080</td>\n",
       "      <td>...</td>\n",
       "      <td>0.0323</td>\n",
       "      <td>92.717</td>\n",
       "      <td>4/4</td>\n",
       "      <td>0.732</td>\n",
       "      <td>I hear the drums echoing tonight But she hears...</td>\n",
       "      <td>0.637233</td>\n",
       "      <td>2374M0fQpWi3dLnB54qaLX</td>\n",
       "      <td>0</td>\n",
       "      <td>268</td>\n",
       "      <td>0</td>\n",
       "    </tr>\n",
       "    <tr>\n",
       "      <th>2</th>\n",
       "      <td>Pop</td>\n",
       "      <td>jason mraz</td>\n",
       "      <td>i'm yours</td>\n",
       "      <td>1EzrEOXmMH3G43AXT1y7pA</td>\n",
       "      <td>85</td>\n",
       "      <td>0.595</td>\n",
       "      <td>0.686</td>\n",
       "      <td>242187</td>\n",
       "      <td>0.457</td>\n",
       "      <td>0.000000</td>\n",
       "      <td>...</td>\n",
       "      <td>0.0468</td>\n",
       "      <td>150.953</td>\n",
       "      <td>4/4</td>\n",
       "      <td>0.718</td>\n",
       "      <td>Well you done done me and you bet I felt it I ...</td>\n",
       "      <td>0.556986</td>\n",
       "      <td>1EzrEOXmMH3G43AXT1y7pA</td>\n",
       "      <td>13</td>\n",
       "      <td>302</td>\n",
       "      <td>0</td>\n",
       "    </tr>\n",
       "    <tr>\n",
       "      <th>3</th>\n",
       "      <td>Pop</td>\n",
       "      <td>ed sheeran</td>\n",
       "      <td>thinking out loud</td>\n",
       "      <td>34gCuhDGsG4bRPIf9bb02f</td>\n",
       "      <td>85</td>\n",
       "      <td>0.474</td>\n",
       "      <td>0.781</td>\n",
       "      <td>281560</td>\n",
       "      <td>0.445</td>\n",
       "      <td>0.000000</td>\n",
       "      <td>...</td>\n",
       "      <td>0.0295</td>\n",
       "      <td>78.998</td>\n",
       "      <td>4/4</td>\n",
       "      <td>0.591</td>\n",
       "      <td>When your legs don't work like they used to be...</td>\n",
       "      <td>0.623063</td>\n",
       "      <td>34gCuhDGsG4bRPIf9bb02f</td>\n",
       "      <td>16</td>\n",
       "      <td>310</td>\n",
       "      <td>0</td>\n",
       "    </tr>\n",
       "    <tr>\n",
       "      <th>4</th>\n",
       "      <td>Pop</td>\n",
       "      <td>sam smith</td>\n",
       "      <td>stay with me</td>\n",
       "      <td>5Nm9ERjJZ5oyfXZTECKmRt</td>\n",
       "      <td>85</td>\n",
       "      <td>0.588</td>\n",
       "      <td>0.418</td>\n",
       "      <td>172724</td>\n",
       "      <td>0.420</td>\n",
       "      <td>0.000064</td>\n",
       "      <td>...</td>\n",
       "      <td>0.0414</td>\n",
       "      <td>84.094</td>\n",
       "      <td>4/4</td>\n",
       "      <td>0.184</td>\n",
       "      <td>Guess it's true, I'm not good at a one-night s...</td>\n",
       "      <td>0.640961</td>\n",
       "      <td>5Nm9ERjJZ5oyfXZTECKmRt</td>\n",
       "      <td>10</td>\n",
       "      <td>152</td>\n",
       "      <td>1</td>\n",
       "    </tr>\n",
       "  </tbody>\n",
       "</table>\n",
       "<p>5 rows × 24 columns</p>\n",
       "</div>"
      ],
      "text/plain": [
       "  genre artist_name         track_name                track_id  popularity  \\\n",
       "0   Pop  ed sheeran         photograph  1HNkqx9Ahdgi1Ixy2xkKkL          86   \n",
       "1  Rock        toto             africa  2374M0fQpWi3dLnB54qaLX          85   \n",
       "2   Pop  jason mraz          i'm yours  1EzrEOXmMH3G43AXT1y7pA          85   \n",
       "3   Pop  ed sheeran  thinking out loud  34gCuhDGsG4bRPIf9bb02f          85   \n",
       "4   Pop   sam smith       stay with me  5Nm9ERjJZ5oyfXZTECKmRt          85   \n",
       "\n",
       "   acousticness  danceability  duration_ms  energy  instrumentalness  ...  \\\n",
       "0         0.607         0.614       258987   0.379          0.000464  ...   \n",
       "1         0.257         0.671       295893   0.373          0.000080  ...   \n",
       "2         0.595         0.686       242187   0.457          0.000000  ...   \n",
       "3         0.474         0.781       281560   0.445          0.000000  ...   \n",
       "4         0.588         0.418       172724   0.420          0.000064  ...   \n",
       "\n",
       "  speechiness    tempo  time_signature valence  \\\n",
       "0      0.0476  107.989             4/4   0.201   \n",
       "1      0.0323   92.717             4/4   0.732   \n",
       "2      0.0468  150.953             4/4   0.718   \n",
       "3      0.0295   78.998             4/4   0.591   \n",
       "4      0.0414   84.094             4/4   0.184   \n",
       "\n",
       "                                                text  compression_rate  \\\n",
       "0  Loving can hurt, loving can hurt sometimes. Bu...          0.643378   \n",
       "1  I hear the drums echoing tonight But she hears...          0.637233   \n",
       "2  Well you done done me and you bet I felt it I ...          0.556986   \n",
       "3  When your legs don't work like they used to be...          0.623063   \n",
       "4  Guess it's true, I'm not good at a one-night s...          0.640961   \n",
       "\n",
       "                       id  senti_positive senti_neutral  senti_negative  \n",
       "0  1HNkqx9Ahdgi1Ixy2xkKkL               6           310               5  \n",
       "1  2374M0fQpWi3dLnB54qaLX               0           268               0  \n",
       "2  1EzrEOXmMH3G43AXT1y7pA              13           302               0  \n",
       "3  34gCuhDGsG4bRPIf9bb02f              16           310               0  \n",
       "4  5Nm9ERjJZ5oyfXZTECKmRt              10           152               1  \n",
       "\n",
       "[5 rows x 24 columns]"
      ]
     },
     "execution_count": 24,
     "metadata": {},
     "output_type": "execute_result"
    }
   ],
   "source": [
    "song_lyrics = song_lyrics.merge(sentiment, left_on=['track_id'], right_on=['id'])\n",
    "song_lyrics.head()"
   ]
  },
  {
   "cell_type": "code",
   "execution_count": 26,
   "metadata": {},
   "outputs": [],
   "source": [
    "song_lyrics=song_lyrics.drop(['id'], axis=1)"
   ]
  },
  {
   "cell_type": "code",
   "execution_count": 27,
   "metadata": {},
   "outputs": [
    {
     "data": {
      "text/plain": [
       "(5274, 23)"
      ]
     },
     "execution_count": 27,
     "metadata": {},
     "output_type": "execute_result"
    }
   ],
   "source": [
    "song_lyrics.shape"
   ]
  },
  {
   "cell_type": "code",
   "execution_count": 28,
   "metadata": {},
   "outputs": [],
   "source": [
    "song_lyrics['senti_total']=song_lyrics['senti_positive']-song_lyrics['senti_negative']"
   ]
  },
  {
   "cell_type": "code",
   "execution_count": 29,
   "metadata": {},
   "outputs": [
    {
     "data": {
      "text/html": [
       "<div>\n",
       "<style scoped>\n",
       "    .dataframe tbody tr th:only-of-type {\n",
       "        vertical-align: middle;\n",
       "    }\n",
       "\n",
       "    .dataframe tbody tr th {\n",
       "        vertical-align: top;\n",
       "    }\n",
       "\n",
       "    .dataframe thead th {\n",
       "        text-align: right;\n",
       "    }\n",
       "</style>\n",
       "<table border=\"1\" class=\"dataframe\">\n",
       "  <thead>\n",
       "    <tr style=\"text-align: right;\">\n",
       "      <th></th>\n",
       "      <th>genre</th>\n",
       "      <th>artist_name</th>\n",
       "      <th>track_name</th>\n",
       "      <th>track_id</th>\n",
       "      <th>popularity</th>\n",
       "      <th>acousticness</th>\n",
       "      <th>danceability</th>\n",
       "      <th>duration_ms</th>\n",
       "      <th>energy</th>\n",
       "      <th>instrumentalness</th>\n",
       "      <th>...</th>\n",
       "      <th>speechiness</th>\n",
       "      <th>tempo</th>\n",
       "      <th>time_signature</th>\n",
       "      <th>valence</th>\n",
       "      <th>text</th>\n",
       "      <th>compression_rate</th>\n",
       "      <th>senti_positive</th>\n",
       "      <th>senti_neutral</th>\n",
       "      <th>senti_negative</th>\n",
       "      <th>senti_total</th>\n",
       "    </tr>\n",
       "  </thead>\n",
       "  <tbody>\n",
       "    <tr>\n",
       "      <th>0</th>\n",
       "      <td>Pop</td>\n",
       "      <td>ed sheeran</td>\n",
       "      <td>photograph</td>\n",
       "      <td>1HNkqx9Ahdgi1Ixy2xkKkL</td>\n",
       "      <td>86</td>\n",
       "      <td>0.607</td>\n",
       "      <td>0.614</td>\n",
       "      <td>258987</td>\n",
       "      <td>0.379</td>\n",
       "      <td>0.000464</td>\n",
       "      <td>...</td>\n",
       "      <td>0.0476</td>\n",
       "      <td>107.989</td>\n",
       "      <td>4/4</td>\n",
       "      <td>0.201</td>\n",
       "      <td>Loving can hurt, loving can hurt sometimes. Bu...</td>\n",
       "      <td>0.643378</td>\n",
       "      <td>6</td>\n",
       "      <td>310</td>\n",
       "      <td>5</td>\n",
       "      <td>1</td>\n",
       "    </tr>\n",
       "    <tr>\n",
       "      <th>1</th>\n",
       "      <td>Rock</td>\n",
       "      <td>toto</td>\n",
       "      <td>africa</td>\n",
       "      <td>2374M0fQpWi3dLnB54qaLX</td>\n",
       "      <td>85</td>\n",
       "      <td>0.257</td>\n",
       "      <td>0.671</td>\n",
       "      <td>295893</td>\n",
       "      <td>0.373</td>\n",
       "      <td>0.000080</td>\n",
       "      <td>...</td>\n",
       "      <td>0.0323</td>\n",
       "      <td>92.717</td>\n",
       "      <td>4/4</td>\n",
       "      <td>0.732</td>\n",
       "      <td>I hear the drums echoing tonight But she hears...</td>\n",
       "      <td>0.637233</td>\n",
       "      <td>0</td>\n",
       "      <td>268</td>\n",
       "      <td>0</td>\n",
       "      <td>0</td>\n",
       "    </tr>\n",
       "    <tr>\n",
       "      <th>2</th>\n",
       "      <td>Pop</td>\n",
       "      <td>jason mraz</td>\n",
       "      <td>i'm yours</td>\n",
       "      <td>1EzrEOXmMH3G43AXT1y7pA</td>\n",
       "      <td>85</td>\n",
       "      <td>0.595</td>\n",
       "      <td>0.686</td>\n",
       "      <td>242187</td>\n",
       "      <td>0.457</td>\n",
       "      <td>0.000000</td>\n",
       "      <td>...</td>\n",
       "      <td>0.0468</td>\n",
       "      <td>150.953</td>\n",
       "      <td>4/4</td>\n",
       "      <td>0.718</td>\n",
       "      <td>Well you done done me and you bet I felt it I ...</td>\n",
       "      <td>0.556986</td>\n",
       "      <td>13</td>\n",
       "      <td>302</td>\n",
       "      <td>0</td>\n",
       "      <td>13</td>\n",
       "    </tr>\n",
       "    <tr>\n",
       "      <th>3</th>\n",
       "      <td>Pop</td>\n",
       "      <td>ed sheeran</td>\n",
       "      <td>thinking out loud</td>\n",
       "      <td>34gCuhDGsG4bRPIf9bb02f</td>\n",
       "      <td>85</td>\n",
       "      <td>0.474</td>\n",
       "      <td>0.781</td>\n",
       "      <td>281560</td>\n",
       "      <td>0.445</td>\n",
       "      <td>0.000000</td>\n",
       "      <td>...</td>\n",
       "      <td>0.0295</td>\n",
       "      <td>78.998</td>\n",
       "      <td>4/4</td>\n",
       "      <td>0.591</td>\n",
       "      <td>When your legs don't work like they used to be...</td>\n",
       "      <td>0.623063</td>\n",
       "      <td>16</td>\n",
       "      <td>310</td>\n",
       "      <td>0</td>\n",
       "      <td>16</td>\n",
       "    </tr>\n",
       "    <tr>\n",
       "      <th>4</th>\n",
       "      <td>Pop</td>\n",
       "      <td>sam smith</td>\n",
       "      <td>stay with me</td>\n",
       "      <td>5Nm9ERjJZ5oyfXZTECKmRt</td>\n",
       "      <td>85</td>\n",
       "      <td>0.588</td>\n",
       "      <td>0.418</td>\n",
       "      <td>172724</td>\n",
       "      <td>0.420</td>\n",
       "      <td>0.000064</td>\n",
       "      <td>...</td>\n",
       "      <td>0.0414</td>\n",
       "      <td>84.094</td>\n",
       "      <td>4/4</td>\n",
       "      <td>0.184</td>\n",
       "      <td>Guess it's true, I'm not good at a one-night s...</td>\n",
       "      <td>0.640961</td>\n",
       "      <td>10</td>\n",
       "      <td>152</td>\n",
       "      <td>1</td>\n",
       "      <td>9</td>\n",
       "    </tr>\n",
       "  </tbody>\n",
       "</table>\n",
       "<p>5 rows × 24 columns</p>\n",
       "</div>"
      ],
      "text/plain": [
       "  genre artist_name         track_name                track_id  popularity  \\\n",
       "0   Pop  ed sheeran         photograph  1HNkqx9Ahdgi1Ixy2xkKkL          86   \n",
       "1  Rock        toto             africa  2374M0fQpWi3dLnB54qaLX          85   \n",
       "2   Pop  jason mraz          i'm yours  1EzrEOXmMH3G43AXT1y7pA          85   \n",
       "3   Pop  ed sheeran  thinking out loud  34gCuhDGsG4bRPIf9bb02f          85   \n",
       "4   Pop   sam smith       stay with me  5Nm9ERjJZ5oyfXZTECKmRt          85   \n",
       "\n",
       "   acousticness  danceability  duration_ms  energy  instrumentalness  ...  \\\n",
       "0         0.607         0.614       258987   0.379          0.000464  ...   \n",
       "1         0.257         0.671       295893   0.373          0.000080  ...   \n",
       "2         0.595         0.686       242187   0.457          0.000000  ...   \n",
       "3         0.474         0.781       281560   0.445          0.000000  ...   \n",
       "4         0.588         0.418       172724   0.420          0.000064  ...   \n",
       "\n",
       "  speechiness    tempo  time_signature valence  \\\n",
       "0      0.0476  107.989             4/4   0.201   \n",
       "1      0.0323   92.717             4/4   0.732   \n",
       "2      0.0468  150.953             4/4   0.718   \n",
       "3      0.0295   78.998             4/4   0.591   \n",
       "4      0.0414   84.094             4/4   0.184   \n",
       "\n",
       "                                                text  compression_rate  \\\n",
       "0  Loving can hurt, loving can hurt sometimes. Bu...          0.643378   \n",
       "1  I hear the drums echoing tonight But she hears...          0.637233   \n",
       "2  Well you done done me and you bet I felt it I ...          0.556986   \n",
       "3  When your legs don't work like they used to be...          0.623063   \n",
       "4  Guess it's true, I'm not good at a one-night s...          0.640961   \n",
       "\n",
       "  senti_positive  senti_neutral senti_negative  senti_total  \n",
       "0              6            310              5            1  \n",
       "1              0            268              0            0  \n",
       "2             13            302              0           13  \n",
       "3             16            310              0           16  \n",
       "4             10            152              1            9  \n",
       "\n",
       "[5 rows x 24 columns]"
      ]
     },
     "execution_count": 29,
     "metadata": {},
     "output_type": "execute_result"
    }
   ],
   "source": [
    "song_lyrics.head()"
   ]
  },
  {
   "cell_type": "markdown",
   "metadata": {},
   "source": [
    "## Addition of classes"
   ]
  },
  {
   "cell_type": "code",
   "execution_count": 31,
   "metadata": {},
   "outputs": [
    {
     "data": {
      "text/plain": [
       "<matplotlib.axes._subplots.AxesSubplot at 0x216e8c8ff60>"
      ]
     },
     "execution_count": 31,
     "metadata": {},
     "output_type": "execute_result"
    },
    {
     "data": {
      "image/png": "[encoded data removed]",
      "text/plain": [
       "<Figure size 432x288 with 1 Axes>"
      ]
     },
     "metadata": {
      "needs_background": "light"
     },
     "output_type": "display_data"
    }
   ],
   "source": [
    "quantile=song_lyrics['popularity'].quantile(np.arange(0, 1.01, 0.01).tolist())\n",
    "quantile=quantile.reset_index()\n",
    "quantile.rename(columns={'index':'quantile'}, inplace=True)\n",
    "sns.lineplot(quantile['popularity'],quantile['quantile'])"
   ]
  },
  {
   "cell_type": "code",
   "execution_count": 32,
   "metadata": {},
   "outputs": [],
   "source": [
    "kmeans = KMeans(n_clusters=5)\n",
    "kmeans.fit(quantile)\n",
    "quantile['cluster']=kmeans.predict(quantile)"
   ]
  },
  {
   "cell_type": "code",
   "execution_count": 33,
   "metadata": {},
   "outputs": [
    {
     "data": {
      "text/plain": [
       "<matplotlib.collections.PathCollection at 0x216e918cb70>"
      ]
     },
     "execution_count": 33,
     "metadata": {},
     "output_type": "execute_result"
    },
    {
     "data": {
      "image/png": "[encoded data removed]",
      "text/plain": [
       "<Figure size 432x288 with 1 Axes>"
      ]
     },
     "metadata": {
      "needs_background": "light"
     },
     "output_type": "display_data"
    }
   ],
   "source": [
    "plt.scatter(quantile['popularity'],quantile['cluster'])"
   ]
  },
  {
   "cell_type": "code",
   "execution_count": 34,
   "metadata": {},
   "outputs": [
    {
     "name": "stdout",
     "output_type": "stream",
     "text": [
      "1 63.0 86.0\n",
      "2 20.0 37.0\n",
      "3 50.0 62.0\n",
      "4 0.0 0.0\n",
      "0 38.0 49.0\n"
     ]
    }
   ],
   "source": [
    "one=quantile[quantile.cluster==1]\n",
    "two=quantile[quantile.cluster==2]\n",
    "three=quantile[quantile.cluster==3]\n",
    "zero=quantile[quantile.cluster==0]\n",
    "four=quantile[quantile.cluster==4]\n",
    "min_one=np.min(one['popularity'])\n",
    "max_one=np.max(one['popularity'])\n",
    "min_two=np.min(two['popularity'])\n",
    "max_two=np.max(two['popularity'])\n",
    "min_three=np.min(three['popularity'])\n",
    "max_three=np.max(three['popularity'])\n",
    "min_zero=np.min(zero['popularity'])\n",
    "max_zero=np.max(zero['popularity'])\n",
    "min_four=np.min(four['popularity'])\n",
    "max_four=np.max(four['popularity'])\n",
    "print(1,min_one,max_one)\n",
    "print(2,min_two,max_two)\n",
    "print(3,min_three,max_three)\n",
    "print(4,min_four,max_four)\n",
    "print(0,min_zero,max_zero)"
   ]
  },
  {
   "cell_type": "code",
   "execution_count": 35,
   "metadata": {},
   "outputs": [
    {
     "data": {
      "text/html": [
       "<div>\n",
       "<style scoped>\n",
       "    .dataframe tbody tr th:only-of-type {\n",
       "        vertical-align: middle;\n",
       "    }\n",
       "\n",
       "    .dataframe tbody tr th {\n",
       "        vertical-align: top;\n",
       "    }\n",
       "\n",
       "    .dataframe thead th {\n",
       "        text-align: right;\n",
       "    }\n",
       "</style>\n",
       "<table border=\"1\" class=\"dataframe\">\n",
       "  <thead>\n",
       "    <tr style=\"text-align: right;\">\n",
       "      <th></th>\n",
       "      <th>genre</th>\n",
       "      <th>artist_name</th>\n",
       "      <th>track_name</th>\n",
       "      <th>track_id</th>\n",
       "      <th>popularity</th>\n",
       "      <th>acousticness</th>\n",
       "      <th>danceability</th>\n",
       "      <th>duration_ms</th>\n",
       "      <th>energy</th>\n",
       "      <th>instrumentalness</th>\n",
       "      <th>...</th>\n",
       "      <th>tempo</th>\n",
       "      <th>time_signature</th>\n",
       "      <th>valence</th>\n",
       "      <th>text</th>\n",
       "      <th>compression_rate</th>\n",
       "      <th>senti_positive</th>\n",
       "      <th>senti_neutral</th>\n",
       "      <th>senti_negative</th>\n",
       "      <th>senti_total</th>\n",
       "      <th>label</th>\n",
       "    </tr>\n",
       "  </thead>\n",
       "  <tbody>\n",
       "    <tr>\n",
       "      <th>5273</th>\n",
       "      <td>Country</td>\n",
       "      <td>kris kristofferson</td>\n",
       "      <td>why me</td>\n",
       "      <td>5xpd9uCrrCnh7ssgoAnAFK</td>\n",
       "      <td>0</td>\n",
       "      <td>0.861</td>\n",
       "      <td>0.626</td>\n",
       "      <td>177840</td>\n",
       "      <td>0.255</td>\n",
       "      <td>0.0</td>\n",
       "      <td>...</td>\n",
       "      <td>91.624</td>\n",
       "      <td>3/4</td>\n",
       "      <td>0.492</td>\n",
       "      <td>Why me Lord what have I ever done to deserve e...</td>\n",
       "      <td>0.504505</td>\n",
       "      <td>1</td>\n",
       "      <td>118</td>\n",
       "      <td>0</td>\n",
       "      <td>1</td>\n",
       "      <td>0</td>\n",
       "    </tr>\n",
       "  </tbody>\n",
       "</table>\n",
       "<p>1 rows × 25 columns</p>\n",
       "</div>"
      ],
      "text/plain": [
       "        genre         artist_name track_name                track_id  \\\n",
       "5273  Country  kris kristofferson     why me  5xpd9uCrrCnh7ssgoAnAFK   \n",
       "\n",
       "      popularity  acousticness  danceability  duration_ms  energy  \\\n",
       "5273           0         0.861         0.626       177840   0.255   \n",
       "\n",
       "      instrumentalness  ...   tempo  time_signature  valence  \\\n",
       "5273               0.0  ...  91.624             3/4    0.492   \n",
       "\n",
       "                                                   text  compression_rate  \\\n",
       "5273  Why me Lord what have I ever done to deserve e...          0.504505   \n",
       "\n",
       "      senti_positive senti_neutral  senti_negative senti_total  label  \n",
       "5273               1           118               0           1      0  \n",
       "\n",
       "[1 rows x 25 columns]"
      ]
     },
     "execution_count": 35,
     "metadata": {},
     "output_type": "execute_result"
    }
   ],
   "source": [
    "conditions = [\n",
    "    (song_lyrics['popularity'] >= 78)&(song_lyrics['popularity'] <=100),\n",
    "    (song_lyrics['popularity'] >= 55)&(song_lyrics['popularity'] <=77),\n",
    "    (song_lyrics['popularity'] >= 39)&(song_lyrics['popularity'] <=54),\n",
    "    (song_lyrics['popularity'] >= 19)&(song_lyrics['popularity'] <=38),\n",
    "    (song_lyrics['popularity'] >= 18)&(song_lyrics['popularity'] <=0)]\n",
    "choices = [4, 3, 2,1,0]\n",
    "song_lyrics['label'] = np.select(conditions, choices)\n",
    "song_lyrics.tail(1)"
   ]
  },
  {
   "cell_type": "code",
   "execution_count": null,
   "metadata": {},
   "outputs": [],
   "source": [
    "\n"
   ]
  },
  {
   "cell_type": "code",
   "execution_count": 36,
   "metadata": {},
   "outputs": [
    {
     "data": {
      "text/plain": [
       "(array([ 13.,   1.,   6.,  21.,  28.,  93., 217., 254., 366., 457., 668.,\n",
       "        645., 640., 689., 427., 301., 250., 122.,  54.,  22.]),\n",
       " array([ 0. ,  4.3,  8.6, 12.9, 17.2, 21.5, 25.8, 30.1, 34.4, 38.7, 43. ,\n",
       "        47.3, 51.6, 55.9, 60.2, 64.5, 68.8, 73.1, 77.4, 81.7, 86. ]),\n",
       " <a list of 20 Patch objects>)"
      ]
     },
     "execution_count": 36,
     "metadata": {},
     "output_type": "execute_result"
    },
    {
     "data": {
      "image/png": "[encoded data removed]",
      "text/plain": [
       "<Figure size 432x288 with 1 Axes>"
      ]
     },
     "metadata": {
      "needs_background": "light"
     },
     "output_type": "display_data"
    }
   ],
   "source": [
    "plt.hist(song_lyrics['popularity'], bins=20)"
   ]
  },
  {
   "cell_type": "code",
   "execution_count": 37,
   "metadata": {},
   "outputs": [
    {
     "data": {
      "text/plain": [
       "<matplotlib.axes._subplots.AxesSubplot at 0x216e8da8ac8>"
      ]
     },
     "execution_count": 37,
     "metadata": {},
     "output_type": "execute_result"
    },
    {
     "data": {
      "image/png": "[encoded data removed]",
      "text/plain": [
       "<Figure size 432x288 with 1 Axes>"
      ]
     },
     "metadata": {
      "needs_background": "light"
     },
     "output_type": "display_data"
    }
   ],
   "source": [
    "sns.distplot(song_lyrics['popularity'])"
   ]
  },
  {
   "cell_type": "code",
   "execution_count": 38,
   "metadata": {},
   "outputs": [
    {
     "data": {
      "text/plain": [
       "<matplotlib.axes._subplots.AxesSubplot at 0x216eb3add68>"
      ]
     },
     "execution_count": 38,
     "metadata": {},
     "output_type": "execute_result"
    },
    {
     "data": {
      "image/png": "[encoded data removed]",
      "text/plain": [
       "<Figure size 432x288 with 1 Axes>"
      ]
     },
     "metadata": {
      "needs_background": "light"
     },
     "output_type": "display_data"
    }
   ],
   "source": [
    "sns.distplot(song_lyrics['compression_rate'])"
   ]
  },
  {
   "cell_type": "code",
   "execution_count": 39,
   "metadata": {},
   "outputs": [
    {
     "data": {
      "text/plain": [
       "<matplotlib.collections.PathCollection at 0x216edbe1320>"
      ]
     },
     "execution_count": 39,
     "metadata": {},
     "output_type": "execute_result"
    },
    {
     "data": {
      "image/png": "[encoded data removed]",
      "text/plain": [
       "<Figure size 432x288 with 1 Axes>"
      ]
     },
     "metadata": {
      "needs_background": "light"
     },
     "output_type": "display_data"
    }
   ],
   "source": [
    "plt.scatter(song_lyrics['popularity'],song_lyrics['senti_positive'] )"
   ]
  },
  {
   "cell_type": "code",
   "execution_count": 40,
   "metadata": {},
   "outputs": [
    {
     "data": {
      "text/plain": [
       "<matplotlib.collections.PathCollection at 0x216edc470f0>"
      ]
     },
     "execution_count": 40,
     "metadata": {},
     "output_type": "execute_result"
    },
    {
     "data": {
      "image/png": "[encoded data removed]",
      "text/plain": [
       "<Figure size 432x288 with 1 Axes>"
      ]
     },
     "metadata": {
      "needs_background": "light"
     },
     "output_type": "display_data"
    }
   ],
   "source": [
    "plt.scatter(song_lyrics['popularity'],song_lyrics['senti_neutral'] )"
   ]
  },
  {
   "cell_type": "code",
   "execution_count": 41,
   "metadata": {},
   "outputs": [
    {
     "data": {
      "text/plain": [
       "<matplotlib.collections.PathCollection at 0x216edca1f28>"
      ]
     },
     "execution_count": 41,
     "metadata": {},
     "output_type": "execute_result"
    },
    {
     "data": {
      "image/png": "[encoded data removed]",
      "text/plain": [
       "<Figure size 432x288 with 1 Axes>"
      ]
     },
     "metadata": {
      "needs_background": "light"
     },
     "output_type": "display_data"
    }
   ],
   "source": [
    "plt.scatter(song_lyrics['popularity'],song_lyrics['senti_negative'] )"
   ]
  },
  {
   "cell_type": "code",
   "execution_count": 30,
   "metadata": {},
   "outputs": [
    {
     "data": {
      "text/plain": [
       "<matplotlib.collections.PathCollection at 0x216e8c8f400>"
      ]
     },
     "execution_count": 30,
     "metadata": {},
     "output_type": "execute_result"
    },
    {
     "data": {
      "image/png": "[encoded data removed]",
      "text/plain": [
       "<Figure size 432x288 with 1 Axes>"
      ]
     },
     "metadata": {
      "needs_background": "light"
     },
     "output_type": "display_data"
    }
   ],
   "source": [
    "plt.scatter(song_lyrics['popularity'],song_lyrics['senti_total'] )"
   ]
  },
  {
   "cell_type": "code",
   "execution_count": null,
   "metadata": {},
   "outputs": [],
   "source": [
    "plt.scatter(song_lyrics['popularity'],song_lyrics['acousticness'] )"
   ]
  },
  {
   "cell_type": "code",
   "execution_count": null,
   "metadata": {},
   "outputs": [],
   "source": [
    "plt.scatter(song_lyrics['popularity'],song_lyrics['compression_rate'] )"
   ]
  },
  {
   "cell_type": "code",
   "execution_count": null,
   "metadata": {},
   "outputs": [],
   "source": [
    "plt.scatter(song_lyrics['popularity'],song_lyrics['valence'] )"
   ]
  },
  {
   "cell_type": "code",
   "execution_count": null,
   "metadata": {},
   "outputs": [],
   "source": [
    "plt.scatter(song_lyrics['popularity'],song_lyrics['speechiness'] )"
   ]
  },
  {
   "cell_type": "code",
   "execution_count": null,
   "metadata": {},
   "outputs": [],
   "source": [
    "plt.scatter(song_lyrics['popularity'],song_lyrics['speechiness'] )"
   ]
  }
 ],
 "metadata": {
  "kernelspec": {
   "display_name": "Python 3",
   "language": "python",
   "name": "python3"
  },
  "language_info": {
   "codemirror_mode": {
    "name": "ipython",
    "version": 3
   },
   "file_extension": ".py",
   "mimetype": "text/x-python",
   "name": "python",
   "nbconvert_exporter": "python",
   "pygments_lexer": "ipython3",
   "version": "3.7.3"
  }
 },
 "nbformat": 4,
 "nbformat_minor": 4
}
