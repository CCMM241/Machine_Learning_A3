{
 "cells": [
  {
   "cell_type": "code",
   "execution_count": 1,
   "metadata": {},
   "outputs": [],
   "source": [
    "\"\"\"\n",
    "This is a skeleton code to our project\n",
    "\"\"\"\n",
    "import pandas as pd\n",
    "from sklearn.linear_model import LogisticRegression\n",
    "from sklearn.ensemble import RandomForestClassifier\n",
    "from sklearn.neighbors import KNeighborsClassifier\n",
    "from sklearn.tree import DecisionTreeClassifier\n",
    "from sklearn.discriminant_analysis import LinearDiscriminantAnalysis\n",
    "from sklearn import svm  \n",
    "from sklearn.ensemble import AdaBoostClassifier\n",
    "\n",
    "from sklearn.metrics import make_scorer, accuracy_score, roc_auc_score \n",
    "from sklearn.model_selection import train_test_split"
   ]
  },
  {
   "cell_type": "code",
   "execution_count": 2,
   "metadata": {},
   "outputs": [],
   "source": [
    "#features contains the list of dimensions\n",
    "features = []"
   ]
  },
  {
   "cell_type": "code",
   "execution_count": null,
   "metadata": {},
   "outputs": [],
   "source": [
    "#Add trainingdata here"
   ]
  },
  {
   "cell_type": "code",
   "execution_count": 5,
   "metadata": {},
   "outputs": [
    {
     "ename": "SyntaxError",
     "evalue": "invalid syntax (<ipython-input-5-4e4803dc71e7>, line 2)",
     "output_type": "error",
     "traceback": [
      "\u001b[0;36m  File \u001b[0;32m\"<ipython-input-5-4e4803dc71e7>\"\u001b[0;36m, line \u001b[0;32m2\u001b[0m\n\u001b[0;31m    training = (dateframe here).sample(self,frac = 0.8,random_state = 1)\u001b[0m\n\u001b[0m                             ^\u001b[0m\n\u001b[0;31mSyntaxError\u001b[0m\u001b[0;31m:\u001b[0m invalid syntax\n"
     ]
    }
   ],
   "source": [
    "#Split training set and testing set at 80% - 20%\n",
    "training = (dateframe here).sample(self,frac = 0.8,random_state = 1)\n",
    "X_train = training[features]\n",
    "y_train = training['label']\n",
    "X_test = (dateframe here).drop(training.index)[features]"
   ]
  },
  {
   "cell_type": "code",
   "execution_count": null,
   "metadata": {},
   "outputs": [],
   "source": [
    "#Cross-validation at k = 5\n",
    "X_train, X_valid, y_train, y_valid = train_test_split(X_train, X_valid, y_train, y_valid = train_test_split(X_train, y_train, test_size = 0.2, random_state = 1)"
   ]
  },
  {
   "cell_type": "code",
   "execution_count": null,
   "metadata": {},
   "outputs": [],
   "source": [
    "#Logistic regression\n",
    "LR_Model = LogisticRegression()\n",
    "LR_Model.fit(X_train, y_train)\n",
    "LR_Predict = LR_Model.predict(X_valid)\n",
    "LR_Accuracy = accuracy_score(y_valid, LR_Predict)\n",
    "print(\"Accuracy: \" + str(LR_Accuracy))\n",
    "\n",
    "LR_AUC = roc_auc_score(y_valid, LR_Predict) \n",
    "print(\"AUC: \" + str(LR_AUC))"
   ]
  },
  {
   "cell_type": "code",
   "execution_count": null,
   "metadata": {},
   "outputs": [],
   "source": [
    "#Random Forest Classifier\n",
    "RFC_Model = RandomForestClassifier()\n",
    "RFC_Model.fit(X_train, y_train)\n",
    "RFC_Predict = RFC_Model.predict(X_valid)\n",
    "RFC_Accuracy = accuracy_score(y_valid, RFC_Predict)\n",
    "print(\"Accuracy: \" + str(RFC_Accuracy))\n",
    "\n",
    "RFC_AUC = roc_auc_score(y_valid, RFC_Predict) \n",
    "print(\"AUC: \" + str(RFC_AUC))"
   ]
  },
  {
   "cell_type": "code",
   "execution_count": null,
   "metadata": {},
   "outputs": [],
   "source": [
    "#KNN Classifier, \n",
    "KNN_Model = KNeighborsClassifier()\n",
    "KNN_Model.fit(X_train, y_train)\n",
    "KNN_Predict = KNN_Model.predict(X_valid)\n",
    "KNN_Accuracy = accuracy_score(y_valid, KNN_Predict)\n",
    "print(\"Accuracy: \" + str(KNN_Accuracy))\n",
    "\n",
    "KNN_AUC = roc_auc_score(y_valid, KNN_Predict) \n",
    "print(\"AUC: \" + str(KNN_AUC))\n"
   ]
  },
  {
   "cell_type": "code",
   "execution_count": null,
   "metadata": {},
   "outputs": [],
   "source": [
    "#LDA Classifier \n",
    "#Need to define number of components\n",
    "LDA_Model = LinearDiscriminantAnalysis(n_components=5)\n",
    "LDA_Model.fit(X_train, y_train)\n",
    "LDA_Predict = LDA_Model.predict(X_valid)\n",
    "LDA_Accuracy = accuracy_score(y_valid, KNN_Predict)\n",
    "print(\"Accuracy: \" + str(LDA_Accuracy))\n",
    "\n",
    "LDA_AUC = roc_auc_score(y_valid, LDA_Predict) \n",
    "print(\"AUC: \" + str(LDA_AUC))"
   ]
  },
  {
   "cell_type": "code",
   "execution_count": null,
   "metadata": {},
   "outputs": [],
   "source": [
    "#DecisionTree Classifier\n",
    "DTC_Model = DecisionTreeClassifier(criterion=\"entropy\", max_depth=3)\n",
    "DTC_Model.fit(X_train, y_train)\n",
    "DTC_Predict = DTC_Model.predict(X_valid)\n",
    "DTC_Accuracy = accuracy_score(y_valid, DTC_Predict)\n",
    "print(\"Accuracy: \" + str(DTC_Accuracy))\n",
    "\n",
    "DTC_AUC = roc_auc_score(y_valid, DTC_Predict) \n",
    "print(\"AUC: \" + str(DTC_AUC))"
   ]
  },
  {
   "cell_type": "code",
   "execution_count": null,
   "metadata": {},
   "outputs": [],
   "source": [
    "#SVM Classifier \n",
    "#to test different kernels = ['linear', 'rbf', 'sigmoid']\n",
    "SVM_Model = svm.SVC(C=2,kernel='rbf',gamma='scale',decision_function_shape='ovr')\n",
    "SVM_Model.fit(X_train, y_train)\n",
    "SVM_Predict = SVM_Model.predict(X_valid)\n",
    "SVM_Accuracy = accuracy_score(y_valid, SVM_Predict)\n",
    "print(\"Accuracy: \" + str(LDA_Accuracy))\n",
    "\n",
    "SVM_AUC = roc_auc_score(y_valid, SVM_Predict) \n",
    "print(\"AUC: \" + str(SVM_AUC))"
   ]
  },
  {
   "cell_type": "code",
   "execution_count": null,
   "metadata": {},
   "outputs": [],
   "source": [
    "#Adaboosting Classifier\n",
    "ADA_Model = AdaBoostClassifier(n_estimators=50,learning_rate=1)\n",
    "ADA_Model.fit(X_train, y_train)\n",
    "ADA_Predict = ADA_Model.predict(X_valid)\n",
    "ADA_Accuracy = accuracy_score(y_valid, ADA_Predict)\n",
    "print(\"Accuracy: \" + str(ADA_Accuracy))\n",
    "\n",
    "ADA_AUC = roc_auc_score(y_valid, ADA_Predict) \n",
    "print(\"AUC: \" + str(ADA_AUC))"
   ]
  }
 ],
 "metadata": {
  "kernelspec": {
   "display_name": "Python 3",
   "language": "python",
   "name": "python3"
  },
  "language_info": {
   "codemirror_mode": {
    "name": "ipython",
    "version": 3
   },
   "file_extension": ".py",
   "mimetype": "text/x-python",
   "name": "python",
   "nbconvert_exporter": "python",
   "pygments_lexer": "ipython3",
   "version": "3.7.3"
  }
 },
 "nbformat": 4,
 "nbformat_minor": 2
}
