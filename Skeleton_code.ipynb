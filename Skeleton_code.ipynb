{
 "cells": [
  {
   "cell_type": "code",
   "execution_count": 23,
   "metadata": {},
   "outputs": [],
   "source": [
    "\"\"\"\n",
    "This is a skeleton code to our project\n",
    "\"\"\"\n",
    "import pandas as pd\n",
    "import matplotlib.pyplot as plt\n",
    "from sklearn import preprocessing\n",
    "from sklearn.linear_model import LogisticRegression\n",
    "from sklearn.ensemble import RandomForestClassifier\n",
    "from sklearn.neighbors import KNeighborsClassifier\n",
    "from sklearn.tree import DecisionTreeClassifier\n",
    "from sklearn.discriminant_analysis import LinearDiscriminantAnalysis\n",
    "from sklearn import svm  \n",
    "from sklearn.ensemble import AdaBoostClassifier\n",
    "from sklearn.datasets import make_classification\n",
    "from sklearn.linear_model import LogisticRegression\n",
    "\n",
    "from sklearn.model_selection import cross_val_score"
   ]
  },
  {
   "cell_type": "code",
   "execution_count": 35,
   "metadata": {},
   "outputs": [],
   "source": [
    "#features contains the list of dimensions\n",
    "features = ['acousticness','danceability', 'duration_ms', 'energy', 'instrumentalness',\n",
    "            'liveness', 'loudness','speechiness', 'tempo', 'valence','compression_rate']"
   ]
  },
  {
   "cell_type": "code",
   "execution_count": 36,
   "metadata": {},
   "outputs": [],
   "source": [
    "Spotify = pd.read_csv('Clean_data.csv', index_col=0)\n",
    "Spotify  = Spotify.drop(columns=\"index\")"
   ]
  },
  {
   "cell_type": "code",
   "execution_count": 37,
   "metadata": {},
   "outputs": [],
   "source": [
    "#Split training set and testing set at 80% to 20%\n",
    "training = Spotify.sample(frac = 0.8,random_state = 1)\n",
    "\n",
    "X_train = training[features]\n",
    "y_train = training['label']\n",
    "X_test = Spotify.drop(training.index)[features]\n",
    "y_test = Data.drop(training.index)['label']"
   ]
  },
  {
   "cell_type": "code",
   "execution_count": 84,
   "metadata": {
    "scrolled": true
   },
   "outputs": [
    {
     "name": "stdout",
     "output_type": "stream",
     "text": [
      "[0.42216981 0.43160377 0.41134752 0.43026005 0.43026005 0.43230404\n",
      " 0.43230404 0.43333333 0.43333333 0.43333333]\n",
      "0.4290249273208306\n",
      "Accuracy: 0.418957345971564\n"
     ]
    }
   ],
   "source": [
    "#Logistic regression\n",
    "LR_Model = LogisticRegression(solver='lbfgs',multi_class='auto')\n",
    "\n",
    "#CV score\n",
    "CV_scores = cross_val_score(LR_Model, X_train, y_train, cv=10,scoring='accuracy')\n",
    "print(CV_scores)\n",
    "print(CV_scores.mean())\n",
    "\n",
    "#Predict test set\n",
    "LR_Model.fit(X_train, y_train)\n",
    "LR_Predict = LR_Model.predict(X_test)\n",
    "LR_Accuracy = accuracy_score(y_test, LR_Predict)\n",
    "print(\"Accuracy: \" + str(LR_Accuracy))"
   ]
  },
  {
   "cell_type": "code",
   "execution_count": 85,
   "metadata": {},
   "outputs": [
    {
     "name": "stdout",
     "output_type": "stream",
     "text": [
      "[0.46226415 0.50943396 0.47754137 0.49881797 0.48463357 0.51543943\n",
      " 0.50593824 0.46904762 0.48571429 0.46904762]\n",
      "0.4877878217027516\n",
      "Accuracy: 0.45592417061611373\n"
     ]
    }
   ],
   "source": [
    "#Random Forest Classifier\n",
    "RFC_Model = RandomForestClassifier(n_estimators=100)\n",
    "\n",
    "#CV score\n",
    "CV_scores = cross_val_score(RFC_Model, X_train, y_train, cv=10)\n",
    "print(CV_scores)\n",
    "print(CV_scores.mean())\n",
    "\n",
    "#Predict test set\n",
    "RFC_Model.fit(X_train, y_train)\n",
    "RFC_Predict = RFC_Model.predict(X_test)\n",
    "RFC_Accuracy = accuracy_score(y_test, RFC_Predict)\n",
    "print(\"Accuracy: \" + str(RFC_Accuracy))"
   ]
  },
  {
   "cell_type": "code",
   "execution_count": 86,
   "metadata": {},
   "outputs": [
    {
     "name": "stdout",
     "output_type": "stream",
     "text": [
      "[0.3553064390399867, 0.3325319907463725, 0.3435022852619693, 0.3567439950053273, 0.3764052033612904, 0.38562231366176164, 0.40341024653651536, 0.3963185578023197, 0.40319521036959155, 0.3991419680544187, 0.4109949799219126, 0.4036388076970015, 0.4097927075041313, 0.41053118349687423, 0.4193080738208733, 0.419056461686836, 0.42165804171721444, 0.41808497235601083, 0.4171606605557331]\n",
      "Accuracy: 0.4009478672985782\n"
     ]
    }
   ],
   "source": [
    "#KNN Classifier, \n",
    "KNN_accuracy = []\n",
    "for i in range(1,20):\n",
    "    KNN_Model = KNeighborsClassifier(n_neighbors=i)\n",
    "\n",
    "    #CV score\n",
    "    CV_scores = cross_val_score(KNN_Model, X_train, y_train, cv=10)\n",
    "    KNN_accuracy.append(CV_scores.mean())\n",
    "print(KNN_accuracy) \n",
    "\n",
    "#Predict test set\n",
    "KNN_Model = KNeighborsClassifier(n_neighbors=7)\n",
    "KNN_Model.fit(X_train, y_train)\n",
    "\n",
    "KNN_Predict = KNN_Model.predict(X_test)\n",
    "KNN_Accuracy = accuracy_score(y_test, KNN_Predict)\n",
    "print(\"Accuracy: \" + str(KNN_Accuracy))"
   ]
  },
  {
   "cell_type": "code",
   "execution_count": 87,
   "metadata": {},
   "outputs": [
    {
     "data": {
      "text/plain": [
       "[<matplotlib.lines.Line2D at 0x1a27131be0>]"
      ]
     },
     "execution_count": 87,
     "metadata": {},
     "output_type": "execute_result"
    },
    {
     "data": {
      "image/png": "[encoded data removed]",
      "text/plain": [
       "<Figure size 432x288 with 1 Axes>"
      ]
     },
     "metadata": {
      "needs_background": "light"
     },
     "output_type": "display_data"
    }
   ],
   "source": [
    "x=[i for i in range(1,20)]\n",
    "plt.plot(x,KNN_accuracy , 'go--', linewidth=2)"
   ]
  },
  {
   "cell_type": "code",
   "execution_count": 88,
   "metadata": {},
   "outputs": [
    {
     "name": "stdout",
     "output_type": "stream",
     "text": [
      "[0.45283019 0.51179245 0.5035461  0.46808511 0.44680851 0.50118765\n",
      " 0.4631829  0.4547619  0.51190476 0.46904762]\n",
      "0.4783147189854066\n",
      "Accuracy: 0.45876777251184836\n"
     ]
    }
   ],
   "source": [
    "#LDA Classifier \n",
    "#Need to define number of components\n",
    "LDA_Model = LinearDiscriminantAnalysis(n_components=5)\n",
    "\n",
    "#CV score\n",
    "CV_scores = cross_val_score(LDA_Model, X_train, y_train, cv=10)\n",
    "print(CV_scores)\n",
    "print(CV_scores.mean())\n",
    "\n",
    "#Predict test set\n",
    "LDA_Model.fit(X_train, y_train)\n",
    "\n",
    "LDA_Predict = LDA_Model.predict(X_test)\n",
    "LDA_Accuracy = accuracy_score(y_test, LDA_Predict)\n",
    "print(\"Accuracy: \" + str(LDA_Accuracy))"
   ]
  },
  {
   "cell_type": "code",
   "execution_count": 89,
   "metadata": {},
   "outputs": [
    {
     "name": "stdout",
     "output_type": "stream",
     "text": [
      "[0.45283019 0.49056604 0.4964539  0.48463357 0.46335697 0.48218527\n",
      " 0.43230404 0.49285714 0.48333333 0.45238095]\n",
      "0.4730901410594863\n",
      "Accuracy: 0.42843601895734595\n"
     ]
    }
   ],
   "source": [
    "#DecisionTree Classifier\n",
    "DTC_Model = DecisionTreeClassifier(criterion=\"entropy\", max_depth=3)\n",
    "\n",
    "#CV score\n",
    "CV_scores = cross_val_score(DTC_Model, X_train, y_train, cv=10)\n",
    "print(CV_scores)\n",
    "print(CV_scores.mean())\n",
    "\n",
    "#Predict test set\n",
    "DTC_Model.fit(X_train, y_train)\n",
    "\n",
    "DTC_Predict = DTC_Model.predict(X_test)\n",
    "DTC_Accuracy = accuracy_score(y_test, DTC_Predict)\n",
    "print(\"Accuracy: \" + str(DTC_Accuracy))"
   ]
  },
  {
   "cell_type": "code",
   "execution_count": 90,
   "metadata": {},
   "outputs": [
    {
     "name": "stdout",
     "output_type": "stream",
     "text": [
      "[0.43160377 0.42688679 0.43026005 0.43026005 0.43026005 0.43230404\n",
      " 0.43230404 0.43095238 0.43333333 0.43333333]\n",
      "0.43114978315102565\n",
      "Accuracy: 0.42843601895734595\n"
     ]
    }
   ],
   "source": [
    "#SVM Classifier \n",
    "#to test different kernels = ['linear', 'rbf', 'sigmoid']\n",
    "SVM_Model = svm.SVC(C=2,kernel='rbf',gamma='scale',decision_function_shape='ovr')\n",
    "\n",
    "#CV score\n",
    "CV_scores = cross_val_score(SVM_Model, X_train, y_train, cv=10)\n",
    "print(CV_scores)\n",
    "print(CV_scores.mean())\n",
    "\n",
    "#Predict test set\n",
    "SVM_Model.fit(X_train, y_train)\n",
    "\n",
    "SVM_Predict = DTC_Model.predict(X_test)\n",
    "SVM_Accuracy = accuracy_score(y_test, SVM_Predict)\n",
    "print(\"Accuracy: \" + str(SVM_Accuracy))"
   ]
  },
  {
   "cell_type": "code",
   "execution_count": 91,
   "metadata": {},
   "outputs": [
    {
     "name": "stdout",
     "output_type": "stream",
     "text": [
      "[0.41981132 0.47877358 0.39007092 0.46099291 0.38297872 0.43230404\n",
      " 0.41330166 0.42142857 0.46428571 0.41428571]\n",
      "0.4278233159564456\n",
      "Accuracy: 0.42843601895734595\n"
     ]
    }
   ],
   "source": [
    "#Adaboosting Classifier\n",
    "ADA_Model = AdaBoostClassifier(n_estimators=50,learning_rate=1)\n",
    "\n",
    "#CV score\n",
    "CV_scores = cross_val_score(ADA_Model, X_train, y_train, cv=10)\n",
    "print(CV_scores)\n",
    "print(CV_scores.mean())\n",
    "\n",
    "#Predict test set\n",
    "ADA_Model.fit(X_train, y_train)\n",
    "\n",
    "ADA_Predict = DTC_Model.predict(X_test)\n",
    "ADA_Accuracy = accuracy_score(y_test, ADA_Predict)\n",
    "print(\"Accuracy: \" + str(ADA_Accuracy))"
   ]
  },
  {
   "cell_type": "code",
   "execution_count": null,
   "metadata": {},
   "outputs": [],
   "source": []
  }
 ],
 "metadata": {
  "kernelspec": {
   "display_name": "Python 3",
   "language": "python",
   "name": "python3"
  },
  "language_info": {
   "codemirror_mode": {
    "name": "ipython",
    "version": 3
   },
   "file_extension": ".py",
   "mimetype": "text/x-python",
   "name": "python",
   "nbconvert_exporter": "python",
   "pygments_lexer": "ipython3",
   "version": "3.7.3"
  }
 },
 "nbformat": 4,
 "nbformat_minor": 2
}
