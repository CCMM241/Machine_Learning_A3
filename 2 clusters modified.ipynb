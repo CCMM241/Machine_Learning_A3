{
 "cells": [
  {
   "cell_type": "code",
   "execution_count": 1,
   "metadata": {},
   "outputs": [
    {
     "ename": "ModuleNotFoundError",
     "evalue": "No module named 'langdetect'",
     "output_type": "error",
     "traceback": [
      "\u001b[0;31m---------------------------------------------------------------------------\u001b[0m",
      "\u001b[0;31mModuleNotFoundError\u001b[0m                       Traceback (most recent call last)",
      "\u001b[0;32m<ipython-input-1-1ad37daf1440>\u001b[0m in \u001b[0;36m<module>\u001b[0;34m\u001b[0m\n\u001b[1;32m     11\u001b[0m \u001b[0;32mfrom\u001b[0m \u001b[0msklearn\u001b[0m\u001b[0;34m.\u001b[0m\u001b[0mcluster\u001b[0m \u001b[0;32mimport\u001b[0m \u001b[0mKMeans\u001b[0m\u001b[0;34m\u001b[0m\u001b[0;34m\u001b[0m\u001b[0m\n\u001b[1;32m     12\u001b[0m \u001b[0;32mimport\u001b[0m \u001b[0mnltk\u001b[0m\u001b[0;34m\u001b[0m\u001b[0;34m\u001b[0m\u001b[0m\n\u001b[0;32m---> 13\u001b[0;31m \u001b[0;32mfrom\u001b[0m \u001b[0mlangdetect\u001b[0m \u001b[0;32mimport\u001b[0m \u001b[0mdetect\u001b[0m\u001b[0;34m\u001b[0m\u001b[0;34m\u001b[0m\u001b[0m\n\u001b[0m",
      "\u001b[0;31mModuleNotFoundError\u001b[0m: No module named 'langdetect'"
     ]
    }
   ],
   "source": [
    "import numpy as np\n",
    "import pandas as pd\n",
    "import pandas_profiling\n",
    "import matplotlib.pyplot as plt\n",
    "import re\n",
    "import os\n",
    "import zlib\n",
    "from nltk.sentiment.vader import SentimentIntensityAnalyzer\n",
    "import sys\n",
    "import seaborn as sns\n",
    "from sklearn.cluster import KMeans\n",
    "import nltk\n",
    "from langdetect import detect"
   ]
  },
  {
   "cell_type": "code",
   "execution_count": 2,
   "metadata": {},
   "outputs": [],
   "source": [
    "from sklearn.linear_model import LogisticRegression\n",
    "from sklearn.ensemble import RandomForestClassifier\n",
    "from sklearn.neighbors import KNeighborsClassifier\n",
    "from sklearn.tree import DecisionTreeClassifier\n",
    "from sklearn.svm import SVC, LinearSVC\n",
    "from xgboost import XGBClassifier\n",
    "\n",
    "from sklearn.metrics import make_scorer, accuracy_score, roc_auc_score \n",
    "from sklearn.model_selection import GridSearchCV"
   ]
  },
  {
   "cell_type": "code",
   "execution_count": 3,
   "metadata": {},
   "outputs": [],
   "source": [
    "#pip install xgboost"
   ]
  },
  {
   "cell_type": "code",
   "execution_count": 4,
   "metadata": {},
   "outputs": [],
   "source": [
    "Spotify = pd.read_csv('SpotifyFeatures.csv')\n",
    "lyrics = pd.read_csv('only_lyrics.csv')"
   ]
  },
  {
   "cell_type": "markdown",
   "metadata": {},
   "source": [
    "## Merging lyrics and the songs"
   ]
  },
  {
   "cell_type": "code",
   "execution_count": 5,
   "metadata": {},
   "outputs": [],
   "source": [
    "Spotify['track_name']=Spotify['track_name'].str.lower()\n",
    "Spotify['track_name']=Spotify['track_name'].str.strip()\n",
    "Spotify['artist_name']=Spotify['artist_name'].str.lower()\n",
    "Spotify['artist_name']=Spotify['artist_name'].str.strip()\n",
    "lyrics['song']=lyrics['song'].str.lower()\n",
    "lyrics['song']=lyrics['song'].str.strip()\n",
    "lyrics['artist']=lyrics['artist'].str.lower()\n",
    "lyrics['artist']=lyrics['artist'].str.strip()"
   ]
  },
  {
   "cell_type": "code",
   "execution_count": 6,
   "metadata": {},
   "outputs": [],
   "source": [
    "song_lyrics = Spotify.merge(lyrics, left_on=['track_name', 'artist_name'], right_on=['song', 'artist'])  "
   ]
  },
  {
   "cell_type": "code",
   "execution_count": 7,
   "metadata": {},
   "outputs": [],
   "source": [
    "song_lyrics =song_lyrics.sort_values(by=['popularity'],ascending=False)\n",
    "song_lyrics = song_lyrics.reset_index()\n"
   ]
  },
  {
   "cell_type": "code",
   "execution_count": 8,
   "metadata": {},
   "outputs": [],
   "source": [
    "song_lyrics=song_lyrics.drop(['index','artist', 'song', 'link'], axis=1)"
   ]
  },
  {
   "cell_type": "code",
   "execution_count": 9,
   "metadata": {},
   "outputs": [],
   "source": [
    "#clean_lyrics(song_lyrics.iloc[675,-1])"
   ]
  },
  {
   "cell_type": "markdown",
   "metadata": {},
   "source": [
    "## Pre-processing lyrics"
   ]
  },
  {
   "cell_type": "code",
   "execution_count": 10,
   "metadata": {},
   "outputs": [],
   "source": [
    "def clean_lyrics(lyrics):\n",
    "    new_lyrics = re.sub(r'[\\(\\[].*?[\\)\\]]', ' ', lyrics)\n",
    "    new_lyrics = new_lyrics.replace(\"\\n\", \" \")\n",
    "    #new_lyrics = new_lyrics.replace(\"\"\\\"\",\"\")\n",
    "    new_lyrics= new_lyrics.strip()\n",
    "    new_lyrics= new_lyrics.replace(\"    \", \" \")\n",
    "    new_lyrics= new_lyrics.replace(\"   \", \" \")\n",
    "    new_lyrics= new_lyrics.replace(\"  \", \" \")\n",
    "    new_lyrics = os.linesep.join([s for s in new_lyrics.splitlines() if s])\n",
    "    return(new_lyrics)"
   ]
  },
  {
   "cell_type": "code",
   "execution_count": 11,
   "metadata": {},
   "outputs": [],
   "source": [
    "def get_compression_rate(lyrics):\n",
    "    original = lyrics.encode('utf-8')\n",
    "    compressed = zlib.compress(original)\n",
    "    decompressed = zlib.decompress(compressed)\n",
    "    \n",
    "    compression_rate = (len(original)-len(compressed))/len(original)\n",
    "    return compression_rate"
   ]
  },
  {
   "cell_type": "code",
   "execution_count": 12,
   "metadata": {},
   "outputs": [],
   "source": [
    "#Apply clean_lyrics function to text column\n",
    "song_lyrics['text'] = song_lyrics['text'].map(clean_lyrics)\n",
    "\n",
    "#Append new column with compression rate\n",
    "song_lyrics['compression_rate'] = song_lyrics['text'].map(get_compression_rate)"
   ]
  },
  {
   "cell_type": "code",
   "execution_count": 13,
   "metadata": {},
   "outputs": [
    {
     "ename": "NameError",
     "evalue": "name 'detect' is not defined",
     "output_type": "error",
     "traceback": [
      "\u001b[0;31m---------------------------------------------------------------------------\u001b[0m",
      "\u001b[0;31mNameError\u001b[0m                                 Traceback (most recent call last)",
      "\u001b[0;32m<ipython-input-13-ffb2f18c3f68>\u001b[0m in \u001b[0;36m<module>\u001b[0;34m\u001b[0m\n\u001b[1;32m      4\u001b[0m \u001b[0;34m\u001b[0m\u001b[0m\n\u001b[1;32m      5\u001b[0m \u001b[0;31m#Keep only english songs\u001b[0m\u001b[0;34m\u001b[0m\u001b[0;34m\u001b[0m\u001b[0;34m\u001b[0m\u001b[0m\n\u001b[0;32m----> 6\u001b[0;31m \u001b[0msong_lyrics\u001b[0m\u001b[0;34m[\u001b[0m\u001b[0;34m'language'\u001b[0m\u001b[0;34m]\u001b[0m \u001b[0;34m=\u001b[0m \u001b[0msong_lyrics\u001b[0m\u001b[0;34m[\u001b[0m\u001b[0;34m'text'\u001b[0m\u001b[0;34m]\u001b[0m\u001b[0;34m.\u001b[0m\u001b[0mmap\u001b[0m\u001b[0;34m(\u001b[0m\u001b[0mdetect\u001b[0m\u001b[0;34m)\u001b[0m\u001b[0;34m\u001b[0m\u001b[0;34m\u001b[0m\u001b[0m\n\u001b[0m\u001b[1;32m      7\u001b[0m \u001b[0msong_lyrics\u001b[0m \u001b[0;34m=\u001b[0m \u001b[0msong_lyrics\u001b[0m\u001b[0;34m[\u001b[0m\u001b[0msong_lyrics\u001b[0m\u001b[0;34m[\u001b[0m\u001b[0;34m'language'\u001b[0m\u001b[0;34m]\u001b[0m \u001b[0;34m==\u001b[0m\u001b[0;34m\"en\"\u001b[0m\u001b[0;34m]\u001b[0m\u001b[0;34m\u001b[0m\u001b[0;34m\u001b[0m\u001b[0m\n",
      "\u001b[0;31mNameError\u001b[0m: name 'detect' is not defined"
     ]
    }
   ],
   "source": [
    "#Drop duplicates\n",
    "song_lyrics = song_lyrics.sort_values(by='popularity', ascending=False)\n",
    "song_lyrics = song_lyrics.drop_duplicates(subset='track_id', keep=\"first\")\n",
    "\n",
    "#Keep only english songs\n",
    "song_lyrics['language'] = song_lyrics['text'].map(detect)\n",
    "song_lyrics = song_lyrics[song_lyrics['language'] ==\"en\"]"
   ]
  },
  {
   "cell_type": "code",
   "execution_count": 14,
   "metadata": {},
   "outputs": [
    {
     "data": {
      "text/html": [
       "<div>\n",
       "<style scoped>\n",
       "    .dataframe tbody tr th:only-of-type {\n",
       "        vertical-align: middle;\n",
       "    }\n",
       "\n",
       "    .dataframe tbody tr th {\n",
       "        vertical-align: top;\n",
       "    }\n",
       "\n",
       "    .dataframe thead th {\n",
       "        text-align: right;\n",
       "    }\n",
       "</style>\n",
       "<table border=\"1\" class=\"dataframe\">\n",
       "  <thead>\n",
       "    <tr style=\"text-align: right;\">\n",
       "      <th></th>\n",
       "      <th>genre</th>\n",
       "      <th>artist_name</th>\n",
       "      <th>track_name</th>\n",
       "      <th>track_id</th>\n",
       "      <th>popularity</th>\n",
       "      <th>acousticness</th>\n",
       "      <th>danceability</th>\n",
       "      <th>duration_ms</th>\n",
       "      <th>energy</th>\n",
       "      <th>instrumentalness</th>\n",
       "      <th>key</th>\n",
       "      <th>liveness</th>\n",
       "      <th>loudness</th>\n",
       "      <th>mode</th>\n",
       "      <th>speechiness</th>\n",
       "      <th>tempo</th>\n",
       "      <th>time_signature</th>\n",
       "      <th>valence</th>\n",
       "      <th>text</th>\n",
       "      <th>compression_rate</th>\n",
       "    </tr>\n",
       "  </thead>\n",
       "  <tbody>\n",
       "    <tr>\n",
       "      <th>0</th>\n",
       "      <td>Pop</td>\n",
       "      <td>ed sheeran</td>\n",
       "      <td>photograph</td>\n",
       "      <td>1HNkqx9Ahdgi1Ixy2xkKkL</td>\n",
       "      <td>86</td>\n",
       "      <td>0.607</td>\n",
       "      <td>0.614</td>\n",
       "      <td>258987</td>\n",
       "      <td>0.379</td>\n",
       "      <td>0.000464</td>\n",
       "      <td>E</td>\n",
       "      <td>0.0986</td>\n",
       "      <td>-10.48</td>\n",
       "      <td>Major</td>\n",
       "      <td>0.0476</td>\n",
       "      <td>107.989</td>\n",
       "      <td>4/4</td>\n",
       "      <td>0.201</td>\n",
       "      <td>Loving can hurt, loving can hurt sometimes. Bu...</td>\n",
       "      <td>0.643378</td>\n",
       "    </tr>\n",
       "  </tbody>\n",
       "</table>\n",
       "</div>"
      ],
      "text/plain": [
       "  genre artist_name  track_name                track_id  popularity  \\\n",
       "0   Pop  ed sheeran  photograph  1HNkqx9Ahdgi1Ixy2xkKkL          86   \n",
       "\n",
       "   acousticness  danceability  duration_ms  energy  instrumentalness key  \\\n",
       "0         0.607         0.614       258987   0.379          0.000464   E   \n",
       "\n",
       "   liveness  loudness   mode  speechiness    tempo time_signature  valence  \\\n",
       "0    0.0986    -10.48  Major       0.0476  107.989            4/4    0.201   \n",
       "\n",
       "                                                text  compression_rate  \n",
       "0  Loving can hurt, loving can hurt sometimes. Bu...          0.643378  "
      ]
     },
     "execution_count": 14,
     "metadata": {},
     "output_type": "execute_result"
    }
   ],
   "source": [
    "song_lyrics.head(1)"
   ]
  },
  {
   "cell_type": "markdown",
   "metadata": {},
   "source": [
    "### Addition of sentment analysis (+,-,=) values"
   ]
  },
  {
   "cell_type": "code",
   "execution_count": 15,
   "metadata": {},
   "outputs": [
    {
     "data": {
      "text/html": [
       "<div>\n",
       "<style scoped>\n",
       "    .dataframe tbody tr th:only-of-type {\n",
       "        vertical-align: middle;\n",
       "    }\n",
       "\n",
       "    .dataframe tbody tr th {\n",
       "        vertical-align: top;\n",
       "    }\n",
       "\n",
       "    .dataframe thead th {\n",
       "        text-align: right;\n",
       "    }\n",
       "</style>\n",
       "<table border=\"1\" class=\"dataframe\">\n",
       "  <thead>\n",
       "    <tr style=\"text-align: right;\">\n",
       "      <th></th>\n",
       "      <th>id</th>\n",
       "      <th>senti_positive</th>\n",
       "      <th>senti_neutral</th>\n",
       "      <th>senti_negative</th>\n",
       "    </tr>\n",
       "  </thead>\n",
       "  <tbody>\n",
       "    <tr>\n",
       "      <th>0</th>\n",
       "      <td>1HNkqx9Ahdgi1Ixy2xkKkL</td>\n",
       "      <td>6</td>\n",
       "      <td>310</td>\n",
       "      <td>5</td>\n",
       "    </tr>\n",
       "    <tr>\n",
       "      <th>1</th>\n",
       "      <td>2374M0fQpWi3dLnB54qaLX</td>\n",
       "      <td>0</td>\n",
       "      <td>268</td>\n",
       "      <td>0</td>\n",
       "    </tr>\n",
       "    <tr>\n",
       "      <th>2</th>\n",
       "      <td>1EzrEOXmMH3G43AXT1y7pA</td>\n",
       "      <td>13</td>\n",
       "      <td>295</td>\n",
       "      <td>0</td>\n",
       "    </tr>\n",
       "    <tr>\n",
       "      <th>3</th>\n",
       "      <td>34gCuhDGsG4bRPIf9bb02f</td>\n",
       "      <td>16</td>\n",
       "      <td>310</td>\n",
       "      <td>0</td>\n",
       "    </tr>\n",
       "    <tr>\n",
       "      <th>4</th>\n",
       "      <td>5Nm9ERjJZ5oyfXZTECKmRt</td>\n",
       "      <td>10</td>\n",
       "      <td>152</td>\n",
       "      <td>1</td>\n",
       "    </tr>\n",
       "  </tbody>\n",
       "</table>\n",
       "</div>"
      ],
      "text/plain": [
       "                       id senti_positive senti_neutral senti_negative\n",
       "0  1HNkqx9Ahdgi1Ixy2xkKkL              6           310              5\n",
       "1  2374M0fQpWi3dLnB54qaLX              0           268              0\n",
       "2  1EzrEOXmMH3G43AXT1y7pA             13           295              0\n",
       "3  34gCuhDGsG4bRPIf9bb02f             16           310              0\n",
       "4  5Nm9ERjJZ5oyfXZTECKmRt             10           152              1"
      ]
     },
     "execution_count": 15,
     "metadata": {},
     "output_type": "execute_result"
    }
   ],
   "source": [
    "sia=SentimentIntensityAnalyzer()\n",
    "sentiment = pd.DataFrame(columns=('id','senti_positive', 'senti_neutral', 'senti_negative'))\n",
    "for i in range(len(song_lyrics['text'])):\n",
    "    num_positive = 0\n",
    "    num_negative = 0\n",
    "    num_neutral = 0\n",
    "    lyric= song_lyrics.iloc[i,-2]\n",
    "    for j in lyric.split():\n",
    "        comp = sia.polarity_scores(j)\n",
    "        comp = comp['compound']\n",
    "        #print(test)\n",
    "        if comp >= 0.5:\n",
    "            num_positive += 1\n",
    "            #print('positive:',i)\n",
    "        elif comp > -0.5 and comp < 0.5:\n",
    "            num_neutral += 1\n",
    "        else:\n",
    "            num_negative += 1\n",
    "        #print('negative:',i)\n",
    "    sentiment.loc[i] = (song_lyrics.iloc[i,3],num_positive,num_neutral,num_negative)\n",
    "#num_total = num_negative + num_neutral + num_positive\n",
    "#print('Total score:',num_total)\n",
    "#print('Negative score:',num_negative)\n",
    "#print('Neutral score:',num_neutral)\n",
    "#print('Positive score:',num_positive)\n",
    "sentiment.head()"
   ]
  },
  {
   "cell_type": "code",
   "execution_count": 16,
   "metadata": {},
   "outputs": [
    {
     "data": {
      "text/html": [
       "<div>\n",
       "<style scoped>\n",
       "    .dataframe tbody tr th:only-of-type {\n",
       "        vertical-align: middle;\n",
       "    }\n",
       "\n",
       "    .dataframe tbody tr th {\n",
       "        vertical-align: top;\n",
       "    }\n",
       "\n",
       "    .dataframe thead th {\n",
       "        text-align: right;\n",
       "    }\n",
       "</style>\n",
       "<table border=\"1\" class=\"dataframe\">\n",
       "  <thead>\n",
       "    <tr style=\"text-align: right;\">\n",
       "      <th></th>\n",
       "      <th>id</th>\n",
       "      <th>senti_positive</th>\n",
       "      <th>senti_neutral</th>\n",
       "      <th>senti_negative</th>\n",
       "      <th>senti_%+</th>\n",
       "      <th>senti_%-</th>\n",
       "      <th>senti_%=</th>\n",
       "    </tr>\n",
       "  </thead>\n",
       "  <tbody>\n",
       "    <tr>\n",
       "      <th>0</th>\n",
       "      <td>1HNkqx9Ahdgi1Ixy2xkKkL</td>\n",
       "      <td>6</td>\n",
       "      <td>310</td>\n",
       "      <td>5</td>\n",
       "      <td>1.86916</td>\n",
       "      <td>1.55763</td>\n",
       "      <td>96.5732</td>\n",
       "    </tr>\n",
       "    <tr>\n",
       "      <th>1</th>\n",
       "      <td>2374M0fQpWi3dLnB54qaLX</td>\n",
       "      <td>0</td>\n",
       "      <td>268</td>\n",
       "      <td>0</td>\n",
       "      <td>0</td>\n",
       "      <td>0</td>\n",
       "      <td>100</td>\n",
       "    </tr>\n",
       "    <tr>\n",
       "      <th>2</th>\n",
       "      <td>1EzrEOXmMH3G43AXT1y7pA</td>\n",
       "      <td>13</td>\n",
       "      <td>295</td>\n",
       "      <td>0</td>\n",
       "      <td>4.22078</td>\n",
       "      <td>0</td>\n",
       "      <td>95.7792</td>\n",
       "    </tr>\n",
       "    <tr>\n",
       "      <th>3</th>\n",
       "      <td>34gCuhDGsG4bRPIf9bb02f</td>\n",
       "      <td>16</td>\n",
       "      <td>310</td>\n",
       "      <td>0</td>\n",
       "      <td>4.90798</td>\n",
       "      <td>0</td>\n",
       "      <td>95.092</td>\n",
       "    </tr>\n",
       "    <tr>\n",
       "      <th>4</th>\n",
       "      <td>5Nm9ERjJZ5oyfXZTECKmRt</td>\n",
       "      <td>10</td>\n",
       "      <td>152</td>\n",
       "      <td>1</td>\n",
       "      <td>6.13497</td>\n",
       "      <td>0.613497</td>\n",
       "      <td>93.2515</td>\n",
       "    </tr>\n",
       "  </tbody>\n",
       "</table>\n",
       "</div>"
      ],
      "text/plain": [
       "                       id senti_positive senti_neutral senti_negative  \\\n",
       "0  1HNkqx9Ahdgi1Ixy2xkKkL              6           310              5   \n",
       "1  2374M0fQpWi3dLnB54qaLX              0           268              0   \n",
       "2  1EzrEOXmMH3G43AXT1y7pA             13           295              0   \n",
       "3  34gCuhDGsG4bRPIf9bb02f             16           310              0   \n",
       "4  5Nm9ERjJZ5oyfXZTECKmRt             10           152              1   \n",
       "\n",
       "  senti_%+  senti_%- senti_%=  \n",
       "0  1.86916   1.55763  96.5732  \n",
       "1        0         0      100  \n",
       "2  4.22078         0  95.7792  \n",
       "3  4.90798         0   95.092  \n",
       "4  6.13497  0.613497  93.2515  "
      ]
     },
     "execution_count": 16,
     "metadata": {},
     "output_type": "execute_result"
    }
   ],
   "source": [
    "#sentiment['senti_total']=sentiment['senti_positive']+sentiment['senti_neutral']+sentiment['senti_negative']\n",
    "sentiment['senti_%+']=(sentiment['senti_positive']/(sentiment['senti_positive']+sentiment['senti_neutral']+sentiment['senti_negative']))*100\n",
    "sentiment['senti_%-']=(sentiment['senti_negative']/(sentiment['senti_positive']+sentiment['senti_neutral']+sentiment['senti_negative']))*100\n",
    "sentiment['senti_%=']=(sentiment['senti_neutral']/(sentiment['senti_positive']+sentiment['senti_neutral']+sentiment['senti_negative']))*100\n",
    "sentiment.head()"
   ]
  },
  {
   "cell_type": "code",
   "execution_count": 17,
   "metadata": {},
   "outputs": [],
   "source": [
    "sentiment['senti_total']=sentiment['senti_positive']-sentiment['senti_negative']"
   ]
  },
  {
   "cell_type": "code",
   "execution_count": 18,
   "metadata": {},
   "outputs": [],
   "source": [
    "sentiment=sentiment.drop(['senti_positive','senti_neutral', 'senti_negative'], axis=1)"
   ]
  },
  {
   "cell_type": "code",
   "execution_count": 19,
   "metadata": {},
   "outputs": [
    {
     "data": {
      "text/html": [
       "<div>\n",
       "<style scoped>\n",
       "    .dataframe tbody tr th:only-of-type {\n",
       "        vertical-align: middle;\n",
       "    }\n",
       "\n",
       "    .dataframe tbody tr th {\n",
       "        vertical-align: top;\n",
       "    }\n",
       "\n",
       "    .dataframe thead th {\n",
       "        text-align: right;\n",
       "    }\n",
       "</style>\n",
       "<table border=\"1\" class=\"dataframe\">\n",
       "  <thead>\n",
       "    <tr style=\"text-align: right;\">\n",
       "      <th></th>\n",
       "      <th>genre</th>\n",
       "      <th>artist_name</th>\n",
       "      <th>track_name</th>\n",
       "      <th>track_id</th>\n",
       "      <th>popularity</th>\n",
       "      <th>acousticness</th>\n",
       "      <th>danceability</th>\n",
       "      <th>duration_ms</th>\n",
       "      <th>energy</th>\n",
       "      <th>instrumentalness</th>\n",
       "      <th>...</th>\n",
       "      <th>tempo</th>\n",
       "      <th>time_signature</th>\n",
       "      <th>valence</th>\n",
       "      <th>text</th>\n",
       "      <th>compression_rate</th>\n",
       "      <th>id</th>\n",
       "      <th>senti_%+</th>\n",
       "      <th>senti_%-</th>\n",
       "      <th>senti_%=</th>\n",
       "      <th>senti_total</th>\n",
       "    </tr>\n",
       "  </thead>\n",
       "  <tbody>\n",
       "    <tr>\n",
       "      <th>0</th>\n",
       "      <td>Pop</td>\n",
       "      <td>ed sheeran</td>\n",
       "      <td>photograph</td>\n",
       "      <td>1HNkqx9Ahdgi1Ixy2xkKkL</td>\n",
       "      <td>86</td>\n",
       "      <td>0.607</td>\n",
       "      <td>0.614</td>\n",
       "      <td>258987</td>\n",
       "      <td>0.379</td>\n",
       "      <td>0.000464</td>\n",
       "      <td>...</td>\n",
       "      <td>107.989</td>\n",
       "      <td>4/4</td>\n",
       "      <td>0.201</td>\n",
       "      <td>Loving can hurt, loving can hurt sometimes. Bu...</td>\n",
       "      <td>0.643378</td>\n",
       "      <td>1HNkqx9Ahdgi1Ixy2xkKkL</td>\n",
       "      <td>1.86916</td>\n",
       "      <td>1.55763</td>\n",
       "      <td>96.5732</td>\n",
       "      <td>1</td>\n",
       "    </tr>\n",
       "    <tr>\n",
       "      <th>1</th>\n",
       "      <td>Rock</td>\n",
       "      <td>toto</td>\n",
       "      <td>africa</td>\n",
       "      <td>2374M0fQpWi3dLnB54qaLX</td>\n",
       "      <td>85</td>\n",
       "      <td>0.257</td>\n",
       "      <td>0.671</td>\n",
       "      <td>295893</td>\n",
       "      <td>0.373</td>\n",
       "      <td>0.000080</td>\n",
       "      <td>...</td>\n",
       "      <td>92.717</td>\n",
       "      <td>4/4</td>\n",
       "      <td>0.732</td>\n",
       "      <td>I hear the drums echoing tonight But she hears...</td>\n",
       "      <td>0.637233</td>\n",
       "      <td>2374M0fQpWi3dLnB54qaLX</td>\n",
       "      <td>0</td>\n",
       "      <td>0</td>\n",
       "      <td>100</td>\n",
       "      <td>0</td>\n",
       "    </tr>\n",
       "    <tr>\n",
       "      <th>2</th>\n",
       "      <td>Pop</td>\n",
       "      <td>jason mraz</td>\n",
       "      <td>i'm yours</td>\n",
       "      <td>1EzrEOXmMH3G43AXT1y7pA</td>\n",
       "      <td>85</td>\n",
       "      <td>0.595</td>\n",
       "      <td>0.686</td>\n",
       "      <td>242187</td>\n",
       "      <td>0.457</td>\n",
       "      <td>0.000000</td>\n",
       "      <td>...</td>\n",
       "      <td>150.953</td>\n",
       "      <td>4/4</td>\n",
       "      <td>0.718</td>\n",
       "      <td>Well you done done me and you bet I felt it I ...</td>\n",
       "      <td>0.572757</td>\n",
       "      <td>1EzrEOXmMH3G43AXT1y7pA</td>\n",
       "      <td>4.22078</td>\n",
       "      <td>0</td>\n",
       "      <td>95.7792</td>\n",
       "      <td>13</td>\n",
       "    </tr>\n",
       "    <tr>\n",
       "      <th>3</th>\n",
       "      <td>Pop</td>\n",
       "      <td>ed sheeran</td>\n",
       "      <td>thinking out loud</td>\n",
       "      <td>34gCuhDGsG4bRPIf9bb02f</td>\n",
       "      <td>85</td>\n",
       "      <td>0.474</td>\n",
       "      <td>0.781</td>\n",
       "      <td>281560</td>\n",
       "      <td>0.445</td>\n",
       "      <td>0.000000</td>\n",
       "      <td>...</td>\n",
       "      <td>78.998</td>\n",
       "      <td>4/4</td>\n",
       "      <td>0.591</td>\n",
       "      <td>When your legs don't work like they used to be...</td>\n",
       "      <td>0.623063</td>\n",
       "      <td>34gCuhDGsG4bRPIf9bb02f</td>\n",
       "      <td>4.90798</td>\n",
       "      <td>0</td>\n",
       "      <td>95.092</td>\n",
       "      <td>16</td>\n",
       "    </tr>\n",
       "    <tr>\n",
       "      <th>4</th>\n",
       "      <td>Pop</td>\n",
       "      <td>sam smith</td>\n",
       "      <td>stay with me</td>\n",
       "      <td>5Nm9ERjJZ5oyfXZTECKmRt</td>\n",
       "      <td>85</td>\n",
       "      <td>0.588</td>\n",
       "      <td>0.418</td>\n",
       "      <td>172724</td>\n",
       "      <td>0.420</td>\n",
       "      <td>0.000064</td>\n",
       "      <td>...</td>\n",
       "      <td>84.094</td>\n",
       "      <td>4/4</td>\n",
       "      <td>0.184</td>\n",
       "      <td>Guess it's true, I'm not good at a one-night s...</td>\n",
       "      <td>0.640961</td>\n",
       "      <td>5Nm9ERjJZ5oyfXZTECKmRt</td>\n",
       "      <td>6.13497</td>\n",
       "      <td>0.613497</td>\n",
       "      <td>93.2515</td>\n",
       "      <td>9</td>\n",
       "    </tr>\n",
       "  </tbody>\n",
       "</table>\n",
       "<p>5 rows × 25 columns</p>\n",
       "</div>"
      ],
      "text/plain": [
       "  genre artist_name         track_name                track_id  popularity  \\\n",
       "0   Pop  ed sheeran         photograph  1HNkqx9Ahdgi1Ixy2xkKkL          86   \n",
       "1  Rock        toto             africa  2374M0fQpWi3dLnB54qaLX          85   \n",
       "2   Pop  jason mraz          i'm yours  1EzrEOXmMH3G43AXT1y7pA          85   \n",
       "3   Pop  ed sheeran  thinking out loud  34gCuhDGsG4bRPIf9bb02f          85   \n",
       "4   Pop   sam smith       stay with me  5Nm9ERjJZ5oyfXZTECKmRt          85   \n",
       "\n",
       "   acousticness  danceability  duration_ms  energy  instrumentalness  ...  \\\n",
       "0         0.607         0.614       258987   0.379          0.000464  ...   \n",
       "1         0.257         0.671       295893   0.373          0.000080  ...   \n",
       "2         0.595         0.686       242187   0.457          0.000000  ...   \n",
       "3         0.474         0.781       281560   0.445          0.000000  ...   \n",
       "4         0.588         0.418       172724   0.420          0.000064  ...   \n",
       "\n",
       "     tempo  time_signature  valence  \\\n",
       "0  107.989             4/4    0.201   \n",
       "1   92.717             4/4    0.732   \n",
       "2  150.953             4/4    0.718   \n",
       "3   78.998             4/4    0.591   \n",
       "4   84.094             4/4    0.184   \n",
       "\n",
       "                                                text  compression_rate  \\\n",
       "0  Loving can hurt, loving can hurt sometimes. Bu...          0.643378   \n",
       "1  I hear the drums echoing tonight But she hears...          0.637233   \n",
       "2  Well you done done me and you bet I felt it I ...          0.572757   \n",
       "3  When your legs don't work like they used to be...          0.623063   \n",
       "4  Guess it's true, I'm not good at a one-night s...          0.640961   \n",
       "\n",
       "                       id senti_%+  senti_%- senti_%=  senti_total  \n",
       "0  1HNkqx9Ahdgi1Ixy2xkKkL  1.86916   1.55763  96.5732            1  \n",
       "1  2374M0fQpWi3dLnB54qaLX        0         0      100            0  \n",
       "2  1EzrEOXmMH3G43AXT1y7pA  4.22078         0  95.7792           13  \n",
       "3  34gCuhDGsG4bRPIf9bb02f  4.90798         0   95.092           16  \n",
       "4  5Nm9ERjJZ5oyfXZTECKmRt  6.13497  0.613497  93.2515            9  \n",
       "\n",
       "[5 rows x 25 columns]"
      ]
     },
     "execution_count": 19,
     "metadata": {},
     "output_type": "execute_result"
    }
   ],
   "source": [
    "song_lyrics = song_lyrics.merge(sentiment, left_on=['track_id'], right_on=['id'])\n",
    "song_lyrics.head()"
   ]
  },
  {
   "cell_type": "code",
   "execution_count": 20,
   "metadata": {},
   "outputs": [],
   "source": [
    "song_lyrics=song_lyrics.drop(['id'], axis=1)"
   ]
  },
  {
   "cell_type": "code",
   "execution_count": 21,
   "metadata": {},
   "outputs": [],
   "source": [
    "song=song_lyrics['track_name']\n",
    "song=song.str.strip()\n",
    "song=song.str.split()\n",
    "l=[]\n",
    "for i in song:\n",
    "    #print(len(i))\n",
    "    l.append(len(i))\n",
    "song_lyrics['track_length']=l "
   ]
  },
  {
   "cell_type": "markdown",
   "metadata": {},
   "source": [
    "## Addition of classes"
   ]
  },
  {
   "cell_type": "markdown",
   "metadata": {},
   "source": [
    "1. Popularity"
   ]
  },
  {
   "cell_type": "code",
   "execution_count": 22,
   "metadata": {},
   "outputs": [
    {
     "data": {
      "text/plain": [
       "<matplotlib.axes._subplots.AxesSubplot at 0x1a2198c438>"
      ]
     },
     "execution_count": 22,
     "metadata": {},
     "output_type": "execute_result"
    },
    {
     "data": {
      "image/png": "[encoded data removed]",
      "text/plain": [
       "<Figure size 432x288 with 1 Axes>"
      ]
     },
     "metadata": {
      "needs_background": "light"
     },
     "output_type": "display_data"
    }
   ],
   "source": [
    "quantile=song_lyrics['popularity'].quantile(np.arange(0, 1.01, 0.01).tolist())\n",
    "quantile=quantile.reset_index()\n",
    "quantile.rename(columns={'index':'quantile'}, inplace=True)\n",
    "sns.lineplot(quantile['popularity'],quantile['quantile'])"
   ]
  },
  {
   "cell_type": "code",
   "execution_count": 23,
   "metadata": {},
   "outputs": [],
   "source": [
    "kmeans = KMeans(n_clusters=2)\n",
    "kmeans.fit(quantile)\n",
    "quantile['cluster']=kmeans.predict(quantile)"
   ]
  },
  {
   "cell_type": "code",
   "execution_count": 24,
   "metadata": {},
   "outputs": [
    {
     "data": {
      "text/plain": [
       "<matplotlib.collections.PathCollection at 0x1a236787b8>"
      ]
     },
     "execution_count": 24,
     "metadata": {},
     "output_type": "execute_result"
    },
    {
     "data": {
      "image/png": "[encoded data removed]",
      "text/plain": [
       "<Figure size 432x288 with 1 Axes>"
      ]
     },
     "metadata": {
      "needs_background": "light"
     },
     "output_type": "display_data"
    }
   ],
   "source": [
    "plt.scatter(quantile['popularity'],quantile['cluster'])"
   ]
  },
  {
   "cell_type": "code",
   "execution_count": 25,
   "metadata": {},
   "outputs": [
    {
     "data": {
      "text/html": [
       "<div>\n",
       "<style scoped>\n",
       "    .dataframe tbody tr th:only-of-type {\n",
       "        vertical-align: middle;\n",
       "    }\n",
       "\n",
       "    .dataframe tbody tr th {\n",
       "        vertical-align: top;\n",
       "    }\n",
       "\n",
       "    .dataframe thead th {\n",
       "        text-align: right;\n",
       "    }\n",
       "</style>\n",
       "<table border=\"1\" class=\"dataframe\">\n",
       "  <thead>\n",
       "    <tr style=\"text-align: right;\">\n",
       "      <th></th>\n",
       "      <th>quantile</th>\n",
       "      <th>popularity</th>\n",
       "      <th>cluster</th>\n",
       "    </tr>\n",
       "  </thead>\n",
       "  <tbody>\n",
       "    <tr>\n",
       "      <th>0</th>\n",
       "      <td>0.00</td>\n",
       "      <td>0.00</td>\n",
       "      <td>1</td>\n",
       "    </tr>\n",
       "    <tr>\n",
       "      <th>1</th>\n",
       "      <td>0.01</td>\n",
       "      <td>20.00</td>\n",
       "      <td>1</td>\n",
       "    </tr>\n",
       "    <tr>\n",
       "      <th>2</th>\n",
       "      <td>0.02</td>\n",
       "      <td>23.00</td>\n",
       "      <td>1</td>\n",
       "    </tr>\n",
       "    <tr>\n",
       "      <th>3</th>\n",
       "      <td>0.03</td>\n",
       "      <td>25.00</td>\n",
       "      <td>1</td>\n",
       "    </tr>\n",
       "    <tr>\n",
       "      <th>4</th>\n",
       "      <td>0.04</td>\n",
       "      <td>27.00</td>\n",
       "      <td>1</td>\n",
       "    </tr>\n",
       "    <tr>\n",
       "      <th>5</th>\n",
       "      <td>0.05</td>\n",
       "      <td>28.00</td>\n",
       "      <td>1</td>\n",
       "    </tr>\n",
       "    <tr>\n",
       "      <th>6</th>\n",
       "      <td>0.06</td>\n",
       "      <td>29.00</td>\n",
       "      <td>1</td>\n",
       "    </tr>\n",
       "    <tr>\n",
       "      <th>7</th>\n",
       "      <td>0.07</td>\n",
       "      <td>30.00</td>\n",
       "      <td>1</td>\n",
       "    </tr>\n",
       "    <tr>\n",
       "      <th>8</th>\n",
       "      <td>0.08</td>\n",
       "      <td>31.00</td>\n",
       "      <td>1</td>\n",
       "    </tr>\n",
       "    <tr>\n",
       "      <th>9</th>\n",
       "      <td>0.09</td>\n",
       "      <td>32.00</td>\n",
       "      <td>1</td>\n",
       "    </tr>\n",
       "    <tr>\n",
       "      <th>10</th>\n",
       "      <td>0.10</td>\n",
       "      <td>33.00</td>\n",
       "      <td>1</td>\n",
       "    </tr>\n",
       "    <tr>\n",
       "      <th>11</th>\n",
       "      <td>0.11</td>\n",
       "      <td>34.00</td>\n",
       "      <td>1</td>\n",
       "    </tr>\n",
       "    <tr>\n",
       "      <th>12</th>\n",
       "      <td>0.12</td>\n",
       "      <td>34.76</td>\n",
       "      <td>1</td>\n",
       "    </tr>\n",
       "    <tr>\n",
       "      <th>13</th>\n",
       "      <td>0.13</td>\n",
       "      <td>35.00</td>\n",
       "      <td>1</td>\n",
       "    </tr>\n",
       "    <tr>\n",
       "      <th>14</th>\n",
       "      <td>0.14</td>\n",
       "      <td>36.00</td>\n",
       "      <td>1</td>\n",
       "    </tr>\n",
       "    <tr>\n",
       "      <th>15</th>\n",
       "      <td>0.15</td>\n",
       "      <td>36.00</td>\n",
       "      <td>1</td>\n",
       "    </tr>\n",
       "    <tr>\n",
       "      <th>16</th>\n",
       "      <td>0.16</td>\n",
       "      <td>37.00</td>\n",
       "      <td>1</td>\n",
       "    </tr>\n",
       "    <tr>\n",
       "      <th>17</th>\n",
       "      <td>0.17</td>\n",
       "      <td>38.00</td>\n",
       "      <td>1</td>\n",
       "    </tr>\n",
       "    <tr>\n",
       "      <th>18</th>\n",
       "      <td>0.18</td>\n",
       "      <td>38.00</td>\n",
       "      <td>1</td>\n",
       "    </tr>\n",
       "    <tr>\n",
       "      <th>19</th>\n",
       "      <td>0.19</td>\n",
       "      <td>39.00</td>\n",
       "      <td>1</td>\n",
       "    </tr>\n",
       "    <tr>\n",
       "      <th>20</th>\n",
       "      <td>0.20</td>\n",
       "      <td>39.00</td>\n",
       "      <td>1</td>\n",
       "    </tr>\n",
       "    <tr>\n",
       "      <th>21</th>\n",
       "      <td>0.21</td>\n",
       "      <td>40.00</td>\n",
       "      <td>1</td>\n",
       "    </tr>\n",
       "    <tr>\n",
       "      <th>22</th>\n",
       "      <td>0.22</td>\n",
       "      <td>40.00</td>\n",
       "      <td>1</td>\n",
       "    </tr>\n",
       "    <tr>\n",
       "      <th>23</th>\n",
       "      <td>0.23</td>\n",
       "      <td>40.00</td>\n",
       "      <td>1</td>\n",
       "    </tr>\n",
       "    <tr>\n",
       "      <th>24</th>\n",
       "      <td>0.24</td>\n",
       "      <td>41.00</td>\n",
       "      <td>1</td>\n",
       "    </tr>\n",
       "    <tr>\n",
       "      <th>25</th>\n",
       "      <td>0.25</td>\n",
       "      <td>41.00</td>\n",
       "      <td>1</td>\n",
       "    </tr>\n",
       "    <tr>\n",
       "      <th>26</th>\n",
       "      <td>0.26</td>\n",
       "      <td>42.00</td>\n",
       "      <td>1</td>\n",
       "    </tr>\n",
       "    <tr>\n",
       "      <th>27</th>\n",
       "      <td>0.27</td>\n",
       "      <td>42.00</td>\n",
       "      <td>1</td>\n",
       "    </tr>\n",
       "    <tr>\n",
       "      <th>28</th>\n",
       "      <td>0.28</td>\n",
       "      <td>43.00</td>\n",
       "      <td>1</td>\n",
       "    </tr>\n",
       "    <tr>\n",
       "      <th>29</th>\n",
       "      <td>0.29</td>\n",
       "      <td>43.00</td>\n",
       "      <td>1</td>\n",
       "    </tr>\n",
       "    <tr>\n",
       "      <th>...</th>\n",
       "      <td>...</td>\n",
       "      <td>...</td>\n",
       "      <td>...</td>\n",
       "    </tr>\n",
       "    <tr>\n",
       "      <th>71</th>\n",
       "      <td>0.71</td>\n",
       "      <td>58.00</td>\n",
       "      <td>0</td>\n",
       "    </tr>\n",
       "    <tr>\n",
       "      <th>72</th>\n",
       "      <td>0.72</td>\n",
       "      <td>58.00</td>\n",
       "      <td>0</td>\n",
       "    </tr>\n",
       "    <tr>\n",
       "      <th>73</th>\n",
       "      <td>0.73</td>\n",
       "      <td>59.00</td>\n",
       "      <td>0</td>\n",
       "    </tr>\n",
       "    <tr>\n",
       "      <th>74</th>\n",
       "      <td>0.74</td>\n",
       "      <td>59.00</td>\n",
       "      <td>0</td>\n",
       "    </tr>\n",
       "    <tr>\n",
       "      <th>75</th>\n",
       "      <td>0.75</td>\n",
       "      <td>59.00</td>\n",
       "      <td>0</td>\n",
       "    </tr>\n",
       "    <tr>\n",
       "      <th>76</th>\n",
       "      <td>0.76</td>\n",
       "      <td>60.00</td>\n",
       "      <td>0</td>\n",
       "    </tr>\n",
       "    <tr>\n",
       "      <th>77</th>\n",
       "      <td>0.77</td>\n",
       "      <td>60.00</td>\n",
       "      <td>0</td>\n",
       "    </tr>\n",
       "    <tr>\n",
       "      <th>78</th>\n",
       "      <td>0.78</td>\n",
       "      <td>61.00</td>\n",
       "      <td>0</td>\n",
       "    </tr>\n",
       "    <tr>\n",
       "      <th>79</th>\n",
       "      <td>0.79</td>\n",
       "      <td>61.00</td>\n",
       "      <td>0</td>\n",
       "    </tr>\n",
       "    <tr>\n",
       "      <th>80</th>\n",
       "      <td>0.80</td>\n",
       "      <td>62.00</td>\n",
       "      <td>0</td>\n",
       "    </tr>\n",
       "    <tr>\n",
       "      <th>81</th>\n",
       "      <td>0.81</td>\n",
       "      <td>62.00</td>\n",
       "      <td>0</td>\n",
       "    </tr>\n",
       "    <tr>\n",
       "      <th>82</th>\n",
       "      <td>0.82</td>\n",
       "      <td>63.00</td>\n",
       "      <td>0</td>\n",
       "    </tr>\n",
       "    <tr>\n",
       "      <th>83</th>\n",
       "      <td>0.83</td>\n",
       "      <td>63.00</td>\n",
       "      <td>0</td>\n",
       "    </tr>\n",
       "    <tr>\n",
       "      <th>84</th>\n",
       "      <td>0.84</td>\n",
       "      <td>64.00</td>\n",
       "      <td>0</td>\n",
       "    </tr>\n",
       "    <tr>\n",
       "      <th>85</th>\n",
       "      <td>0.85</td>\n",
       "      <td>64.00</td>\n",
       "      <td>0</td>\n",
       "    </tr>\n",
       "    <tr>\n",
       "      <th>86</th>\n",
       "      <td>0.86</td>\n",
       "      <td>65.00</td>\n",
       "      <td>0</td>\n",
       "    </tr>\n",
       "    <tr>\n",
       "      <th>87</th>\n",
       "      <td>0.87</td>\n",
       "      <td>65.00</td>\n",
       "      <td>0</td>\n",
       "    </tr>\n",
       "    <tr>\n",
       "      <th>88</th>\n",
       "      <td>0.88</td>\n",
       "      <td>66.00</td>\n",
       "      <td>0</td>\n",
       "    </tr>\n",
       "    <tr>\n",
       "      <th>89</th>\n",
       "      <td>0.89</td>\n",
       "      <td>67.00</td>\n",
       "      <td>0</td>\n",
       "    </tr>\n",
       "    <tr>\n",
       "      <th>90</th>\n",
       "      <td>0.90</td>\n",
       "      <td>68.00</td>\n",
       "      <td>0</td>\n",
       "    </tr>\n",
       "    <tr>\n",
       "      <th>91</th>\n",
       "      <td>0.91</td>\n",
       "      <td>68.00</td>\n",
       "      <td>0</td>\n",
       "    </tr>\n",
       "    <tr>\n",
       "      <th>92</th>\n",
       "      <td>0.92</td>\n",
       "      <td>69.00</td>\n",
       "      <td>0</td>\n",
       "    </tr>\n",
       "    <tr>\n",
       "      <th>93</th>\n",
       "      <td>0.93</td>\n",
       "      <td>70.00</td>\n",
       "      <td>0</td>\n",
       "    </tr>\n",
       "    <tr>\n",
       "      <th>94</th>\n",
       "      <td>0.94</td>\n",
       "      <td>71.00</td>\n",
       "      <td>0</td>\n",
       "    </tr>\n",
       "    <tr>\n",
       "      <th>95</th>\n",
       "      <td>0.95</td>\n",
       "      <td>72.00</td>\n",
       "      <td>0</td>\n",
       "    </tr>\n",
       "    <tr>\n",
       "      <th>96</th>\n",
       "      <td>0.96</td>\n",
       "      <td>73.00</td>\n",
       "      <td>0</td>\n",
       "    </tr>\n",
       "    <tr>\n",
       "      <th>97</th>\n",
       "      <td>0.97</td>\n",
       "      <td>75.00</td>\n",
       "      <td>0</td>\n",
       "    </tr>\n",
       "    <tr>\n",
       "      <th>98</th>\n",
       "      <td>0.98</td>\n",
       "      <td>76.00</td>\n",
       "      <td>0</td>\n",
       "    </tr>\n",
       "    <tr>\n",
       "      <th>99</th>\n",
       "      <td>0.99</td>\n",
       "      <td>79.00</td>\n",
       "      <td>0</td>\n",
       "    </tr>\n",
       "    <tr>\n",
       "      <th>100</th>\n",
       "      <td>1.00</td>\n",
       "      <td>86.00</td>\n",
       "      <td>0</td>\n",
       "    </tr>\n",
       "  </tbody>\n",
       "</table>\n",
       "<p>101 rows × 3 columns</p>\n",
       "</div>"
      ],
      "text/plain": [
       "     quantile  popularity  cluster\n",
       "0        0.00        0.00        1\n",
       "1        0.01       20.00        1\n",
       "2        0.02       23.00        1\n",
       "3        0.03       25.00        1\n",
       "4        0.04       27.00        1\n",
       "5        0.05       28.00        1\n",
       "6        0.06       29.00        1\n",
       "7        0.07       30.00        1\n",
       "8        0.08       31.00        1\n",
       "9        0.09       32.00        1\n",
       "10       0.10       33.00        1\n",
       "11       0.11       34.00        1\n",
       "12       0.12       34.76        1\n",
       "13       0.13       35.00        1\n",
       "14       0.14       36.00        1\n",
       "15       0.15       36.00        1\n",
       "16       0.16       37.00        1\n",
       "17       0.17       38.00        1\n",
       "18       0.18       38.00        1\n",
       "19       0.19       39.00        1\n",
       "20       0.20       39.00        1\n",
       "21       0.21       40.00        1\n",
       "22       0.22       40.00        1\n",
       "23       0.23       40.00        1\n",
       "24       0.24       41.00        1\n",
       "25       0.25       41.00        1\n",
       "26       0.26       42.00        1\n",
       "27       0.27       42.00        1\n",
       "28       0.28       43.00        1\n",
       "29       0.29       43.00        1\n",
       "..        ...         ...      ...\n",
       "71       0.71       58.00        0\n",
       "72       0.72       58.00        0\n",
       "73       0.73       59.00        0\n",
       "74       0.74       59.00        0\n",
       "75       0.75       59.00        0\n",
       "76       0.76       60.00        0\n",
       "77       0.77       60.00        0\n",
       "78       0.78       61.00        0\n",
       "79       0.79       61.00        0\n",
       "80       0.80       62.00        0\n",
       "81       0.81       62.00        0\n",
       "82       0.82       63.00        0\n",
       "83       0.83       63.00        0\n",
       "84       0.84       64.00        0\n",
       "85       0.85       64.00        0\n",
       "86       0.86       65.00        0\n",
       "87       0.87       65.00        0\n",
       "88       0.88       66.00        0\n",
       "89       0.89       67.00        0\n",
       "90       0.90       68.00        0\n",
       "91       0.91       68.00        0\n",
       "92       0.92       69.00        0\n",
       "93       0.93       70.00        0\n",
       "94       0.94       71.00        0\n",
       "95       0.95       72.00        0\n",
       "96       0.96       73.00        0\n",
       "97       0.97       75.00        0\n",
       "98       0.98       76.00        0\n",
       "99       0.99       79.00        0\n",
       "100      1.00       86.00        0\n",
       "\n",
       "[101 rows x 3 columns]"
      ]
     },
     "execution_count": 25,
     "metadata": {},
     "output_type": "execute_result"
    }
   ],
   "source": [
    "quantile"
   ]
  },
  {
   "cell_type": "code",
   "execution_count": 26,
   "metadata": {},
   "outputs": [
    {
     "name": "stdout",
     "output_type": "stream",
     "text": [
      "1 0.0 48.0\n",
      "0 49.0 86.0\n"
     ]
    }
   ],
   "source": [
    "one=quantile[quantile.cluster==1]\n",
    "#two=quantile[quantile.cluster==2]\n",
    "#three=quantile[quantile.cluster==3]\n",
    "zero=quantile[quantile.cluster==0]\n",
    "#four=quantile[quantile.cluster==4]\n",
    "min_one=np.min(one['popularity'])\n",
    "max_one=np.max(one['popularity'])\n",
    "#min_two=np.min(two['popularity'])\n",
    "#max_two=np.max(two['popularity'])\n",
    "#min_three=np.min(three['popularity'])\n",
    "#max_three=np.max(three['popularity'])\n",
    "min_zero=np.min(zero['popularity'])\n",
    "max_zero=np.max(zero['popularity'])\n",
    "#min_four=np.min(four['popularity'])\n",
    "#max_four=np.max(four['popularity'])\n",
    "print(1,min_one,max_one)\n",
    "#print(2,min_two,max_two)\n",
    "#print(3,min_three,max_three)\n",
    "#print(4,min_four,max_four)\n",
    "print(0,min_zero,max_zero)"
   ]
  },
  {
   "cell_type": "code",
   "execution_count": 27,
   "metadata": {},
   "outputs": [
    {
     "data": {
      "text/html": [
       "<div>\n",
       "<style scoped>\n",
       "    .dataframe tbody tr th:only-of-type {\n",
       "        vertical-align: middle;\n",
       "    }\n",
       "\n",
       "    .dataframe tbody tr th {\n",
       "        vertical-align: top;\n",
       "    }\n",
       "\n",
       "    .dataframe thead th {\n",
       "        text-align: right;\n",
       "    }\n",
       "</style>\n",
       "<table border=\"1\" class=\"dataframe\">\n",
       "  <thead>\n",
       "    <tr style=\"text-align: right;\">\n",
       "      <th></th>\n",
       "      <th>genre</th>\n",
       "      <th>artist_name</th>\n",
       "      <th>track_name</th>\n",
       "      <th>track_id</th>\n",
       "      <th>popularity</th>\n",
       "      <th>acousticness</th>\n",
       "      <th>danceability</th>\n",
       "      <th>duration_ms</th>\n",
       "      <th>energy</th>\n",
       "      <th>instrumentalness</th>\n",
       "      <th>...</th>\n",
       "      <th>time_signature</th>\n",
       "      <th>valence</th>\n",
       "      <th>text</th>\n",
       "      <th>compression_rate</th>\n",
       "      <th>senti_%+</th>\n",
       "      <th>senti_%-</th>\n",
       "      <th>senti_%=</th>\n",
       "      <th>senti_total</th>\n",
       "      <th>track_length</th>\n",
       "      <th>label</th>\n",
       "    </tr>\n",
       "  </thead>\n",
       "  <tbody>\n",
       "    <tr>\n",
       "      <th>5273</th>\n",
       "      <td>Country</td>\n",
       "      <td>kris kristofferson</td>\n",
       "      <td>why me</td>\n",
       "      <td>5xpd9uCrrCnh7ssgoAnAFK</td>\n",
       "      <td>0</td>\n",
       "      <td>0.861</td>\n",
       "      <td>0.626</td>\n",
       "      <td>177840</td>\n",
       "      <td>0.255</td>\n",
       "      <td>0.0</td>\n",
       "      <td>...</td>\n",
       "      <td>3/4</td>\n",
       "      <td>0.492</td>\n",
       "      <td>Why me Lord what have I ever done to deserve e...</td>\n",
       "      <td>0.504505</td>\n",
       "      <td>0.840336</td>\n",
       "      <td>0</td>\n",
       "      <td>99.1597</td>\n",
       "      <td>1</td>\n",
       "      <td>2</td>\n",
       "      <td>0</td>\n",
       "    </tr>\n",
       "  </tbody>\n",
       "</table>\n",
       "<p>1 rows × 26 columns</p>\n",
       "</div>"
      ],
      "text/plain": [
       "        genre         artist_name track_name                track_id  \\\n",
       "5273  Country  kris kristofferson     why me  5xpd9uCrrCnh7ssgoAnAFK   \n",
       "\n",
       "      popularity  acousticness  danceability  duration_ms  energy  \\\n",
       "5273           0         0.861         0.626       177840   0.255   \n",
       "\n",
       "      instrumentalness  ... time_signature  valence  \\\n",
       "5273               0.0  ...            3/4    0.492   \n",
       "\n",
       "                                                   text compression_rate  \\\n",
       "5273  Why me Lord what have I ever done to deserve e...         0.504505   \n",
       "\n",
       "      senti_%+  senti_%- senti_%=  senti_total track_length  label  \n",
       "5273  0.840336         0  99.1597            1            2      0  \n",
       "\n",
       "[1 rows x 26 columns]"
      ]
     },
     "execution_count": 27,
     "metadata": {},
     "output_type": "execute_result"
    }
   ],
   "source": [
    "conditions = [\n",
    "    (song_lyrics['popularity'] >= 50)&(song_lyrics['popularity'] <=100),\n",
    "    (song_lyrics['popularity'] >= 42)&(song_lyrics['popularity'] <=49),\n",
    "    (song_lyrics['popularity'] >= 38)&(song_lyrics['popularity'] <=41),\n",
    "    (song_lyrics['popularity'] >= 20)&(song_lyrics['popularity'] <=37),\n",
    "    (song_lyrics['popularity'] >= 19)&(song_lyrics['popularity'] <=0)]\n",
    "choices = [1,0,0,0,0]\n",
    "song_lyrics['label'] = np.select(conditions, choices)\n",
    "song_lyrics.tail(1)"
   ]
  },
  {
   "cell_type": "markdown",
   "metadata": {},
   "source": [
    "2. Acousticness"
   ]
  },
  {
   "cell_type": "code",
   "execution_count": 28,
   "metadata": {},
   "outputs": [
    {
     "data": {
      "text/plain": [
       "<matplotlib.axes._subplots.AxesSubplot at 0x1a236f9710>"
      ]
     },
     "execution_count": 28,
     "metadata": {},
     "output_type": "execute_result"
    },
    {
     "data": {
      "image/png": "[encoded data removed]",
      "text/plain": [
       "<Figure size 432x288 with 1 Axes>"
      ]
     },
     "metadata": {
      "needs_background": "light"
     },
     "output_type": "display_data"
    }
   ],
   "source": [
    "quantile_acou=Spotify['acousticness'].quantile(np.arange(0, 1.01, 0.01).tolist())\n",
    "quantile_acou=quantile_acou.reset_index()\n",
    "quantile_acou.rename(columns={'index':'quantile'}, inplace=True)\n",
    "sns.lineplot(quantile_acou['acousticness'],quantile_acou['quantile'])"
   ]
  },
  {
   "cell_type": "code",
   "execution_count": 29,
   "metadata": {},
   "outputs": [
    {
     "data": {
      "text/plain": [
       "<matplotlib.collections.PathCollection at 0x1a24b79d30>"
      ]
     },
     "execution_count": 29,
     "metadata": {},
     "output_type": "execute_result"
    },
    {
     "data": {
      "image/png": "[encoded data removed]",
      "text/plain": [
       "<Figure size 432x288 with 1 Axes>"
      ]
     },
     "metadata": {
      "needs_background": "light"
     },
     "output_type": "display_data"
    }
   ],
   "source": [
    "kmeans = KMeans(n_clusters=4)\n",
    "kmeans.fit(quantile_acou)\n",
    "quantile_acou['cluster']=kmeans.predict(quantile_acou)\n",
    "plt.scatter(quantile_acou['acousticness'],quantile_acou['cluster'])"
   ]
  },
  {
   "cell_type": "code",
   "execution_count": 30,
   "metadata": {},
   "outputs": [
    {
     "name": "stdout",
     "output_type": "stream",
     "text": [
      "0 0.354 0.722\n",
      "1 0.0709 0.337\n",
      "2 0.7410000000000001 0.996\n",
      "3 0.0 0.0651\n"
     ]
    }
   ],
   "source": [
    "zero=quantile_acou[quantile_acou.cluster==0]\n",
    "one=quantile_acou[quantile_acou.cluster==1]\n",
    "two=quantile_acou[quantile_acou.cluster==2]\n",
    "three=quantile_acou[quantile_acou.cluster==3]\n",
    "four=quantile_acou[quantile_acou.cluster==4]\n",
    "\n",
    "min_zero=np.min(zero['acousticness'])\n",
    "max_zero=np.max(zero['acousticness'])\n",
    "min_one=np.min(one['acousticness'])\n",
    "max_one=np.max(one['acousticness'])\n",
    "min_two=np.min(two['acousticness'])\n",
    "max_two=np.max(two['acousticness'])\n",
    "min_three=np.min(three['acousticness'])\n",
    "max_three=np.max(three['acousticness'])\n",
    "\n",
    "print(0,min_zero,max_zero)\n",
    "print(1,min_one,max_one)\n",
    "print(2,min_two,max_two)\n",
    "print(3,min_three,max_three)"
   ]
  },
  {
   "cell_type": "code",
   "execution_count": 31,
   "metadata": {},
   "outputs": [],
   "source": [
    "conditions_acou = [\n",
    "    (Spotify['acousticness'] >= 0.6158599999999996)&(Spotify['acousticness'] <=0.995),\n",
    "    (Spotify['acousticness'] >= 0.251)& (Spotify['acousticness'] <=0.594),\n",
    "    (Spotify['acousticness'] >= 0.0363)&(Spotify['acousticness'] <=0.239),\n",
    "    (Spotify['acousticness'] >= 1.39e-06)&(Spotify['acousticness'] <=0.03276299999999999)]\n",
    "choices_acou = [3, 2,1,0]\n",
    "Spotify['label_acou'] = np.select(conditions_acou, choices_acou)"
   ]
  },
  {
   "cell_type": "markdown",
   "metadata": {},
   "source": [
    "# Features Engineering"
   ]
  },
  {
   "cell_type": "markdown",
   "metadata": {},
   "source": [
    "1. Analysing features distributions"
   ]
  },
  {
   "cell_type": "code",
   "execution_count": 32,
   "metadata": {},
   "outputs": [
    {
     "data": {
      "text/plain": [
       "<matplotlib.axes._subplots.AxesSubplot at 0x1a2607bc18>"
      ]
     },
     "execution_count": 32,
     "metadata": {},
     "output_type": "execute_result"
    },
    {
     "data": {
      "image/png": "[encoded data removed]",
      "text/plain": [
       "<Figure size 1008x576 with 10 Axes>"
      ]
     },
     "metadata": {
      "needs_background": "light"
     },
     "output_type": "display_data"
    }
   ],
   "source": [
    "f, axes = plt.subplots(2, 5, figsize=(14, 8), sharex=False)\n",
    "sns.distplot(song_lyrics['popularity'],ax=axes[0,0])\n",
    "sns.distplot(song_lyrics['acousticness'],ax=axes[0,1])\n",
    "sns.distplot(song_lyrics['danceability'],ax=axes[0,2])\n",
    "sns.distplot(song_lyrics['energy'],ax=axes[0,3])\n",
    "sns.distplot(song_lyrics['instrumentalness'],ax=axes[0, 4])\n",
    "sns.distplot(song_lyrics['liveness'],ax=axes[1,0])\n",
    "sns.distplot(song_lyrics['loudness'],ax=axes[1,1])\n",
    "sns.distplot(song_lyrics['speechiness'],ax=axes[1,2])\n",
    "sns.distplot(song_lyrics['valence'],ax=axes[1,3])\n",
    "sns.distplot(song_lyrics['tempo'],ax=axes[1,4])"
   ]
  },
  {
   "cell_type": "code",
   "execution_count": 33,
   "metadata": {},
   "outputs": [
    {
     "data": {
      "text/plain": [
       "(array([ 13.,   1.,   6.,  21.,  28.,  93., 217., 254., 366., 457., 668.,\n",
       "        645., 640., 689., 427., 301., 250., 122.,  54.,  22.]),\n",
       " array([ 0. ,  4.3,  8.6, 12.9, 17.2, 21.5, 25.8, 30.1, 34.4, 38.7, 43. ,\n",
       "        47.3, 51.6, 55.9, 60.2, 64.5, 68.8, 73.1, 77.4, 81.7, 86. ]),\n",
       " <a list of 20 Patch objects>)"
      ]
     },
     "execution_count": 33,
     "metadata": {},
     "output_type": "execute_result"
    },
    {
     "data": {
      "image/png": "[encoded data removed]",
      "text/plain": [
       "<Figure size 432x288 with 1 Axes>"
      ]
     },
     "metadata": {
      "needs_background": "light"
     },
     "output_type": "display_data"
    }
   ],
   "source": [
    "plt.hist(song_lyrics['popularity'], bins=20)"
   ]
  },
  {
   "cell_type": "code",
   "execution_count": 34,
   "metadata": {},
   "outputs": [
    {
     "data": {
      "text/plain": [
       "<matplotlib.axes._subplots.AxesSubplot at 0x1a237ddda0>"
      ]
     },
     "execution_count": 34,
     "metadata": {},
     "output_type": "execute_result"
    },
    {
     "data": {
      "image/png": "[encoded data removed]",
      "text/plain": [
       "<Figure size 432x288 with 1 Axes>"
      ]
     },
     "metadata": {
      "needs_background": "light"
     },
     "output_type": "display_data"
    }
   ],
   "source": [
    "sns.distplot(song_lyrics['compression_rate'])"
   ]
  },
  {
   "cell_type": "code",
   "execution_count": 35,
   "metadata": {},
   "outputs": [
    {
     "data": {
      "text/plain": [
       "<matplotlib.collections.PathCollection at 0x1a274297f0>"
      ]
     },
     "execution_count": 35,
     "metadata": {},
     "output_type": "execute_result"
    },
    {
     "data": {
      "image/png": "[encoded data removed]",
      "text/plain": [
       "<Figure size 432x288 with 1 Axes>"
      ]
     },
     "metadata": {
      "needs_background": "light"
     },
     "output_type": "display_data"
    }
   ],
   "source": [
    "#plt.scatter(song_lyrics['popularity'],song_lyrics['senti_%+'] )\n",
    "#plt.scatter(song_lyrics['popularity'],song_lyrics['senti_%='] )\n",
    "#plt.scatter(song_lyrics['popularity'],song_lyrics['senti_%-'] )\n",
    "plt.scatter(song_lyrics['popularity'],song_lyrics['senti_total'] )\n",
    "#plt.scatter(song_lyrics['popularity'],song_lyrics['speechiness'] )\n",
    "#plt.scatter(song_lyrics['popularity'],song_lyrics['speechiness'] )\n",
    "#plt.scatter(song_lyrics['popularity'],song_lyrics['valence'] )\n",
    "#plt.scatter(song_lyrics['popularity'],song_lyrics['compression_rate'] )\n",
    "#plt.scatter(song_lyrics['popularity'],song_lyrics['acousticness'] )"
   ]
  },
  {
   "cell_type": "code",
   "execution_count": 40,
   "metadata": {},
   "outputs": [
    {
     "data": {
      "text/plain": [
       "<matplotlib.axes._subplots.AxesSubplot at 0x1a29f36278>"
      ]
     },
     "execution_count": 40,
     "metadata": {},
     "output_type": "execute_result"
    },
    {
     "data": {
      "image/png": "[encoded data removed]",
      "text/plain": [
       "<Figure size 432x288 with 1 Axes>"
      ]
     },
     "metadata": {
      "needs_background": "light"
     },
     "output_type": "display_data"
    }
   ],
   "source": [
    "#turning duration_ms to improve this feature\n",
    "ln_duration_ms = np.log(song_lyrics['duration_ms'])\n",
    "ln_liveness = np.log(song_lyrics['liveness'])\n",
    "sns.distplot(ln_duration_ms)\n",
    "sns.distplot(ln_liveness)"
   ]
  },
  {
   "cell_type": "markdown",
   "metadata": {},
   "source": [
    "2. Encoding"
   ]
  },
  {
   "cell_type": "code",
   "execution_count": 41,
   "metadata": {},
   "outputs": [
    {
     "name": "stdout",
     "output_type": "stream",
     "text": [
      "(5274,) (5274,) (5274,) (5274,)\n"
     ]
    }
   ],
   "source": [
    "# renaming data before classification\n",
    "\n",
    "# track features\n",
    "genre = song_lyrics['genre'].str.strip()\n",
    "genre = song_lyrics['genre'].str.lower()\n",
    "artist_name = song_lyrics['artist_name'].str.strip()\n",
    "artist_name = song_lyrics['artist_name'].str.lower()\n",
    "track_name = song_lyrics['track_name']\n",
    "track_id = song_lyrics['track_id']\n",
    "\n",
    "# spotify features\n",
    "popularity = song_lyrics['popularity']\n",
    "acousticness = song_lyrics['acousticness']\n",
    "danceability = song_lyrics['danceability']\n",
    "duration_ms = song_lyrics['duration_ms']\n",
    "energy = song_lyrics ['energy']\n",
    "instrumentalness = song_lyrics['instrumentalness']\n",
    "key = song_lyrics['key']\n",
    "liveness = song_lyrics['liveness']\n",
    "loudness = song_lyrics['loudness']\n",
    "mode = song_lyrics['mode']\n",
    "speechiness = song_lyrics['speechiness']\n",
    "tempo = song_lyrics['tempo']\n",
    "time_signature = song_lyrics['time_signature']\n",
    "valence = song_lyrics['valence']\n",
    "\n",
    "# sentimental features\n",
    "text = song_lyrics['text']\n",
    "compression_rate = song_lyrics['compression_rate']\n",
    "senti_positive = song_lyrics['senti_%+']\n",
    "senti_neutral = song_lyrics['senti_%=']\n",
    "senti_negative = song_lyrics['senti_%-']\n",
    "senti_total = song_lyrics['senti_total']\n",
    "\n",
    "print(senti_total.shape,senti_neutral.shape,senti_negative.shape,senti_positive.shape)"
   ]
  },
  {
   "cell_type": "code",
   "execution_count": 42,
   "metadata": {},
   "outputs": [],
   "source": [
    "# encoding discrete data\n",
    "\n",
    "# track features\n",
    "genre_encoded = pd.get_dummies(genre,prefix='genre', dummy_na=False)\n",
    "artist_name_encoded = pd.get_dummies(artist_name,prefix='artist_name', dummy_na=False)\n",
    "\n",
    "# spotify features \n",
    "key_encoded = pd.get_dummies(key,prefix='key', dummy_na=False)\n",
    "mode_encoded = pd.get_dummies(mode,prefix='mode', dummy_na=False)\n",
    "time_signature_encoded = pd.get_dummies(time_signature,prefix='time_signature', dummy_na=False)\n",
    "class_acou_encoded = pd.get_dummies(time_signature,prefix='label_acou', dummy_na=False)\n",
    "#sentimal features \n",
    "#senti_positive_enoded = pd.get_dummies(senti_positive,prefix='senti_positive', dummy_na=False)\n",
    "#senti_neutral_encoded = pd.get_dummies(senti_neutral,prefix='senti_neutral', dummy_na=False)\n",
    "#senti_negative_encoded = pd.get_dummies(senti_negative,prefix='senti_negative', dummy_na=False)\n",
    "#senti_total_encoded = pd.get_dummies(senti_total,prefix='senti_total', dummy_na=False)\n",
    "#class_acou_encoded"
   ]
  },
  {
   "cell_type": "code",
   "execution_count": 44,
   "metadata": {},
   "outputs": [
    {
     "name": "stdout",
     "output_type": "stream",
     "text": [
      "(5274, 15)\n"
     ]
    }
   ],
   "source": [
    "final_num=pd.DataFrame({'track_length':song_lyrics['track_length'],'compression_rate':compression_rate,'danceability':danceability,'duration_ms':ln_duration_ms,'energy':energy,'instrumentalness':instrumentalness,'liveness':ln_liveness,'loudness':loudness,'speechiness':speechiness,'tempo':tempo, 'valence':valence,'senti_%+':senti_positive, 'senti_%=':senti_neutral,'senti_%-':senti_negative, 'senti_total':senti_total })\n",
    "print(final_num.shape)\n",
    "\n"
   ]
  },
  {
   "cell_type": "code",
   "execution_count": 45,
   "metadata": {},
   "outputs": [
    {
     "data": {
      "text/plain": [
       "(5274, 9)"
      ]
     },
     "execution_count": 45,
     "metadata": {},
     "output_type": "execute_result"
    }
   ],
   "source": [
    "final_num2=pd.DataFrame({'danceability':danceability,'duration_ms':ln_duration_ms,'energy':energy,'instrumentalness':instrumentalness,'liveness':ln_liveness,'loudness':loudness,'speechiness':speechiness,'tempo':tempo, 'valence':valence})\n",
    "final_num2.shape\n",
    "\n"
   ]
  },
  {
   "cell_type": "code",
   "execution_count": 46,
   "metadata": {},
   "outputs": [
    {
     "data": {
      "text/plain": [
       "(5274, 26)"
      ]
     },
     "execution_count": 46,
     "metadata": {},
     "output_type": "execute_result"
    }
   ],
   "source": [
    "song_lyrics.shape"
   ]
  },
  {
   "cell_type": "code",
   "execution_count": 47,
   "metadata": {},
   "outputs": [
    {
     "data": {
      "text/plain": [
       "(5274, 15)"
      ]
     },
     "execution_count": 47,
     "metadata": {},
     "output_type": "execute_result"
    }
   ],
   "source": [
    "final_num.shape"
   ]
  },
  {
   "cell_type": "code",
   "execution_count": 48,
   "metadata": {},
   "outputs": [],
   "source": [
    "final_encode=pd.concat([class_acou_encoded,key_encoded,mode_encoded,time_signature_encoded,genre_encoded,artist_name_encoded],axis=1)"
   ]
  },
  {
   "cell_type": "code",
   "execution_count": 49,
   "metadata": {},
   "outputs": [
    {
     "data": {
      "text/plain": [
       "(5274, 460)"
      ]
     },
     "execution_count": 49,
     "metadata": {},
     "output_type": "execute_result"
    }
   ],
   "source": [
    "final_encode.shape"
   ]
  },
  {
   "cell_type": "code",
   "execution_count": 50,
   "metadata": {},
   "outputs": [],
   "source": [
    "final=pd.concat([final_num,final_encode],axis=1)\n"
   ]
  },
  {
   "cell_type": "code",
   "execution_count": 51,
   "metadata": {},
   "outputs": [],
   "source": [
    "label=song_lyrics['label']"
   ]
  },
  {
   "cell_type": "code",
   "execution_count": 52,
   "metadata": {},
   "outputs": [],
   "source": [
    "from sklearn.model_selection import train_test_split\n",
    "xTrain, xTest, yTrain, yTest = train_test_split(final, label, test_size = 0.2, random_state = 1)"
   ]
  },
  {
   "cell_type": "code",
   "execution_count": 53,
   "metadata": {},
   "outputs": [
    {
     "data": {
      "text/plain": [
       "(1055,)"
      ]
     },
     "execution_count": 53,
     "metadata": {},
     "output_type": "execute_result"
    }
   ],
   "source": [
    "yTest.shape"
   ]
  },
  {
   "cell_type": "code",
   "execution_count": 54,
   "metadata": {},
   "outputs": [
    {
     "name": "stderr",
     "output_type": "stream",
     "text": [
      "/anaconda3/lib/python3.7/site-packages/sklearn/ensemble/forest.py:246: FutureWarning: The default value of n_estimators will change from 10 in version 0.20 to 100 in 0.22.\n",
      "  \"10 in version 0.20 to 100 in 0.22.\", FutureWarning)\n"
     ]
    },
    {
     "name": "stdout",
     "output_type": "stream",
     "text": [
      "Accuracy: 0.7914691943127962\n"
     ]
    }
   ],
   "source": [
    "RFC_Model = RandomForestClassifier()\n",
    "RFC_Model.fit(xTrain, yTrain)\n",
    "RFC_Predict = RFC_Model.predict(xTest)\n",
    "RFC_Accuracy = accuracy_score(yTest, RFC_Predict)\n",
    "print(\"Accuracy: \" + str(RFC_Accuracy))\n",
    "\n",
    "#RFC_AUC = roc_auc_score(yTest, RFC_Predict) \n",
    "#print(\"AUC: \" + str(RFC_AUC))"
   ]
  },
  {
   "cell_type": "code",
   "execution_count": 55,
   "metadata": {},
   "outputs": [
    {
     "name": "stdout",
     "output_type": "stream",
     "text": [
      "Accuracy: 0.609478672985782\n"
     ]
    }
   ],
   "source": [
    "KNN_Model = KNeighborsClassifier(n_neighbors=5)\n",
    "KNN_Model.fit(xTrain, yTrain)\n",
    "KNN_Predict = KNN_Model.predict(xTest)\n",
    "KNN_Accuracy = accuracy_score(yTest, KNN_Predict)\n",
    "print(\"Accuracy: \" + str(KNN_Accuracy))"
   ]
  },
  {
   "cell_type": "code",
   "execution_count": 56,
   "metadata": {},
   "outputs": [
    {
     "name": "stderr",
     "output_type": "stream",
     "text": [
      "/anaconda3/lib/python3.7/site-packages/sklearn/linear_model/logistic.py:433: FutureWarning: Default solver will be changed to 'lbfgs' in 0.22. Specify a solver to silence this warning.\n",
      "  FutureWarning)\n"
     ]
    },
    {
     "name": "stdout",
     "output_type": "stream",
     "text": [
      "Accuracy: 0.8502369668246446\n"
     ]
    }
   ],
   "source": [
    "LR_Model = LogisticRegression()\n",
    "LR_Model.fit(xTrain, yTrain)\n",
    "LR_Predict = LR_Model.predict(xTest)\n",
    "LR_Accuracy = accuracy_score(yTest, LR_Predict)\n",
    "print(\"Accuracy: \" + str(LR_Accuracy))"
   ]
  },
  {
   "cell_type": "code",
   "execution_count": 57,
   "metadata": {},
   "outputs": [
    {
     "name": "stdout",
     "output_type": "stream",
     "text": [
      "Accuracy: 0.837914691943128\n"
     ]
    }
   ],
   "source": [
    "from sklearn.ensemble import AdaBoostClassifier\n",
    "ada = AdaBoostClassifier(n_estimators=100)\n",
    "ada.fit(xTrain, yTrain)\n",
    "ada_pred = ada.predict(xTest)\n",
    "ada_Accuracy = accuracy_score(yTest, ada_pred)\n",
    "print(\"Accuracy: \" + str(ada_Accuracy))"
   ]
  },
  {
   "cell_type": "code",
   "execution_count": 58,
   "metadata": {},
   "outputs": [
    {
     "name": "stdout",
     "output_type": "stream",
     "text": [
      "Accuracy: 0.7004739336492891\n"
     ]
    }
   ],
   "source": [
    "from sklearn.naive_bayes import GaussianNB\n",
    "gnb = GaussianNB()\n",
    "nb_pred = gnb.fit(xTrain, yTrain).predict(xTest)\n",
    "nb_Accuracy = accuracy_score(yTest, nb_pred)\n",
    "print(\"Accuracy: \" + str(nb_Accuracy))"
   ]
  },
  {
   "cell_type": "code",
   "execution_count": null,
   "metadata": {},
   "outputs": [],
   "source": []
  }
 ],
 "metadata": {
  "kernelspec": {
   "display_name": "Python 3",
   "language": "python",
   "name": "python3"
  },
  "language_info": {
   "codemirror_mode": {
    "name": "ipython",
    "version": 3
   },
   "file_extension": ".py",
   "mimetype": "text/x-python",
   "name": "python",
   "nbconvert_exporter": "python",
   "pygments_lexer": "ipython3",
   "version": "3.7.3"
  }
 },
 "nbformat": 4,
 "nbformat_minor": 4
}
