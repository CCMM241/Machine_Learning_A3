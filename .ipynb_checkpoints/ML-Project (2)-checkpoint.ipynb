{
 "cells": [
  {
   "cell_type": "code",
   "execution_count": 45,
   "metadata": {},
   "outputs": [
    {
     "name": "stderr",
     "output_type": "stream",
     "text": [
      "[nltk_data] Downloading package vader_lexicon to\n",
      "[nltk_data]     C:\\Users\\HP\\AppData\\Roaming\\nltk_data...\n",
      "[nltk_data]   Package vader_lexicon is already up-to-date!\n"
     ]
    }
   ],
   "source": [
    "import numpy as np\n",
    "import pandas as pd\n",
    "import pandas_profiling\n",
    "import matplotlib.pyplot as plt\n",
    "import re\n",
    "import os\n",
    "import zlib\n",
    "from nltk.sentiment.vader import SentimentIntensityAnalyzer\n",
    "import sys\n",
    "import seaborn as sns\n",
    "from sklearn.cluster import KMeans\n",
    "import nltk\n",
    "nltk.downloader.download('vader_lexicon')\n",
    "from langdetect import detect"
   ]
  },
  {
   "cell_type": "code",
   "execution_count": 129,
   "metadata": {},
   "outputs": [],
   "source": [
    "from sklearn.linear_model import LogisticRegression\n",
    "from sklearn.ensemble import RandomForestClassifier\n",
    "from sklearn.neighbors import KNeighborsClassifier\n",
    "from sklearn.tree import DecisionTreeClassifier\n",
    "from sklearn.svm import SVC, LinearSVC\n",
    "#from xgboost import XGBClassifier\n",
    "\n",
    "from sklearn.metrics import make_scorer, accuracy_score, roc_auc_score \n",
    "from sklearn.model_selection import GridSearchCV"
   ]
  },
  {
   "cell_type": "code",
   "execution_count": 46,
   "metadata": {},
   "outputs": [],
   "source": [
    "#pip install langdetect"
   ]
  },
  {
   "cell_type": "code",
   "execution_count": 47,
   "metadata": {},
   "outputs": [],
   "source": [
    "Spotify = pd.read_csv('SpotifyFeatures.csv')\n",
    "lyrics = pd.read_csv('only_lyrics.csv')"
   ]
  },
  {
   "cell_type": "markdown",
   "metadata": {},
   "source": [
    "## Merging lyrics and the songs"
   ]
  },
  {
   "cell_type": "code",
   "execution_count": 48,
   "metadata": {},
   "outputs": [],
   "source": [
    "Spotify['track_name']=Spotify['track_name'].str.lower()\n",
    "Spotify['track_name']=Spotify['track_name'].str.strip()\n",
    "Spotify['artist_name']=Spotify['artist_name'].str.lower()\n",
    "Spotify['artist_name']=Spotify['artist_name'].str.strip()\n",
    "lyrics['song']=lyrics['song'].str.lower()\n",
    "lyrics['song']=lyrics['song'].str.strip()\n",
    "lyrics['artist']=lyrics['artist'].str.lower()\n",
    "lyrics['artist']=lyrics['artist'].str.strip()"
   ]
  },
  {
   "cell_type": "code",
   "execution_count": 49,
   "metadata": {},
   "outputs": [],
   "source": [
    "song_lyrics = Spotify.merge(lyrics, left_on=['track_name', 'artist_name'], right_on=['song', 'artist'])  "
   ]
  },
  {
   "cell_type": "code",
   "execution_count": 50,
   "metadata": {},
   "outputs": [],
   "source": [
    "song_lyrics =song_lyrics.sort_values(by=['popularity'],ascending=False)\n",
    "song_lyrics = song_lyrics.reset_index()\n"
   ]
  },
  {
   "cell_type": "code",
   "execution_count": 51,
   "metadata": {},
   "outputs": [],
   "source": [
    "song_lyrics=song_lyrics.drop(['index','artist', 'song', 'link'], axis=1)"
   ]
  },
  {
   "cell_type": "code",
   "execution_count": 52,
   "metadata": {},
   "outputs": [],
   "source": [
    "#clean_lyrics(song_lyrics.iloc[675,-1])"
   ]
  },
  {
   "cell_type": "markdown",
   "metadata": {},
   "source": [
    "## Pre-processing lyrics"
   ]
  },
  {
   "cell_type": "code",
   "execution_count": 53,
   "metadata": {},
   "outputs": [],
   "source": [
    "def clean_lyrics(lyrics):\n",
    "    new_lyrics = re.sub(r'[\\(\\[].*?[\\)\\]]', ' ', lyrics)\n",
    "    new_lyrics = new_lyrics.replace(\"\\n\", \" \")\n",
    "    #new_lyrics = new_lyrics.replace(\"\"\\\"\",\"\")\n",
    "    new_lyrics= new_lyrics.strip()\n",
    "    new_lyrics= new_lyrics.replace(\"    \", \" \")\n",
    "    new_lyrics= new_lyrics.replace(\"   \", \" \")\n",
    "    new_lyrics= new_lyrics.replace(\"  \", \" \")\n",
    "    new_lyrics = os.linesep.join([s for s in new_lyrics.splitlines() if s])\n",
    "    return(new_lyrics)"
   ]
  },
  {
   "cell_type": "code",
   "execution_count": 54,
   "metadata": {},
   "outputs": [],
   "source": [
    "def get_compression_rate(lyrics):\n",
    "    original = lyrics.encode('utf-8')\n",
    "    compressed = zlib.compress(original)\n",
    "    decompressed = zlib.decompress(compressed)\n",
    "    \n",
    "    compression_rate = (len(original)-len(compressed))/len(original)\n",
    "    return compression_rate"
   ]
  },
  {
   "cell_type": "code",
   "execution_count": 55,
   "metadata": {},
   "outputs": [],
   "source": [
    "#Apply clean_lyrics function to text column\n",
    "song_lyrics['text'] = song_lyrics['text'].map(clean_lyrics)\n",
    "\n",
    "#Append new column with compression rate\n",
    "song_lyrics['compression_rate'] = song_lyrics['text'].map(get_compression_rate)"
   ]
  },
  {
   "cell_type": "code",
   "execution_count": 56,
   "metadata": {},
   "outputs": [],
   "source": [
    "#Drop duplicates\n",
    "song_lyrics = song_lyrics.sort_values(by='popularity', ascending=False)\n",
    "song_lyrics = song_lyrics.drop_duplicates(subset='track_id', keep=\"first\")\n",
    "\n",
    "#Keep only english songs\n",
    "song_lyrics['language'] = song_lyrics['text'].map(detect)\n",
    "song_lyrics = song_lyrics[song_lyrics['language'] ==\"en\"]"
   ]
  },
  {
   "cell_type": "code",
   "execution_count": 57,
   "metadata": {},
   "outputs": [
    {
     "data": {
      "text/html": [
       "<div>\n",
       "<style scoped>\n",
       "    .dataframe tbody tr th:only-of-type {\n",
       "        vertical-align: middle;\n",
       "    }\n",
       "\n",
       "    .dataframe tbody tr th {\n",
       "        vertical-align: top;\n",
       "    }\n",
       "\n",
       "    .dataframe thead th {\n",
       "        text-align: right;\n",
       "    }\n",
       "</style>\n",
       "<table border=\"1\" class=\"dataframe\">\n",
       "  <thead>\n",
       "    <tr style=\"text-align: right;\">\n",
       "      <th></th>\n",
       "      <th>genre</th>\n",
       "      <th>artist_name</th>\n",
       "      <th>track_name</th>\n",
       "      <th>track_id</th>\n",
       "      <th>popularity</th>\n",
       "      <th>acousticness</th>\n",
       "      <th>danceability</th>\n",
       "      <th>duration_ms</th>\n",
       "      <th>energy</th>\n",
       "      <th>instrumentalness</th>\n",
       "      <th>...</th>\n",
       "      <th>liveness</th>\n",
       "      <th>loudness</th>\n",
       "      <th>mode</th>\n",
       "      <th>speechiness</th>\n",
       "      <th>tempo</th>\n",
       "      <th>time_signature</th>\n",
       "      <th>valence</th>\n",
       "      <th>text</th>\n",
       "      <th>compression_rate</th>\n",
       "      <th>language</th>\n",
       "    </tr>\n",
       "  </thead>\n",
       "  <tbody>\n",
       "    <tr>\n",
       "      <th>0</th>\n",
       "      <td>Pop</td>\n",
       "      <td>ed sheeran</td>\n",
       "      <td>photograph</td>\n",
       "      <td>1HNkqx9Ahdgi1Ixy2xkKkL</td>\n",
       "      <td>86</td>\n",
       "      <td>0.607</td>\n",
       "      <td>0.614</td>\n",
       "      <td>258987</td>\n",
       "      <td>0.379</td>\n",
       "      <td>0.000464</td>\n",
       "      <td>...</td>\n",
       "      <td>0.0986</td>\n",
       "      <td>-10.48</td>\n",
       "      <td>Major</td>\n",
       "      <td>0.0476</td>\n",
       "      <td>107.989</td>\n",
       "      <td>4/4</td>\n",
       "      <td>0.201</td>\n",
       "      <td>Loving can hurt, loving can hurt sometimes. Bu...</td>\n",
       "      <td>0.643378</td>\n",
       "      <td>en</td>\n",
       "    </tr>\n",
       "  </tbody>\n",
       "</table>\n",
       "<p>1 rows × 21 columns</p>\n",
       "</div>"
      ],
      "text/plain": [
       "  genre artist_name  track_name                track_id  popularity  \\\n",
       "0   Pop  ed sheeran  photograph  1HNkqx9Ahdgi1Ixy2xkKkL          86   \n",
       "\n",
       "   acousticness  danceability  duration_ms  energy  instrumentalness  ...  \\\n",
       "0         0.607         0.614       258987   0.379          0.000464  ...   \n",
       "\n",
       "  liveness  loudness   mode speechiness    tempo  time_signature valence  \\\n",
       "0   0.0986    -10.48  Major      0.0476  107.989             4/4   0.201   \n",
       "\n",
       "                                                text compression_rate  \\\n",
       "0  Loving can hurt, loving can hurt sometimes. Bu...         0.643378   \n",
       "\n",
       "   language  \n",
       "0        en  \n",
       "\n",
       "[1 rows x 21 columns]"
      ]
     },
     "execution_count": 57,
     "metadata": {},
     "output_type": "execute_result"
    }
   ],
   "source": [
    "song_lyrics.head(1)"
   ]
  },
  {
   "cell_type": "markdown",
   "metadata": {},
   "source": [
    "### Addition of sentment analysis (+,-,=) values"
   ]
  },
  {
   "cell_type": "code",
   "execution_count": 58,
   "metadata": {},
   "outputs": [
    {
     "data": {
      "text/html": [
       "<div>\n",
       "<style scoped>\n",
       "    .dataframe tbody tr th:only-of-type {\n",
       "        vertical-align: middle;\n",
       "    }\n",
       "\n",
       "    .dataframe tbody tr th {\n",
       "        vertical-align: top;\n",
       "    }\n",
       "\n",
       "    .dataframe thead th {\n",
       "        text-align: right;\n",
       "    }\n",
       "</style>\n",
       "<table border=\"1\" class=\"dataframe\">\n",
       "  <thead>\n",
       "    <tr style=\"text-align: right;\">\n",
       "      <th></th>\n",
       "      <th>id</th>\n",
       "      <th>senti_positive</th>\n",
       "      <th>senti_neutral</th>\n",
       "      <th>senti_negative</th>\n",
       "    </tr>\n",
       "  </thead>\n",
       "  <tbody>\n",
       "    <tr>\n",
       "      <th>0</th>\n",
       "      <td>1HNkqx9Ahdgi1Ixy2xkKkL</td>\n",
       "      <td>6</td>\n",
       "      <td>310</td>\n",
       "      <td>5</td>\n",
       "    </tr>\n",
       "    <tr>\n",
       "      <th>1</th>\n",
       "      <td>2374M0fQpWi3dLnB54qaLX</td>\n",
       "      <td>0</td>\n",
       "      <td>268</td>\n",
       "      <td>0</td>\n",
       "    </tr>\n",
       "    <tr>\n",
       "      <th>2</th>\n",
       "      <td>1EzrEOXmMH3G43AXT1y7pA</td>\n",
       "      <td>13</td>\n",
       "      <td>295</td>\n",
       "      <td>0</td>\n",
       "    </tr>\n",
       "    <tr>\n",
       "      <th>3</th>\n",
       "      <td>34gCuhDGsG4bRPIf9bb02f</td>\n",
       "      <td>16</td>\n",
       "      <td>310</td>\n",
       "      <td>0</td>\n",
       "    </tr>\n",
       "    <tr>\n",
       "      <th>4</th>\n",
       "      <td>5Nm9ERjJZ5oyfXZTECKmRt</td>\n",
       "      <td>10</td>\n",
       "      <td>152</td>\n",
       "      <td>1</td>\n",
       "    </tr>\n",
       "  </tbody>\n",
       "</table>\n",
       "</div>"
      ],
      "text/plain": [
       "                       id senti_positive senti_neutral senti_negative\n",
       "0  1HNkqx9Ahdgi1Ixy2xkKkL              6           310              5\n",
       "1  2374M0fQpWi3dLnB54qaLX              0           268              0\n",
       "2  1EzrEOXmMH3G43AXT1y7pA             13           295              0\n",
       "3  34gCuhDGsG4bRPIf9bb02f             16           310              0\n",
       "4  5Nm9ERjJZ5oyfXZTECKmRt             10           152              1"
      ]
     },
     "execution_count": 58,
     "metadata": {},
     "output_type": "execute_result"
    }
   ],
   "source": [
    "sia=SentimentIntensityAnalyzer()\n",
    "sentiment = pd.DataFrame(columns=('id','senti_positive', 'senti_neutral', 'senti_negative'))\n",
    "for i in range(len(song_lyrics['text'])):\n",
    "    num_positive = 0\n",
    "    num_negative = 0\n",
    "    num_neutral = 0\n",
    "    lyric= song_lyrics.iloc[i,-3]\n",
    "    for j in lyric.split():\n",
    "        comp = sia.polarity_scores(j)\n",
    "        comp = comp['compound']\n",
    "        #print(test)\n",
    "        if comp >= 0.5:\n",
    "            num_positive += 1\n",
    "            #print('positive:',i)\n",
    "        elif comp > -0.5 and comp < 0.5:\n",
    "            num_neutral += 1\n",
    "        else:\n",
    "            num_negative += 1\n",
    "        #print('negative:',i)\n",
    "    sentiment.loc[i] = (song_lyrics.iloc[i,3],num_positive,num_neutral,num_negative)\n",
    "#num_total = num_negative + num_neutral + num_positive\n",
    "#print('Total score:',num_total)\n",
    "#print('Negative score:',num_negative)\n",
    "#print('Neutral score:',num_neutral)\n",
    "#print('Positive score:',num_positive)\n",
    "sentiment.head()"
   ]
  },
  {
   "cell_type": "code",
   "execution_count": 59,
   "metadata": {},
   "outputs": [
    {
     "data": {
      "text/plain": [
       "(5262, 4)"
      ]
     },
     "execution_count": 59,
     "metadata": {},
     "output_type": "execute_result"
    }
   ],
   "source": [
    "sentiment.shape"
   ]
  },
  {
   "cell_type": "code",
   "execution_count": 60,
   "metadata": {},
   "outputs": [
    {
     "data": {
      "text/html": [
       "<div>\n",
       "<style scoped>\n",
       "    .dataframe tbody tr th:only-of-type {\n",
       "        vertical-align: middle;\n",
       "    }\n",
       "\n",
       "    .dataframe tbody tr th {\n",
       "        vertical-align: top;\n",
       "    }\n",
       "\n",
       "    .dataframe thead th {\n",
       "        text-align: right;\n",
       "    }\n",
       "</style>\n",
       "<table border=\"1\" class=\"dataframe\">\n",
       "  <thead>\n",
       "    <tr style=\"text-align: right;\">\n",
       "      <th></th>\n",
       "      <th>id</th>\n",
       "      <th>senti_positive</th>\n",
       "      <th>senti_neutral</th>\n",
       "      <th>senti_negative</th>\n",
       "      <th>senti_%+</th>\n",
       "      <th>senti_%-</th>\n",
       "      <th>senti_%=</th>\n",
       "    </tr>\n",
       "  </thead>\n",
       "  <tbody>\n",
       "    <tr>\n",
       "      <th>0</th>\n",
       "      <td>1HNkqx9Ahdgi1Ixy2xkKkL</td>\n",
       "      <td>6</td>\n",
       "      <td>310</td>\n",
       "      <td>5</td>\n",
       "      <td>1.86916</td>\n",
       "      <td>1.55763</td>\n",
       "      <td>96.5732</td>\n",
       "    </tr>\n",
       "    <tr>\n",
       "      <th>1</th>\n",
       "      <td>2374M0fQpWi3dLnB54qaLX</td>\n",
       "      <td>0</td>\n",
       "      <td>268</td>\n",
       "      <td>0</td>\n",
       "      <td>0</td>\n",
       "      <td>0</td>\n",
       "      <td>100</td>\n",
       "    </tr>\n",
       "    <tr>\n",
       "      <th>2</th>\n",
       "      <td>1EzrEOXmMH3G43AXT1y7pA</td>\n",
       "      <td>13</td>\n",
       "      <td>295</td>\n",
       "      <td>0</td>\n",
       "      <td>4.22078</td>\n",
       "      <td>0</td>\n",
       "      <td>95.7792</td>\n",
       "    </tr>\n",
       "    <tr>\n",
       "      <th>3</th>\n",
       "      <td>34gCuhDGsG4bRPIf9bb02f</td>\n",
       "      <td>16</td>\n",
       "      <td>310</td>\n",
       "      <td>0</td>\n",
       "      <td>4.90798</td>\n",
       "      <td>0</td>\n",
       "      <td>95.092</td>\n",
       "    </tr>\n",
       "    <tr>\n",
       "      <th>4</th>\n",
       "      <td>5Nm9ERjJZ5oyfXZTECKmRt</td>\n",
       "      <td>10</td>\n",
       "      <td>152</td>\n",
       "      <td>1</td>\n",
       "      <td>6.13497</td>\n",
       "      <td>0.613497</td>\n",
       "      <td>93.2515</td>\n",
       "    </tr>\n",
       "  </tbody>\n",
       "</table>\n",
       "</div>"
      ],
      "text/plain": [
       "                       id senti_positive senti_neutral senti_negative  \\\n",
       "0  1HNkqx9Ahdgi1Ixy2xkKkL              6           310              5   \n",
       "1  2374M0fQpWi3dLnB54qaLX              0           268              0   \n",
       "2  1EzrEOXmMH3G43AXT1y7pA             13           295              0   \n",
       "3  34gCuhDGsG4bRPIf9bb02f             16           310              0   \n",
       "4  5Nm9ERjJZ5oyfXZTECKmRt             10           152              1   \n",
       "\n",
       "  senti_%+  senti_%- senti_%=  \n",
       "0  1.86916   1.55763  96.5732  \n",
       "1        0         0      100  \n",
       "2  4.22078         0  95.7792  \n",
       "3  4.90798         0   95.092  \n",
       "4  6.13497  0.613497  93.2515  "
      ]
     },
     "execution_count": 60,
     "metadata": {},
     "output_type": "execute_result"
    }
   ],
   "source": [
    "#sentiment['senti_total']=sentiment['senti_positive']+sentiment['senti_neutral']+sentiment['senti_negative']\n",
    "sentiment['senti_%+']=(sentiment['senti_positive']/(sentiment['senti_positive']+sentiment['senti_neutral']+sentiment['senti_negative']))*100\n",
    "sentiment['senti_%-']=(sentiment['senti_negative']/(sentiment['senti_positive']+sentiment['senti_neutral']+sentiment['senti_negative']))*100\n",
    "sentiment['senti_%=']=(sentiment['senti_neutral']/(sentiment['senti_positive']+sentiment['senti_neutral']+sentiment['senti_negative']))*100\n",
    "sentiment.head()"
   ]
  },
  {
   "cell_type": "code",
   "execution_count": 63,
   "metadata": {},
   "outputs": [
    {
     "data": {
      "text/html": [
       "<div>\n",
       "<style scoped>\n",
       "    .dataframe tbody tr th:only-of-type {\n",
       "        vertical-align: middle;\n",
       "    }\n",
       "\n",
       "    .dataframe tbody tr th {\n",
       "        vertical-align: top;\n",
       "    }\n",
       "\n",
       "    .dataframe thead th {\n",
       "        text-align: right;\n",
       "    }\n",
       "</style>\n",
       "<table border=\"1\" class=\"dataframe\">\n",
       "  <thead>\n",
       "    <tr style=\"text-align: right;\">\n",
       "      <th></th>\n",
       "      <th>id</th>\n",
       "      <th>senti_%+</th>\n",
       "      <th>senti_%-</th>\n",
       "      <th>senti_%=</th>\n",
       "      <th>senti_total</th>\n",
       "    </tr>\n",
       "  </thead>\n",
       "  <tbody>\n",
       "    <tr>\n",
       "      <th>0</th>\n",
       "      <td>1HNkqx9Ahdgi1Ixy2xkKkL</td>\n",
       "      <td>1.86916</td>\n",
       "      <td>1.55763</td>\n",
       "      <td>96.5732</td>\n",
       "      <td>1</td>\n",
       "    </tr>\n",
       "    <tr>\n",
       "      <th>1</th>\n",
       "      <td>2374M0fQpWi3dLnB54qaLX</td>\n",
       "      <td>0</td>\n",
       "      <td>0</td>\n",
       "      <td>100</td>\n",
       "      <td>0</td>\n",
       "    </tr>\n",
       "    <tr>\n",
       "      <th>2</th>\n",
       "      <td>1EzrEOXmMH3G43AXT1y7pA</td>\n",
       "      <td>4.22078</td>\n",
       "      <td>0</td>\n",
       "      <td>95.7792</td>\n",
       "      <td>13</td>\n",
       "    </tr>\n",
       "    <tr>\n",
       "      <th>3</th>\n",
       "      <td>34gCuhDGsG4bRPIf9bb02f</td>\n",
       "      <td>4.90798</td>\n",
       "      <td>0</td>\n",
       "      <td>95.092</td>\n",
       "      <td>16</td>\n",
       "    </tr>\n",
       "    <tr>\n",
       "      <th>4</th>\n",
       "      <td>5Nm9ERjJZ5oyfXZTECKmRt</td>\n",
       "      <td>6.13497</td>\n",
       "      <td>0.613497</td>\n",
       "      <td>93.2515</td>\n",
       "      <td>9</td>\n",
       "    </tr>\n",
       "  </tbody>\n",
       "</table>\n",
       "</div>"
      ],
      "text/plain": [
       "                       id senti_%+  senti_%- senti_%= senti_total\n",
       "0  1HNkqx9Ahdgi1Ixy2xkKkL  1.86916   1.55763  96.5732           1\n",
       "1  2374M0fQpWi3dLnB54qaLX        0         0      100           0\n",
       "2  1EzrEOXmMH3G43AXT1y7pA  4.22078         0  95.7792          13\n",
       "3  34gCuhDGsG4bRPIf9bb02f  4.90798         0   95.092          16\n",
       "4  5Nm9ERjJZ5oyfXZTECKmRt  6.13497  0.613497  93.2515           9"
      ]
     },
     "execution_count": 63,
     "metadata": {},
     "output_type": "execute_result"
    }
   ],
   "source": [
    "sentiment.head()"
   ]
  },
  {
   "cell_type": "code",
   "execution_count": 61,
   "metadata": {},
   "outputs": [],
   "source": [
    "sentiment['senti_total']=sentiment['senti_positive']-sentiment['senti_negative']"
   ]
  },
  {
   "cell_type": "code",
   "execution_count": 62,
   "metadata": {},
   "outputs": [],
   "source": [
    "sentiment=sentiment.drop(['senti_positive','senti_neutral', 'senti_negative'], axis=1)"
   ]
  },
  {
   "cell_type": "code",
   "execution_count": 64,
   "metadata": {},
   "outputs": [
    {
     "data": {
      "text/html": [
       "<div>\n",
       "<style scoped>\n",
       "    .dataframe tbody tr th:only-of-type {\n",
       "        vertical-align: middle;\n",
       "    }\n",
       "\n",
       "    .dataframe tbody tr th {\n",
       "        vertical-align: top;\n",
       "    }\n",
       "\n",
       "    .dataframe thead th {\n",
       "        text-align: right;\n",
       "    }\n",
       "</style>\n",
       "<table border=\"1\" class=\"dataframe\">\n",
       "  <thead>\n",
       "    <tr style=\"text-align: right;\">\n",
       "      <th></th>\n",
       "      <th>genre</th>\n",
       "      <th>artist_name</th>\n",
       "      <th>track_name</th>\n",
       "      <th>track_id</th>\n",
       "      <th>popularity</th>\n",
       "      <th>acousticness</th>\n",
       "      <th>danceability</th>\n",
       "      <th>duration_ms</th>\n",
       "      <th>energy</th>\n",
       "      <th>instrumentalness</th>\n",
       "      <th>...</th>\n",
       "      <th>time_signature</th>\n",
       "      <th>valence</th>\n",
       "      <th>text</th>\n",
       "      <th>compression_rate</th>\n",
       "      <th>language</th>\n",
       "      <th>id</th>\n",
       "      <th>senti_%+</th>\n",
       "      <th>senti_%-</th>\n",
       "      <th>senti_%=</th>\n",
       "      <th>senti_total</th>\n",
       "    </tr>\n",
       "  </thead>\n",
       "  <tbody>\n",
       "    <tr>\n",
       "      <th>0</th>\n",
       "      <td>Pop</td>\n",
       "      <td>ed sheeran</td>\n",
       "      <td>photograph</td>\n",
       "      <td>1HNkqx9Ahdgi1Ixy2xkKkL</td>\n",
       "      <td>86</td>\n",
       "      <td>0.607</td>\n",
       "      <td>0.614</td>\n",
       "      <td>258987</td>\n",
       "      <td>0.379</td>\n",
       "      <td>0.000464</td>\n",
       "      <td>...</td>\n",
       "      <td>4/4</td>\n",
       "      <td>0.201</td>\n",
       "      <td>Loving can hurt, loving can hurt sometimes. Bu...</td>\n",
       "      <td>0.643378</td>\n",
       "      <td>en</td>\n",
       "      <td>1HNkqx9Ahdgi1Ixy2xkKkL</td>\n",
       "      <td>1.86916</td>\n",
       "      <td>1.55763</td>\n",
       "      <td>96.5732</td>\n",
       "      <td>1</td>\n",
       "    </tr>\n",
       "    <tr>\n",
       "      <th>1</th>\n",
       "      <td>Rock</td>\n",
       "      <td>toto</td>\n",
       "      <td>africa</td>\n",
       "      <td>2374M0fQpWi3dLnB54qaLX</td>\n",
       "      <td>85</td>\n",
       "      <td>0.257</td>\n",
       "      <td>0.671</td>\n",
       "      <td>295893</td>\n",
       "      <td>0.373</td>\n",
       "      <td>0.000080</td>\n",
       "      <td>...</td>\n",
       "      <td>4/4</td>\n",
       "      <td>0.732</td>\n",
       "      <td>I hear the drums echoing tonight But she hears...</td>\n",
       "      <td>0.637233</td>\n",
       "      <td>en</td>\n",
       "      <td>2374M0fQpWi3dLnB54qaLX</td>\n",
       "      <td>0</td>\n",
       "      <td>0</td>\n",
       "      <td>100</td>\n",
       "      <td>0</td>\n",
       "    </tr>\n",
       "    <tr>\n",
       "      <th>2</th>\n",
       "      <td>Pop</td>\n",
       "      <td>jason mraz</td>\n",
       "      <td>i'm yours</td>\n",
       "      <td>1EzrEOXmMH3G43AXT1y7pA</td>\n",
       "      <td>85</td>\n",
       "      <td>0.595</td>\n",
       "      <td>0.686</td>\n",
       "      <td>242187</td>\n",
       "      <td>0.457</td>\n",
       "      <td>0.000000</td>\n",
       "      <td>...</td>\n",
       "      <td>4/4</td>\n",
       "      <td>0.718</td>\n",
       "      <td>Well you done done me and you bet I felt it I ...</td>\n",
       "      <td>0.572757</td>\n",
       "      <td>en</td>\n",
       "      <td>1EzrEOXmMH3G43AXT1y7pA</td>\n",
       "      <td>4.22078</td>\n",
       "      <td>0</td>\n",
       "      <td>95.7792</td>\n",
       "      <td>13</td>\n",
       "    </tr>\n",
       "    <tr>\n",
       "      <th>3</th>\n",
       "      <td>Pop</td>\n",
       "      <td>ed sheeran</td>\n",
       "      <td>thinking out loud</td>\n",
       "      <td>34gCuhDGsG4bRPIf9bb02f</td>\n",
       "      <td>85</td>\n",
       "      <td>0.474</td>\n",
       "      <td>0.781</td>\n",
       "      <td>281560</td>\n",
       "      <td>0.445</td>\n",
       "      <td>0.000000</td>\n",
       "      <td>...</td>\n",
       "      <td>4/4</td>\n",
       "      <td>0.591</td>\n",
       "      <td>When your legs don't work like they used to be...</td>\n",
       "      <td>0.623063</td>\n",
       "      <td>en</td>\n",
       "      <td>34gCuhDGsG4bRPIf9bb02f</td>\n",
       "      <td>4.90798</td>\n",
       "      <td>0</td>\n",
       "      <td>95.092</td>\n",
       "      <td>16</td>\n",
       "    </tr>\n",
       "    <tr>\n",
       "      <th>4</th>\n",
       "      <td>Pop</td>\n",
       "      <td>sam smith</td>\n",
       "      <td>stay with me</td>\n",
       "      <td>5Nm9ERjJZ5oyfXZTECKmRt</td>\n",
       "      <td>85</td>\n",
       "      <td>0.588</td>\n",
       "      <td>0.418</td>\n",
       "      <td>172724</td>\n",
       "      <td>0.420</td>\n",
       "      <td>0.000064</td>\n",
       "      <td>...</td>\n",
       "      <td>4/4</td>\n",
       "      <td>0.184</td>\n",
       "      <td>Guess it's true, I'm not good at a one-night s...</td>\n",
       "      <td>0.640961</td>\n",
       "      <td>en</td>\n",
       "      <td>5Nm9ERjJZ5oyfXZTECKmRt</td>\n",
       "      <td>6.13497</td>\n",
       "      <td>0.613497</td>\n",
       "      <td>93.2515</td>\n",
       "      <td>9</td>\n",
       "    </tr>\n",
       "  </tbody>\n",
       "</table>\n",
       "<p>5 rows × 26 columns</p>\n",
       "</div>"
      ],
      "text/plain": [
       "  genre artist_name         track_name                track_id  popularity  \\\n",
       "0   Pop  ed sheeran         photograph  1HNkqx9Ahdgi1Ixy2xkKkL          86   \n",
       "1  Rock        toto             africa  2374M0fQpWi3dLnB54qaLX          85   \n",
       "2   Pop  jason mraz          i'm yours  1EzrEOXmMH3G43AXT1y7pA          85   \n",
       "3   Pop  ed sheeran  thinking out loud  34gCuhDGsG4bRPIf9bb02f          85   \n",
       "4   Pop   sam smith       stay with me  5Nm9ERjJZ5oyfXZTECKmRt          85   \n",
       "\n",
       "   acousticness  danceability  duration_ms  energy  instrumentalness  ...  \\\n",
       "0         0.607         0.614       258987   0.379          0.000464  ...   \n",
       "1         0.257         0.671       295893   0.373          0.000080  ...   \n",
       "2         0.595         0.686       242187   0.457          0.000000  ...   \n",
       "3         0.474         0.781       281560   0.445          0.000000  ...   \n",
       "4         0.588         0.418       172724   0.420          0.000064  ...   \n",
       "\n",
       "  time_signature  valence                                               text  \\\n",
       "0            4/4    0.201  Loving can hurt, loving can hurt sometimes. Bu...   \n",
       "1            4/4    0.732  I hear the drums echoing tonight But she hears...   \n",
       "2            4/4    0.718  Well you done done me and you bet I felt it I ...   \n",
       "3            4/4    0.591  When your legs don't work like they used to be...   \n",
       "4            4/4    0.184  Guess it's true, I'm not good at a one-night s...   \n",
       "\n",
       "  compression_rate  language                      id senti_%+  senti_%-  \\\n",
       "0         0.643378        en  1HNkqx9Ahdgi1Ixy2xkKkL  1.86916   1.55763   \n",
       "1         0.637233        en  2374M0fQpWi3dLnB54qaLX        0         0   \n",
       "2         0.572757        en  1EzrEOXmMH3G43AXT1y7pA  4.22078         0   \n",
       "3         0.623063        en  34gCuhDGsG4bRPIf9bb02f  4.90798         0   \n",
       "4         0.640961        en  5Nm9ERjJZ5oyfXZTECKmRt  6.13497  0.613497   \n",
       "\n",
       "  senti_%=  senti_total  \n",
       "0  96.5732            1  \n",
       "1      100            0  \n",
       "2  95.7792           13  \n",
       "3   95.092           16  \n",
       "4  93.2515            9  \n",
       "\n",
       "[5 rows x 26 columns]"
      ]
     },
     "execution_count": 64,
     "metadata": {},
     "output_type": "execute_result"
    }
   ],
   "source": [
    "song_lyrics = song_lyrics.merge(sentiment, left_on=['track_id'], right_on=['id'])\n",
    "song_lyrics.head()"
   ]
  },
  {
   "cell_type": "code",
   "execution_count": 65,
   "metadata": {},
   "outputs": [],
   "source": [
    "song_lyrics=song_lyrics.drop(['id'], axis=1)"
   ]
  },
  {
   "cell_type": "code",
   "execution_count": 66,
   "metadata": {},
   "outputs": [
    {
     "data": {
      "text/plain": [
       "(5262, 25)"
      ]
     },
     "execution_count": 66,
     "metadata": {},
     "output_type": "execute_result"
    }
   ],
   "source": [
    "song_lyrics.shape"
   ]
  },
  {
   "cell_type": "code",
   "execution_count": null,
   "metadata": {},
   "outputs": [],
   "source": []
  },
  {
   "cell_type": "code",
   "execution_count": 69,
   "metadata": {},
   "outputs": [
    {
     "data": {
      "text/html": [
       "<div>\n",
       "<style scoped>\n",
       "    .dataframe tbody tr th:only-of-type {\n",
       "        vertical-align: middle;\n",
       "    }\n",
       "\n",
       "    .dataframe tbody tr th {\n",
       "        vertical-align: top;\n",
       "    }\n",
       "\n",
       "    .dataframe thead th {\n",
       "        text-align: right;\n",
       "    }\n",
       "</style>\n",
       "<table border=\"1\" class=\"dataframe\">\n",
       "  <thead>\n",
       "    <tr style=\"text-align: right;\">\n",
       "      <th></th>\n",
       "      <th>genre</th>\n",
       "      <th>artist_name</th>\n",
       "      <th>track_name</th>\n",
       "      <th>track_id</th>\n",
       "      <th>popularity</th>\n",
       "      <th>acousticness</th>\n",
       "      <th>danceability</th>\n",
       "      <th>duration_ms</th>\n",
       "      <th>energy</th>\n",
       "      <th>instrumentalness</th>\n",
       "      <th>...</th>\n",
       "      <th>time_signature</th>\n",
       "      <th>valence</th>\n",
       "      <th>text</th>\n",
       "      <th>compression_rate</th>\n",
       "      <th>language</th>\n",
       "      <th>senti_%+</th>\n",
       "      <th>senti_%-</th>\n",
       "      <th>senti_%=</th>\n",
       "      <th>senti_total</th>\n",
       "      <th>track_length</th>\n",
       "    </tr>\n",
       "  </thead>\n",
       "  <tbody>\n",
       "    <tr>\n",
       "      <th>0</th>\n",
       "      <td>Pop</td>\n",
       "      <td>ed sheeran</td>\n",
       "      <td>photograph</td>\n",
       "      <td>1HNkqx9Ahdgi1Ixy2xkKkL</td>\n",
       "      <td>86</td>\n",
       "      <td>0.607</td>\n",
       "      <td>0.614</td>\n",
       "      <td>258987</td>\n",
       "      <td>0.379</td>\n",
       "      <td>0.000464</td>\n",
       "      <td>...</td>\n",
       "      <td>4/4</td>\n",
       "      <td>0.201</td>\n",
       "      <td>Loving can hurt, loving can hurt sometimes. Bu...</td>\n",
       "      <td>0.643378</td>\n",
       "      <td>en</td>\n",
       "      <td>1.86916</td>\n",
       "      <td>1.55763</td>\n",
       "      <td>96.5732</td>\n",
       "      <td>1</td>\n",
       "      <td>1</td>\n",
       "    </tr>\n",
       "    <tr>\n",
       "      <th>1</th>\n",
       "      <td>Rock</td>\n",
       "      <td>toto</td>\n",
       "      <td>africa</td>\n",
       "      <td>2374M0fQpWi3dLnB54qaLX</td>\n",
       "      <td>85</td>\n",
       "      <td>0.257</td>\n",
       "      <td>0.671</td>\n",
       "      <td>295893</td>\n",
       "      <td>0.373</td>\n",
       "      <td>0.000080</td>\n",
       "      <td>...</td>\n",
       "      <td>4/4</td>\n",
       "      <td>0.732</td>\n",
       "      <td>I hear the drums echoing tonight But she hears...</td>\n",
       "      <td>0.637233</td>\n",
       "      <td>en</td>\n",
       "      <td>0</td>\n",
       "      <td>0</td>\n",
       "      <td>100</td>\n",
       "      <td>0</td>\n",
       "      <td>1</td>\n",
       "    </tr>\n",
       "    <tr>\n",
       "      <th>2</th>\n",
       "      <td>Pop</td>\n",
       "      <td>jason mraz</td>\n",
       "      <td>i'm yours</td>\n",
       "      <td>1EzrEOXmMH3G43AXT1y7pA</td>\n",
       "      <td>85</td>\n",
       "      <td>0.595</td>\n",
       "      <td>0.686</td>\n",
       "      <td>242187</td>\n",
       "      <td>0.457</td>\n",
       "      <td>0.000000</td>\n",
       "      <td>...</td>\n",
       "      <td>4/4</td>\n",
       "      <td>0.718</td>\n",
       "      <td>Well you done done me and you bet I felt it I ...</td>\n",
       "      <td>0.572757</td>\n",
       "      <td>en</td>\n",
       "      <td>4.22078</td>\n",
       "      <td>0</td>\n",
       "      <td>95.7792</td>\n",
       "      <td>13</td>\n",
       "      <td>2</td>\n",
       "    </tr>\n",
       "    <tr>\n",
       "      <th>3</th>\n",
       "      <td>Pop</td>\n",
       "      <td>ed sheeran</td>\n",
       "      <td>thinking out loud</td>\n",
       "      <td>34gCuhDGsG4bRPIf9bb02f</td>\n",
       "      <td>85</td>\n",
       "      <td>0.474</td>\n",
       "      <td>0.781</td>\n",
       "      <td>281560</td>\n",
       "      <td>0.445</td>\n",
       "      <td>0.000000</td>\n",
       "      <td>...</td>\n",
       "      <td>4/4</td>\n",
       "      <td>0.591</td>\n",
       "      <td>When your legs don't work like they used to be...</td>\n",
       "      <td>0.623063</td>\n",
       "      <td>en</td>\n",
       "      <td>4.90798</td>\n",
       "      <td>0</td>\n",
       "      <td>95.092</td>\n",
       "      <td>16</td>\n",
       "      <td>3</td>\n",
       "    </tr>\n",
       "    <tr>\n",
       "      <th>4</th>\n",
       "      <td>Pop</td>\n",
       "      <td>sam smith</td>\n",
       "      <td>stay with me</td>\n",
       "      <td>5Nm9ERjJZ5oyfXZTECKmRt</td>\n",
       "      <td>85</td>\n",
       "      <td>0.588</td>\n",
       "      <td>0.418</td>\n",
       "      <td>172724</td>\n",
       "      <td>0.420</td>\n",
       "      <td>0.000064</td>\n",
       "      <td>...</td>\n",
       "      <td>4/4</td>\n",
       "      <td>0.184</td>\n",
       "      <td>Guess it's true, I'm not good at a one-night s...</td>\n",
       "      <td>0.640961</td>\n",
       "      <td>en</td>\n",
       "      <td>6.13497</td>\n",
       "      <td>0.613497</td>\n",
       "      <td>93.2515</td>\n",
       "      <td>9</td>\n",
       "      <td>3</td>\n",
       "    </tr>\n",
       "  </tbody>\n",
       "</table>\n",
       "<p>5 rows × 26 columns</p>\n",
       "</div>"
      ],
      "text/plain": [
       "  genre artist_name         track_name                track_id  popularity  \\\n",
       "0   Pop  ed sheeran         photograph  1HNkqx9Ahdgi1Ixy2xkKkL          86   \n",
       "1  Rock        toto             africa  2374M0fQpWi3dLnB54qaLX          85   \n",
       "2   Pop  jason mraz          i'm yours  1EzrEOXmMH3G43AXT1y7pA          85   \n",
       "3   Pop  ed sheeran  thinking out loud  34gCuhDGsG4bRPIf9bb02f          85   \n",
       "4   Pop   sam smith       stay with me  5Nm9ERjJZ5oyfXZTECKmRt          85   \n",
       "\n",
       "   acousticness  danceability  duration_ms  energy  instrumentalness  ...  \\\n",
       "0         0.607         0.614       258987   0.379          0.000464  ...   \n",
       "1         0.257         0.671       295893   0.373          0.000080  ...   \n",
       "2         0.595         0.686       242187   0.457          0.000000  ...   \n",
       "3         0.474         0.781       281560   0.445          0.000000  ...   \n",
       "4         0.588         0.418       172724   0.420          0.000064  ...   \n",
       "\n",
       "  time_signature  valence                                               text  \\\n",
       "0            4/4    0.201  Loving can hurt, loving can hurt sometimes. Bu...   \n",
       "1            4/4    0.732  I hear the drums echoing tonight But she hears...   \n",
       "2            4/4    0.718  Well you done done me and you bet I felt it I ...   \n",
       "3            4/4    0.591  When your legs don't work like they used to be...   \n",
       "4            4/4    0.184  Guess it's true, I'm not good at a one-night s...   \n",
       "\n",
       "  compression_rate  language  senti_%+  senti_%-  senti_%= senti_total  \\\n",
       "0         0.643378        en   1.86916   1.55763   96.5732           1   \n",
       "1         0.637233        en         0         0       100           0   \n",
       "2         0.572757        en   4.22078         0   95.7792          13   \n",
       "3         0.623063        en   4.90798         0    95.092          16   \n",
       "4         0.640961        en   6.13497  0.613497   93.2515           9   \n",
       "\n",
       "   track_length  \n",
       "0             1  \n",
       "1             1  \n",
       "2             2  \n",
       "3             3  \n",
       "4             3  \n",
       "\n",
       "[5 rows x 26 columns]"
      ]
     },
     "execution_count": 69,
     "metadata": {},
     "output_type": "execute_result"
    }
   ],
   "source": [
    "song_lyrics.head()"
   ]
  },
  {
   "cell_type": "code",
   "execution_count": 68,
   "metadata": {},
   "outputs": [],
   "source": [
    "song=song_lyrics['track_name']\n",
    "song=song.str.strip()\n",
    "song=song.str.split()\n",
    "l=[]\n",
    "for i in song:\n",
    "    #print(len(i))\n",
    "    l.append(len(i))\n",
    "song_lyrics['track_length']=l "
   ]
  },
  {
   "cell_type": "markdown",
   "metadata": {},
   "source": [
    "## Addition of classes"
   ]
  },
  {
   "cell_type": "code",
   "execution_count": 70,
   "metadata": {},
   "outputs": [
    {
     "data": {
      "text/plain": [
       "<matplotlib.axes._subplots.AxesSubplot at 0x22158d6c748>"
      ]
     },
     "execution_count": 70,
     "metadata": {},
     "output_type": "execute_result"
    },
    {
     "data": {
      "image/png": "[encoded data removed]",
      "text/plain": [
       "<Figure size 432x288 with 1 Axes>"
      ]
     },
     "metadata": {
      "needs_background": "light"
     },
     "output_type": "display_data"
    }
   ],
   "source": [
    "quantile=song_lyrics['popularity'].quantile(np.arange(0, 1.01, 0.01).tolist())\n",
    "quantile=quantile.reset_index()\n",
    "quantile.rename(columns={'index':'quantile'}, inplace=True)\n",
    "sns.lineplot(quantile['popularity'],quantile['quantile'])"
   ]
  },
  {
   "cell_type": "code",
   "execution_count": 71,
   "metadata": {},
   "outputs": [],
   "source": [
    "kmeans = KMeans(n_clusters=5)\n",
    "kmeans.fit(quantile)\n",
    "quantile['cluster']=kmeans.predict(quantile)"
   ]
  },
  {
   "cell_type": "code",
   "execution_count": 72,
   "metadata": {},
   "outputs": [
    {
     "data": {
      "text/plain": [
       "<matplotlib.collections.PathCollection at 0x2215e7ae630>"
      ]
     },
     "execution_count": 72,
     "metadata": {},
     "output_type": "execute_result"
    },
    {
     "data": {
      "image/png": "[encoded data removed]",
      "text/plain": [
       "<Figure size 432x288 with 1 Axes>"
      ]
     },
     "metadata": {
      "needs_background": "light"
     },
     "output_type": "display_data"
    }
   ],
   "source": [
    "plt.scatter(quantile['popularity'],quantile['cluster'])"
   ]
  },
  {
   "cell_type": "code",
   "execution_count": 73,
   "metadata": {},
   "outputs": [
    {
     "name": "stdout",
     "output_type": "stream",
     "text": [
      "1 0.0 0.0\n",
      "2 37.0 49.0\n",
      "3 63.0 86.0\n",
      "4 20.0 36.14999999999998\n",
      "0 50.0 62.0\n"
     ]
    }
   ],
   "source": [
    "one=quantile[quantile.cluster==1]\n",
    "two=quantile[quantile.cluster==2]\n",
    "three=quantile[quantile.cluster==3]\n",
    "zero=quantile[quantile.cluster==0]\n",
    "four=quantile[quantile.cluster==4]\n",
    "min_one=np.min(one['popularity'])\n",
    "max_one=np.max(one['popularity'])\n",
    "min_two=np.min(two['popularity'])\n",
    "max_two=np.max(two['popularity'])\n",
    "min_three=np.min(three['popularity'])\n",
    "max_three=np.max(three['popularity'])\n",
    "min_zero=np.min(zero['popularity'])\n",
    "max_zero=np.max(zero['popularity'])\n",
    "min_four=np.min(four['popularity'])\n",
    "max_four=np.max(four['popularity'])\n",
    "print(1,min_one,max_one)\n",
    "print(2,min_two,max_two)\n",
    "print(3,min_three,max_three)\n",
    "print(4,min_four,max_four)\n",
    "print(0,min_zero,max_zero)"
   ]
  },
  {
   "cell_type": "code",
   "execution_count": 74,
   "metadata": {},
   "outputs": [
    {
     "data": {
      "text/html": [
       "<div>\n",
       "<style scoped>\n",
       "    .dataframe tbody tr th:only-of-type {\n",
       "        vertical-align: middle;\n",
       "    }\n",
       "\n",
       "    .dataframe tbody tr th {\n",
       "        vertical-align: top;\n",
       "    }\n",
       "\n",
       "    .dataframe thead th {\n",
       "        text-align: right;\n",
       "    }\n",
       "</style>\n",
       "<table border=\"1\" class=\"dataframe\">\n",
       "  <thead>\n",
       "    <tr style=\"text-align: right;\">\n",
       "      <th></th>\n",
       "      <th>genre</th>\n",
       "      <th>artist_name</th>\n",
       "      <th>track_name</th>\n",
       "      <th>track_id</th>\n",
       "      <th>popularity</th>\n",
       "      <th>acousticness</th>\n",
       "      <th>danceability</th>\n",
       "      <th>duration_ms</th>\n",
       "      <th>energy</th>\n",
       "      <th>instrumentalness</th>\n",
       "      <th>...</th>\n",
       "      <th>valence</th>\n",
       "      <th>text</th>\n",
       "      <th>compression_rate</th>\n",
       "      <th>language</th>\n",
       "      <th>senti_%+</th>\n",
       "      <th>senti_%-</th>\n",
       "      <th>senti_%=</th>\n",
       "      <th>senti_total</th>\n",
       "      <th>track_length</th>\n",
       "      <th>label</th>\n",
       "    </tr>\n",
       "  </thead>\n",
       "  <tbody>\n",
       "    <tr>\n",
       "      <th>5261</th>\n",
       "      <td>Country</td>\n",
       "      <td>kris kristofferson</td>\n",
       "      <td>why me</td>\n",
       "      <td>5xpd9uCrrCnh7ssgoAnAFK</td>\n",
       "      <td>0</td>\n",
       "      <td>0.861</td>\n",
       "      <td>0.626</td>\n",
       "      <td>177840</td>\n",
       "      <td>0.255</td>\n",
       "      <td>0.0</td>\n",
       "      <td>...</td>\n",
       "      <td>0.492</td>\n",
       "      <td>Why me Lord what have I ever done to deserve e...</td>\n",
       "      <td>0.504505</td>\n",
       "      <td>en</td>\n",
       "      <td>0.840336</td>\n",
       "      <td>0</td>\n",
       "      <td>99.1597</td>\n",
       "      <td>1</td>\n",
       "      <td>2</td>\n",
       "      <td>0</td>\n",
       "    </tr>\n",
       "  </tbody>\n",
       "</table>\n",
       "<p>1 rows × 27 columns</p>\n",
       "</div>"
      ],
      "text/plain": [
       "        genre         artist_name track_name                track_id  \\\n",
       "5261  Country  kris kristofferson     why me  5xpd9uCrrCnh7ssgoAnAFK   \n",
       "\n",
       "      popularity  acousticness  danceability  duration_ms  energy  \\\n",
       "5261           0         0.861         0.626       177840   0.255   \n",
       "\n",
       "      instrumentalness  ... valence  \\\n",
       "5261               0.0  ...   0.492   \n",
       "\n",
       "                                                   text  compression_rate  \\\n",
       "5261  Why me Lord what have I ever done to deserve e...          0.504505   \n",
       "\n",
       "     language  senti_%+  senti_%- senti_%=  senti_total track_length  label  \n",
       "5261       en  0.840336         0  99.1597            1            2      0  \n",
       "\n",
       "[1 rows x 27 columns]"
      ]
     },
     "execution_count": 74,
     "metadata": {},
     "output_type": "execute_result"
    }
   ],
   "source": [
    "conditions = [\n",
    "    (song_lyrics['popularity'] >= 63)&(song_lyrics['popularity'] <=100),\n",
    "    (song_lyrics['popularity'] >= 50)&(song_lyrics['popularity'] <=62),\n",
    "    (song_lyrics['popularity'] >= 38)&(song_lyrics['popularity'] <=49),\n",
    "    (song_lyrics['popularity'] >= 20)&(song_lyrics['popularity'] <=37),\n",
    "    (song_lyrics['popularity'] >= 19)&(song_lyrics['popularity'] <=0)]\n",
    "choices = [4, 3, 2,1,0]\n",
    "song_lyrics['label'] = np.select(conditions, choices)\n",
    "song_lyrics.tail(1)"
   ]
  },
  {
   "cell_type": "code",
   "execution_count": 75,
   "metadata": {},
   "outputs": [],
   "source": [
    "#song_lyrics"
   ]
  },
  {
   "cell_type": "markdown",
   "metadata": {},
   "source": [
    "# Features Engineering"
   ]
  },
  {
   "cell_type": "markdown",
   "metadata": {},
   "source": [
    "1. Analysing features distributions"
   ]
  },
  {
   "cell_type": "code",
   "execution_count": 76,
   "metadata": {},
   "outputs": [
    {
     "data": {
      "text/plain": [
       "<matplotlib.axes._subplots.AxesSubplot at 0x2216f4453c8>"
      ]
     },
     "execution_count": 76,
     "metadata": {},
     "output_type": "execute_result"
    },
    {
     "data": {
      "image/png": "[encoded data removed]",
      "text/plain": [
       "<Figure size 1008x576 with 10 Axes>"
      ]
     },
     "metadata": {
      "needs_background": "light"
     },
     "output_type": "display_data"
    }
   ],
   "source": [
    "f, axes = plt.subplots(2, 5, figsize=(14, 8), sharex=False)\n",
    "sns.distplot(song_lyrics['popularity'],ax=axes[0,0])\n",
    "sns.distplot(song_lyrics['acousticness'],ax=axes[0,1])\n",
    "sns.distplot(song_lyrics['danceability'],ax=axes[0,2])\n",
    "sns.distplot(song_lyrics['energy'],ax=axes[0,3])\n",
    "sns.distplot(song_lyrics['instrumentalness'],ax=axes[0, 4])\n",
    "sns.distplot(song_lyrics['liveness'],ax=axes[1,0])\n",
    "sns.distplot(song_lyrics['loudness'],ax=axes[1,1])\n",
    "sns.distplot(song_lyrics['speechiness'],ax=axes[1,2])\n",
    "sns.distplot(song_lyrics['valence'],ax=axes[1,3])\n",
    "sns.distplot(song_lyrics['tempo'],ax=axes[1,4])"
   ]
  },
  {
   "cell_type": "code",
   "execution_count": 77,
   "metadata": {},
   "outputs": [
    {
     "data": {
      "text/plain": [
       "(array([ 13.,   1.,   6.,  20.,  28.,  93., 215., 252., 363., 456., 667.,\n",
       "        645., 640., 687., 427., 301., 250., 122.,  54.,  22.]),\n",
       " array([ 0. ,  4.3,  8.6, 12.9, 17.2, 21.5, 25.8, 30.1, 34.4, 38.7, 43. ,\n",
       "        47.3, 51.6, 55.9, 60.2, 64.5, 68.8, 73.1, 77.4, 81.7, 86. ]),\n",
       " <a list of 20 Patch objects>)"
      ]
     },
     "execution_count": 77,
     "metadata": {},
     "output_type": "execute_result"
    },
    {
     "data": {
      "image/png": "[encoded data removed]",
      "text/plain": [
       "<Figure size 432x288 with 1 Axes>"
      ]
     },
     "metadata": {
      "needs_background": "light"
     },
     "output_type": "display_data"
    }
   ],
   "source": [
    "plt.hist(song_lyrics['popularity'], bins=20)"
   ]
  },
  {
   "cell_type": "code",
   "execution_count": 78,
   "metadata": {},
   "outputs": [
    {
     "data": {
      "text/plain": [
       "<matplotlib.axes._subplots.AxesSubplot at 0x22165d09898>"
      ]
     },
     "execution_count": 78,
     "metadata": {},
     "output_type": "execute_result"
    },
    {
     "data": {
      "image/png": "[encoded data removed]",
      "text/plain": [
       "<Figure size 432x288 with 1 Axes>"
      ]
     },
     "metadata": {
      "needs_background": "light"
     },
     "output_type": "display_data"
    }
   ],
   "source": [
    "sns.distplot(song_lyrics['compression_rate'])"
   ]
  },
  {
   "cell_type": "code",
   "execution_count": 87,
   "metadata": {},
   "outputs": [
    {
     "data": {
      "text/plain": [
       "<matplotlib.collections.PathCollection at 0x22158d0d940>"
      ]
     },
     "execution_count": 87,
     "metadata": {},
     "output_type": "execute_result"
    },
    {
     "data": {
      "image/png": "[encoded data removed]",
      "text/plain": [
       "<Figure size 432x288 with 1 Axes>"
      ]
     },
     "metadata": {
      "needs_background": "light"
     },
     "output_type": "display_data"
    }
   ],
   "source": [
    "#plt.scatter(song_lyrics['popularity'],song_lyrics['senti_%+'] )\n",
    "#plt.scatter(song_lyrics['popularity'],song_lyrics['senti_%='] )\n",
    "#plt.scatter(song_lyrics['popularity'],song_lyrics['senti_%-'] )\n",
    "plt.scatter(song_lyrics['popularity'],song_lyrics['senti_total'] )\n",
    "#plt.scatter(song_lyrics['popularity'],song_lyrics['speechiness'] )\n",
    "#plt.scatter(song_lyrics['popularity'],song_lyrics['speechiness'] )\n",
    "#plt.scatter(song_lyrics['popularity'],song_lyrics['valence'] )\n",
    "#plt.scatter(song_lyrics['popularity'],song_lyrics['compression_rate'] )\n",
    "#plt.scatter(song_lyrics['popularity'],song_lyrics['acousticness'] )"
   ]
  },
  {
   "cell_type": "markdown",
   "metadata": {},
   "source": [
    "2. Encoding"
   ]
  },
  {
   "cell_type": "code",
   "execution_count": 81,
   "metadata": {},
   "outputs": [],
   "source": [
    "# renaming data before classification\n",
    "\n",
    "# track features\n",
    "genre = song_lyrics['genre'].str.strip()\n",
    "genre = song_lyrics['genre'].str.lower()\n",
    "artist_name = song_lyrics['artist_name'].str.strip()\n",
    "artist_name = song_lyrics['artist_name'].str.lower()\n",
    "track_name = song_lyrics['track_name']\n",
    "track_id = song_lyrics['track_id']\n",
    "\n",
    "# spotify features\n",
    "popularity = song_lyrics['popularity']\n",
    "acousticness = song_lyrics['acousticness']\n",
    "danceability = song_lyrics['danceability']\n",
    "duration_ms = song_lyrics['duration_ms']\n",
    "energy = song_lyrics ['energy']\n",
    "instrumentalness = song_lyrics['instrumentalness']\n",
    "key = song_lyrics['key']\n",
    "liveness = song_lyrics['liveness']\n",
    "loudness = song_lyrics['loudness']\n",
    "mode = song_lyrics['mode']\n",
    "speechiness = song_lyrics['speechiness']\n",
    "tempo = song_lyrics['tempo']\n",
    "time_signature = song_lyrics['time_signature']\n",
    "valence = song_lyrics['valence']\n",
    "\n",
    "# sentimental features\n",
    "text = song_lyrics['text']\n",
    "compression_rate = song_lyrics['compression_rate']\n",
    "senti_positive = song_lyrics['senti_%+']\n",
    "senti_neutral = song_lyrics['senti_%=']\n",
    "senti_negative = song_lyrics['senti_%-']\n",
    "senti_total = song_lyrics['senti_total']"
   ]
  },
  {
   "cell_type": "code",
   "execution_count": 112,
   "metadata": {},
   "outputs": [],
   "source": [
    "# encoding discrete data\n",
    "\n",
    "# track features\n",
    "genre_encoded = pd.get_dummies(genre,prefix='genre', dummy_na=False)\n",
    "artist_name_encoded = pd.get_dummies(artist_name,prefix='artist_name', dummy_na=False)\n",
    "\n",
    "# spotify features \n",
    "key_encoded = pd.get_dummies(key,prefix='key', dummy_na=False)\n",
    "mode_encoded = pd.get_dummies(mode,prefix='mode', dummy_na=False)\n",
    "time_signature_encoded = pd.get_dummies(time_signature,prefix='time_signature', dummy_na=False)\n",
    "\n",
    "#sentimal features \n",
    "#senti_positive_enoded = pd.get_dummies(senti_positive,prefix='senti_positive', dummy_na=False)\n",
    "#senti_neutral_encoded = pd.get_dummies(senti_neutral,prefix='senti_neutral', dummy_na=False)\n",
    "#senti_negative_encoded = pd.get_dummies(senti_negative,prefix='senti_negative', dummy_na=False)\n",
    "#senti_total_encoded = pd.get_dummies(senti_total,prefix='senti_total', dummy_na=False)\n"
   ]
  },
  {
   "cell_type": "code",
   "execution_count": 122,
   "metadata": {},
   "outputs": [],
   "source": [
    "#artist_name_encoded"
   ]
  },
  {
   "cell_type": "code",
   "execution_count": 114,
   "metadata": {},
   "outputs": [],
   "source": [
    "final_num=pd.DataFrame({'track_length':song_lyrics['track_length'],'compression_rate':compression_rate,'acousticness':acousticness,'danceability':danceability,'duration_ms':duration_ms,'energy':energy,'instrumentalness':instrumentalness,'liveness':liveness,'loudness':loudness,'speechiness':speechiness,'tempo':tempo, 'valence':valence,'senti_%+':senti_positive, 'senti_%=':senti_neutral,'senti_%-':senti_negative, 'senti_total':senti_total })\n"
   ]
  },
  {
   "cell_type": "code",
   "execution_count": 115,
   "metadata": {},
   "outputs": [
    {
     "data": {
      "text/html": [
       "<div>\n",
       "<style scoped>\n",
       "    .dataframe tbody tr th:only-of-type {\n",
       "        vertical-align: middle;\n",
       "    }\n",
       "\n",
       "    .dataframe tbody tr th {\n",
       "        vertical-align: top;\n",
       "    }\n",
       "\n",
       "    .dataframe thead th {\n",
       "        text-align: right;\n",
       "    }\n",
       "</style>\n",
       "<table border=\"1\" class=\"dataframe\">\n",
       "  <thead>\n",
       "    <tr style=\"text-align: right;\">\n",
       "      <th></th>\n",
       "      <th>track_length</th>\n",
       "      <th>compression_rate</th>\n",
       "      <th>acousticness</th>\n",
       "      <th>danceability</th>\n",
       "      <th>duration_ms</th>\n",
       "      <th>energy</th>\n",
       "      <th>instrumentalness</th>\n",
       "      <th>liveness</th>\n",
       "      <th>loudness</th>\n",
       "      <th>speechiness</th>\n",
       "      <th>tempo</th>\n",
       "      <th>valence</th>\n",
       "      <th>senti_%+</th>\n",
       "      <th>senti_%=</th>\n",
       "      <th>senti_%-</th>\n",
       "      <th>senti_total</th>\n",
       "    </tr>\n",
       "  </thead>\n",
       "  <tbody>\n",
       "    <tr>\n",
       "      <th>0</th>\n",
       "      <td>1</td>\n",
       "      <td>0.643378</td>\n",
       "      <td>0.607</td>\n",
       "      <td>0.614</td>\n",
       "      <td>258987</td>\n",
       "      <td>0.379</td>\n",
       "      <td>0.000464</td>\n",
       "      <td>0.0986</td>\n",
       "      <td>-10.480</td>\n",
       "      <td>0.0476</td>\n",
       "      <td>107.989</td>\n",
       "      <td>0.201</td>\n",
       "      <td>1.86916</td>\n",
       "      <td>96.5732</td>\n",
       "      <td>1.55763</td>\n",
       "      <td>1</td>\n",
       "    </tr>\n",
       "    <tr>\n",
       "      <th>1</th>\n",
       "      <td>1</td>\n",
       "      <td>0.637233</td>\n",
       "      <td>0.257</td>\n",
       "      <td>0.671</td>\n",
       "      <td>295893</td>\n",
       "      <td>0.373</td>\n",
       "      <td>0.000080</td>\n",
       "      <td>0.0481</td>\n",
       "      <td>-18.064</td>\n",
       "      <td>0.0323</td>\n",
       "      <td>92.717</td>\n",
       "      <td>0.732</td>\n",
       "      <td>0</td>\n",
       "      <td>100</td>\n",
       "      <td>0</td>\n",
       "      <td>0</td>\n",
       "    </tr>\n",
       "    <tr>\n",
       "      <th>2</th>\n",
       "      <td>2</td>\n",
       "      <td>0.572757</td>\n",
       "      <td>0.595</td>\n",
       "      <td>0.686</td>\n",
       "      <td>242187</td>\n",
       "      <td>0.457</td>\n",
       "      <td>0.000000</td>\n",
       "      <td>0.1050</td>\n",
       "      <td>-8.322</td>\n",
       "      <td>0.0468</td>\n",
       "      <td>150.953</td>\n",
       "      <td>0.718</td>\n",
       "      <td>4.22078</td>\n",
       "      <td>95.7792</td>\n",
       "      <td>0</td>\n",
       "      <td>13</td>\n",
       "    </tr>\n",
       "    <tr>\n",
       "      <th>3</th>\n",
       "      <td>3</td>\n",
       "      <td>0.623063</td>\n",
       "      <td>0.474</td>\n",
       "      <td>0.781</td>\n",
       "      <td>281560</td>\n",
       "      <td>0.445</td>\n",
       "      <td>0.000000</td>\n",
       "      <td>0.1840</td>\n",
       "      <td>-6.061</td>\n",
       "      <td>0.0295</td>\n",
       "      <td>78.998</td>\n",
       "      <td>0.591</td>\n",
       "      <td>4.90798</td>\n",
       "      <td>95.092</td>\n",
       "      <td>0</td>\n",
       "      <td>16</td>\n",
       "    </tr>\n",
       "    <tr>\n",
       "      <th>4</th>\n",
       "      <td>3</td>\n",
       "      <td>0.640961</td>\n",
       "      <td>0.588</td>\n",
       "      <td>0.418</td>\n",
       "      <td>172724</td>\n",
       "      <td>0.420</td>\n",
       "      <td>0.000064</td>\n",
       "      <td>0.1100</td>\n",
       "      <td>-6.444</td>\n",
       "      <td>0.0414</td>\n",
       "      <td>84.094</td>\n",
       "      <td>0.184</td>\n",
       "      <td>6.13497</td>\n",
       "      <td>93.2515</td>\n",
       "      <td>0.613497</td>\n",
       "      <td>9</td>\n",
       "    </tr>\n",
       "  </tbody>\n",
       "</table>\n",
       "</div>"
      ],
      "text/plain": [
       "   track_length  compression_rate  acousticness  danceability  duration_ms  \\\n",
       "0             1          0.643378         0.607         0.614       258987   \n",
       "1             1          0.637233         0.257         0.671       295893   \n",
       "2             2          0.572757         0.595         0.686       242187   \n",
       "3             3          0.623063         0.474         0.781       281560   \n",
       "4             3          0.640961         0.588         0.418       172724   \n",
       "\n",
       "   energy  instrumentalness  liveness  loudness  speechiness    tempo  \\\n",
       "0   0.379          0.000464    0.0986   -10.480       0.0476  107.989   \n",
       "1   0.373          0.000080    0.0481   -18.064       0.0323   92.717   \n",
       "2   0.457          0.000000    0.1050    -8.322       0.0468  150.953   \n",
       "3   0.445          0.000000    0.1840    -6.061       0.0295   78.998   \n",
       "4   0.420          0.000064    0.1100    -6.444       0.0414   84.094   \n",
       "\n",
       "   valence senti_%+ senti_%=  senti_%- senti_total  \n",
       "0    0.201  1.86916  96.5732   1.55763           1  \n",
       "1    0.732        0      100         0           0  \n",
       "2    0.718  4.22078  95.7792         0          13  \n",
       "3    0.591  4.90798   95.092         0          16  \n",
       "4    0.184  6.13497  93.2515  0.613497           9  "
      ]
     },
     "execution_count": 115,
     "metadata": {},
     "output_type": "execute_result"
    }
   ],
   "source": [
    "final_num.head()"
   ]
  },
  {
   "cell_type": "code",
   "execution_count": 116,
   "metadata": {},
   "outputs": [],
   "source": [
    "final_encode=pd.concat([key_encoded,mode_encoded,time_signature_encoded,genre_encoded,artist_name_encoded],axis=1)"
   ]
  },
  {
   "cell_type": "code",
   "execution_count": 117,
   "metadata": {},
   "outputs": [],
   "source": [
    "final=pd.concat([final_num,final_encode],axis=1)\n"
   ]
  },
  {
   "cell_type": "code",
   "execution_count": 118,
   "metadata": {},
   "outputs": [],
   "source": [
    "label=song_lyrics['label']"
   ]
  },
  {
   "cell_type": "code",
   "execution_count": 137,
   "metadata": {},
   "outputs": [],
   "source": [
    "from sklearn.model_selection import train_test_split\n",
    "xTrain, xTest, yTrain, yTest = train_test_split(final, label, test_size = 0.2, random_state = 1)"
   ]
  },
  {
   "cell_type": "code",
   "execution_count": 138,
   "metadata": {},
   "outputs": [
    {
     "data": {
      "text/plain": [
       "(1053,)"
      ]
     },
     "execution_count": 138,
     "metadata": {},
     "output_type": "execute_result"
    }
   ],
   "source": [
    "yTest.shape"
   ]
  },
  {
   "cell_type": "code",
   "execution_count": 139,
   "metadata": {},
   "outputs": [
    {
     "name": "stderr",
     "output_type": "stream",
     "text": [
      "C:\\ProgramData\\Anaconda3\\lib\\site-packages\\sklearn\\ensemble\\forest.py:245: FutureWarning: The default value of n_estimators will change from 10 in version 0.20 to 100 in 0.22.\n",
      "  \"10 in version 0.20 to 100 in 0.22.\", FutureWarning)\n"
     ]
    },
    {
     "name": "stdout",
     "output_type": "stream",
     "text": [
      "Accuracy: 0.5375118708452041\n"
     ]
    }
   ],
   "source": [
    "RFC_Model = RandomForestClassifier()\n",
    "RFC_Model.fit(xTrain, yTrain)\n",
    "RFC_Predict = RFC_Model.predict(xTest)\n",
    "RFC_Accuracy = accuracy_score(yTest, RFC_Predict)\n",
    "print(\"Accuracy: \" + str(RFC_Accuracy))\n",
    "\n",
    "#RFC_AUC = roc_auc_score(yTest, RFC_Predict) \n",
    "#print(\"AUC: \" + str(RFC_AUC))"
   ]
  },
  {
   "cell_type": "code",
   "execution_count": 141,
   "metadata": {},
   "outputs": [
    {
     "name": "stdout",
     "output_type": "stream",
     "text": [
      "Accuracy: 0.2858499525166192\n"
     ]
    }
   ],
   "source": [
    "KNN_Model = KNeighborsClassifier(n_neighbors=5)\n",
    "KNN_Model.fit(xTrain, yTrain)\n",
    "KNN_Predict = KNN_Model.predict(xTest)\n",
    "KNN_Accuracy = accuracy_score(yTest, KNN_Predict)\n",
    "print(\"Accuracy: \" + str(KNN_Accuracy))"
   ]
  },
  {
   "cell_type": "code",
   "execution_count": 142,
   "metadata": {},
   "outputs": [
    {
     "name": "stderr",
     "output_type": "stream",
     "text": [
      "C:\\ProgramData\\Anaconda3\\lib\\site-packages\\sklearn\\linear_model\\logistic.py:432: FutureWarning: Default solver will be changed to 'lbfgs' in 0.22. Specify a solver to silence this warning.\n",
      "  FutureWarning)\n",
      "C:\\ProgramData\\Anaconda3\\lib\\site-packages\\sklearn\\linear_model\\logistic.py:469: FutureWarning: Default multi_class will be changed to 'auto' in 0.22. Specify the multi_class option to silence this warning.\n",
      "  \"this warning.\", FutureWarning)\n"
     ]
    },
    {
     "name": "stdout",
     "output_type": "stream",
     "text": [
      "Accuracy: 0.3779677113010446\n"
     ]
    }
   ],
   "source": [
    "LR_Model = LogisticRegression()\n",
    "LR_Model.fit(xTrain, yTrain)\n",
    "LR_Predict = LR_Model.predict(xTest)\n",
    "LR_Accuracy = accuracy_score(yTest, LR_Predict)\n",
    "print(\"Accuracy: \" + str(LR_Accuracy))"
   ]
  },
  {
   "cell_type": "code",
   "execution_count": 146,
   "metadata": {},
   "outputs": [
    {
     "name": "stdout",
     "output_type": "stream",
     "text": [
      "Accuracy: 0.4881291547958215\n"
     ]
    }
   ],
   "source": [
    "from sklearn.ensemble import AdaBoostClassifier\n",
    "ada = AdaBoostClassifier(n_estimators=100)\n",
    "ada.fit(xTrain, yTrain)\n",
    "ada_pred = ada.predict(xTest)\n",
    "ada_Accuracy = accuracy_score(yTest, ada_pred)\n",
    "print(\"Accuracy: \" + str(ada_Accuracy))"
   ]
  },
  {
   "cell_type": "code",
   "execution_count": 147,
   "metadata": {},
   "outputs": [
    {
     "name": "stdout",
     "output_type": "stream",
     "text": [
      "Accuracy: 0.41595441595441596\n"
     ]
    }
   ],
   "source": [
    "from sklearn.naive_bayes import GaussianNB\n",
    "gnb = GaussianNB()\n",
    "nb_pred = gnb.fit(xTrain, yTrain).predict(xTest)\n",
    "nb_Accuracy = accuracy_score(yTest, nb_pred)\n",
    "print(\"Accuracy: \" + str(nb_Accuracy))"
   ]
  },
  {
   "cell_type": "code",
   "execution_count": null,
   "metadata": {},
   "outputs": [],
   "source": []
  }
 ],
 "metadata": {
  "kernelspec": {
   "display_name": "Python 3",
   "language": "python",
   "name": "python3"
  },
  "language_info": {
   "codemirror_mode": {
    "name": "ipython",
    "version": 3
   },
   "file_extension": ".py",
   "mimetype": "text/x-python",
   "name": "python",
   "nbconvert_exporter": "python",
   "pygments_lexer": "ipython3",
   "version": "3.7.3"
  }
 },
 "nbformat": 4,
 "nbformat_minor": 4
}
